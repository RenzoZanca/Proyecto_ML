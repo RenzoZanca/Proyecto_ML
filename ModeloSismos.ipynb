{
 "cells": [
  {
   "cell_type": "code",
   "execution_count": 2,
   "metadata": {
    "id": "GBS88Demna0K"
   },
   "outputs": [],
   "source": [
    "#Proyecto Machine Learning\n",
    "\n",
    "## Predicción de sismos\n",
    "\n",
    "#Integrantes:\n",
    "\n",
    "\n",
    "#*   Diego Acevedo\n",
    "#*   Sebastián Jana\n",
    "#*   Renzo Zanca"
   ]
  },
  {
   "cell_type": "markdown",
   "metadata": {
    "id": "P6JxLUhe3Jfr"
   },
   "source": [
    "# Análisis de datos"
   ]
  },
  {
   "cell_type": "code",
   "execution_count": 3,
   "metadata": {
    "id": "KsxIXBcSUhHS"
   },
   "outputs": [
    {
     "data": {
      "text/html": [
       "<div>\n",
       "<style scoped>\n",
       "    .dataframe tbody tr th:only-of-type {\n",
       "        vertical-align: middle;\n",
       "    }\n",
       "\n",
       "    .dataframe tbody tr th {\n",
       "        vertical-align: top;\n",
       "    }\n",
       "\n",
       "    .dataframe thead th {\n",
       "        text-align: right;\n",
       "    }\n",
       "</style>\n",
       "<table border=\"1\" class=\"dataframe\">\n",
       "  <thead>\n",
       "    <tr style=\"text-align: right;\">\n",
       "      <th></th>\n",
       "      <th>Unnamed: 0</th>\n",
       "      <th>Fecha local</th>\n",
       "      <th>Fecha UTC</th>\n",
       "      <th>Latitud</th>\n",
       "      <th>Longitud</th>\n",
       "      <th>Profundidad</th>\n",
       "      <th>Magnitud</th>\n",
       "      <th>Referencia</th>\n",
       "    </tr>\n",
       "  </thead>\n",
       "  <tbody>\n",
       "    <tr>\n",
       "      <th>0</th>\n",
       "      <td>0</td>\n",
       "      <td>2010-01-01 14:52:41</td>\n",
       "      <td>2010-01-01 17:52:41</td>\n",
       "      <td>-33.509</td>\n",
       "      <td>-70.096</td>\n",
       "      <td>110.1</td>\n",
       "      <td>4.1 Ml</td>\n",
       "      <td>27 km al SE de Farellones\\n</td>\n",
       "    </tr>\n",
       "    <tr>\n",
       "      <th>1</th>\n",
       "      <td>1</td>\n",
       "      <td>2010-01-01 13:59:23</td>\n",
       "      <td>2010-01-01 16:59:23</td>\n",
       "      <td>-32.667</td>\n",
       "      <td>-71.548</td>\n",
       "      <td>36.0</td>\n",
       "      <td>3.0 Ml</td>\n",
       "      <td>37 km al NO de Quillota \\n</td>\n",
       "    </tr>\n",
       "    <tr>\n",
       "      <th>2</th>\n",
       "      <td>2</td>\n",
       "      <td>2010-01-01 12:51:46</td>\n",
       "      <td>2010-01-01 15:51:46</td>\n",
       "      <td>-34.662</td>\n",
       "      <td>-70.852</td>\n",
       "      <td>97.8</td>\n",
       "      <td>3.8 Ml</td>\n",
       "      <td>15 km al SE de San Fernando\\n</td>\n",
       "    </tr>\n",
       "    <tr>\n",
       "      <th>3</th>\n",
       "      <td>3</td>\n",
       "      <td>2010-01-01 12:39:13</td>\n",
       "      <td>2010-01-01 15:39:13</td>\n",
       "      <td>-32.504</td>\n",
       "      <td>-71.517</td>\n",
       "      <td>36.1</td>\n",
       "      <td>3.1 Ml</td>\n",
       "      <td>27 km al O de La Ligua\\n</td>\n",
       "    </tr>\n",
       "    <tr>\n",
       "      <th>4</th>\n",
       "      <td>4</td>\n",
       "      <td>2010-01-01 12:11:28</td>\n",
       "      <td>2010-01-01 15:11:28</td>\n",
       "      <td>-21.223</td>\n",
       "      <td>-68.923</td>\n",
       "      <td>120.4</td>\n",
       "      <td>3.9 Ml</td>\n",
       "      <td>52 km al SO de Mina Collahuasi\\n</td>\n",
       "    </tr>\n",
       "  </tbody>\n",
       "</table>\n",
       "</div>"
      ],
      "text/plain": [
       "   Unnamed: 0          Fecha local            Fecha UTC  Latitud  Longitud  \\\n",
       "0           0  2010-01-01 14:52:41  2010-01-01 17:52:41  -33.509   -70.096   \n",
       "1           1  2010-01-01 13:59:23  2010-01-01 16:59:23  -32.667   -71.548   \n",
       "2           2  2010-01-01 12:51:46  2010-01-01 15:51:46  -34.662   -70.852   \n",
       "3           3  2010-01-01 12:39:13  2010-01-01 15:39:13  -32.504   -71.517   \n",
       "4           4  2010-01-01 12:11:28  2010-01-01 15:11:28  -21.223   -68.923   \n",
       "\n",
       "   Profundidad Magnitud                                         Referencia  \n",
       "0        110.1   4.1 Ml        27 km al SE de Farellones\\n                  \n",
       "1         36.0   3.0 Ml         37 km al NO de Quillota \\n                  \n",
       "2         97.8   3.8 Ml      15 km al SE de San Fernando\\n                  \n",
       "3         36.1   3.1 Ml           27 km al O de La Ligua\\n                  \n",
       "4        120.4   3.9 Ml   52 km al SO de Mina Collahuasi\\n                  "
      ]
     },
     "execution_count": 3,
     "metadata": {},
     "output_type": "execute_result"
    }
   ],
   "source": [
    "import datetime as dt\n",
    "import numpy as np\n",
    "import pandas as pd\n",
    "import matplotlib.pyplot as plt\n",
    "from dateutil.relativedelta import relativedelta\n",
    "ruta = \"sismos2.csv\"\n",
    "df = pd.read_csv(ruta)\n",
    "df.head()"
   ]
  },
  {
   "cell_type": "markdown",
   "metadata": {
    "id": "Nipd_aim3QxS"
   },
   "source": [
    "Limpieza de columnas"
   ]
  },
  {
   "cell_type": "code",
   "execution_count": 4,
   "metadata": {
    "id": "P8fqToarVJQa"
   },
   "outputs": [],
   "source": [
    "del df['Unnamed: 0']\n",
    "del df['Fecha UTC']\n",
    "del df['Referencia']"
   ]
  },
  {
   "cell_type": "code",
   "execution_count": 5,
   "metadata": {
    "id": "GXe4ePC8VgKf"
   },
   "outputs": [
    {
     "data": {
      "text/html": [
       "<div>\n",
       "<style scoped>\n",
       "    .dataframe tbody tr th:only-of-type {\n",
       "        vertical-align: middle;\n",
       "    }\n",
       "\n",
       "    .dataframe tbody tr th {\n",
       "        vertical-align: top;\n",
       "    }\n",
       "\n",
       "    .dataframe thead th {\n",
       "        text-align: right;\n",
       "    }\n",
       "</style>\n",
       "<table border=\"1\" class=\"dataframe\">\n",
       "  <thead>\n",
       "    <tr style=\"text-align: right;\">\n",
       "      <th></th>\n",
       "      <th>Fecha local</th>\n",
       "      <th>Latitud</th>\n",
       "      <th>Longitud</th>\n",
       "      <th>Profundidad</th>\n",
       "      <th>Magnitud</th>\n",
       "    </tr>\n",
       "  </thead>\n",
       "  <tbody>\n",
       "    <tr>\n",
       "      <th>0</th>\n",
       "      <td>2010-01-01 14:52:41</td>\n",
       "      <td>-33.509</td>\n",
       "      <td>-70.096</td>\n",
       "      <td>110.1</td>\n",
       "      <td>4.1</td>\n",
       "    </tr>\n",
       "    <tr>\n",
       "      <th>1</th>\n",
       "      <td>2010-01-01 13:59:23</td>\n",
       "      <td>-32.667</td>\n",
       "      <td>-71.548</td>\n",
       "      <td>36.0</td>\n",
       "      <td>3.0</td>\n",
       "    </tr>\n",
       "    <tr>\n",
       "      <th>2</th>\n",
       "      <td>2010-01-01 12:51:46</td>\n",
       "      <td>-34.662</td>\n",
       "      <td>-70.852</td>\n",
       "      <td>97.8</td>\n",
       "      <td>3.8</td>\n",
       "    </tr>\n",
       "    <tr>\n",
       "      <th>3</th>\n",
       "      <td>2010-01-01 12:39:13</td>\n",
       "      <td>-32.504</td>\n",
       "      <td>-71.517</td>\n",
       "      <td>36.1</td>\n",
       "      <td>3.1</td>\n",
       "    </tr>\n",
       "    <tr>\n",
       "      <th>4</th>\n",
       "      <td>2010-01-01 12:11:28</td>\n",
       "      <td>-21.223</td>\n",
       "      <td>-68.923</td>\n",
       "      <td>120.4</td>\n",
       "      <td>3.9</td>\n",
       "    </tr>\n",
       "  </tbody>\n",
       "</table>\n",
       "</div>"
      ],
      "text/plain": [
       "           Fecha local  Latitud  Longitud  Profundidad Magnitud\n",
       "0  2010-01-01 14:52:41  -33.509   -70.096        110.1      4.1\n",
       "1  2010-01-01 13:59:23  -32.667   -71.548         36.0      3.0\n",
       "2  2010-01-01 12:51:46  -34.662   -70.852         97.8      3.8\n",
       "3  2010-01-01 12:39:13  -32.504   -71.517         36.1      3.1\n",
       "4  2010-01-01 12:11:28  -21.223   -68.923        120.4      3.9"
      ]
     },
     "execution_count": 5,
     "metadata": {},
     "output_type": "execute_result"
    }
   ],
   "source": [
    "df['Magnitud'] = df['Magnitud'].str.replace(' Ml', '')\n",
    "df['Magnitud'] = df['Magnitud'].str.replace(' Mb', '')\n",
    "df['Magnitud'] = df['Magnitud'].str.replace(' Mw', '')\n",
    "df['Magnitud'] = df['Magnitud'].str.replace(' Ms', '')\n",
    "df['Magnitud'] = df['Magnitud'].str.replace('w', '')\n",
    "df['Magnitud'] = df['Magnitud'].str.replace(' M', '')\n",
    "df.head()"
   ]
  },
  {
   "cell_type": "code",
   "execution_count": 6,
   "metadata": {
    "id": "aJb3vfHpZUy4"
   },
   "outputs": [
    {
     "data": {
      "text/plain": [
       "Fecha local     object\n",
       "Latitud        float64\n",
       "Longitud       float64\n",
       "Profundidad    float64\n",
       "Magnitud        object\n",
       "dtype: object"
      ]
     },
     "execution_count": 6,
     "metadata": {},
     "output_type": "execute_result"
    }
   ],
   "source": [
    "df.dtypes"
   ]
  },
  {
   "cell_type": "code",
   "execution_count": 7,
   "metadata": {
    "id": "ehC6DFETZZwm"
   },
   "outputs": [
    {
     "data": {
      "text/plain": [
       "Fecha local     object\n",
       "Latitud        float64\n",
       "Longitud       float64\n",
       "Profundidad    float64\n",
       "Magnitud       float64\n",
       "dtype: object"
      ]
     },
     "execution_count": 7,
     "metadata": {},
     "output_type": "execute_result"
    }
   ],
   "source": [
    "df['Magnitud'] = pd.to_numeric(df['Magnitud'])\n",
    "df.dtypes"
   ]
  },
  {
   "cell_type": "code",
   "execution_count": 8,
   "metadata": {
    "id": "3AHMfBzeXhRu"
   },
   "outputs": [
    {
     "data": {
      "text/html": [
       "<div>\n",
       "<style scoped>\n",
       "    .dataframe tbody tr th:only-of-type {\n",
       "        vertical-align: middle;\n",
       "    }\n",
       "\n",
       "    .dataframe tbody tr th {\n",
       "        vertical-align: top;\n",
       "    }\n",
       "\n",
       "    .dataframe thead th {\n",
       "        text-align: right;\n",
       "    }\n",
       "</style>\n",
       "<table border=\"1\" class=\"dataframe\">\n",
       "  <thead>\n",
       "    <tr style=\"text-align: right;\">\n",
       "      <th></th>\n",
       "      <th>Fecha local</th>\n",
       "      <th>Latitud</th>\n",
       "      <th>Longitud</th>\n",
       "      <th>Profundidad</th>\n",
       "      <th>Magnitud</th>\n",
       "    </tr>\n",
       "  </thead>\n",
       "  <tbody>\n",
       "    <tr>\n",
       "      <th>count</th>\n",
       "      <td>81509</td>\n",
       "      <td>81509.000000</td>\n",
       "      <td>81509.000000</td>\n",
       "      <td>81509.000000</td>\n",
       "      <td>81509.000000</td>\n",
       "    </tr>\n",
       "    <tr>\n",
       "      <th>unique</th>\n",
       "      <td>81411</td>\n",
       "      <td>NaN</td>\n",
       "      <td>NaN</td>\n",
       "      <td>NaN</td>\n",
       "      <td>NaN</td>\n",
       "    </tr>\n",
       "    <tr>\n",
       "      <th>top</th>\n",
       "      <td>2012-02-09 16:23:59</td>\n",
       "      <td>NaN</td>\n",
       "      <td>NaN</td>\n",
       "      <td>NaN</td>\n",
       "      <td>NaN</td>\n",
       "    </tr>\n",
       "    <tr>\n",
       "      <th>freq</th>\n",
       "      <td>2</td>\n",
       "      <td>NaN</td>\n",
       "      <td>NaN</td>\n",
       "      <td>NaN</td>\n",
       "      <td>NaN</td>\n",
       "    </tr>\n",
       "    <tr>\n",
       "      <th>mean</th>\n",
       "      <td>NaN</td>\n",
       "      <td>-27.428315</td>\n",
       "      <td>-70.365318</td>\n",
       "      <td>78.985913</td>\n",
       "      <td>3.260884</td>\n",
       "    </tr>\n",
       "    <tr>\n",
       "      <th>std</th>\n",
       "      <td>NaN</td>\n",
       "      <td>6.659089</td>\n",
       "      <td>2.035417</td>\n",
       "      <td>60.374846</td>\n",
       "      <td>0.646851</td>\n",
       "    </tr>\n",
       "    <tr>\n",
       "      <th>min</th>\n",
       "      <td>NaN</td>\n",
       "      <td>-63.206000</td>\n",
       "      <td>-125.400000</td>\n",
       "      <td>0.000000</td>\n",
       "      <td>1.000000</td>\n",
       "    </tr>\n",
       "    <tr>\n",
       "      <th>25%</th>\n",
       "      <td>NaN</td>\n",
       "      <td>-32.792000</td>\n",
       "      <td>-71.759000</td>\n",
       "      <td>32.100000</td>\n",
       "      <td>2.800000</td>\n",
       "    </tr>\n",
       "    <tr>\n",
       "      <th>50%</th>\n",
       "      <td>NaN</td>\n",
       "      <td>-26.799000</td>\n",
       "      <td>-70.509000</td>\n",
       "      <td>57.000000</td>\n",
       "      <td>3.100000</td>\n",
       "    </tr>\n",
       "    <tr>\n",
       "      <th>75%</th>\n",
       "      <td>NaN</td>\n",
       "      <td>-21.389000</td>\n",
       "      <td>-68.921000</td>\n",
       "      <td>112.500000</td>\n",
       "      <td>3.600000</td>\n",
       "    </tr>\n",
       "    <tr>\n",
       "      <th>max</th>\n",
       "      <td>NaN</td>\n",
       "      <td>-10.530000</td>\n",
       "      <td>-14.607000</td>\n",
       "      <td>659.600000</td>\n",
       "      <td>8.800000</td>\n",
       "    </tr>\n",
       "  </tbody>\n",
       "</table>\n",
       "</div>"
      ],
      "text/plain": [
       "                Fecha local       Latitud      Longitud   Profundidad  \\\n",
       "count                 81509  81509.000000  81509.000000  81509.000000   \n",
       "unique                81411           NaN           NaN           NaN   \n",
       "top     2012-02-09 16:23:59           NaN           NaN           NaN   \n",
       "freq                      2           NaN           NaN           NaN   \n",
       "mean                    NaN    -27.428315    -70.365318     78.985913   \n",
       "std                     NaN      6.659089      2.035417     60.374846   \n",
       "min                     NaN    -63.206000   -125.400000      0.000000   \n",
       "25%                     NaN    -32.792000    -71.759000     32.100000   \n",
       "50%                     NaN    -26.799000    -70.509000     57.000000   \n",
       "75%                     NaN    -21.389000    -68.921000    112.500000   \n",
       "max                     NaN    -10.530000    -14.607000    659.600000   \n",
       "\n",
       "            Magnitud  \n",
       "count   81509.000000  \n",
       "unique           NaN  \n",
       "top              NaN  \n",
       "freq             NaN  \n",
       "mean        3.260884  \n",
       "std         0.646851  \n",
       "min         1.000000  \n",
       "25%         2.800000  \n",
       "50%         3.100000  \n",
       "75%         3.600000  \n",
       "max         8.800000  "
      ]
     },
     "execution_count": 8,
     "metadata": {},
     "output_type": "execute_result"
    }
   ],
   "source": [
    "df.describe(include='all')"
   ]
  },
  {
   "cell_type": "code",
   "execution_count": 9,
   "metadata": {
    "id": "-mEdw1nFXs-C"
   },
   "outputs": [
    {
     "data": {
      "text/html": [
       "<div>\n",
       "<style scoped>\n",
       "    .dataframe tbody tr th:only-of-type {\n",
       "        vertical-align: middle;\n",
       "    }\n",
       "\n",
       "    .dataframe tbody tr th {\n",
       "        vertical-align: top;\n",
       "    }\n",
       "\n",
       "    .dataframe thead th {\n",
       "        text-align: right;\n",
       "    }\n",
       "</style>\n",
       "<table border=\"1\" class=\"dataframe\">\n",
       "  <thead>\n",
       "    <tr style=\"text-align: right;\">\n",
       "      <th></th>\n",
       "      <th>Fecha local</th>\n",
       "      <th>Latitud</th>\n",
       "      <th>Longitud</th>\n",
       "      <th>Profundidad</th>\n",
       "      <th>Magnitud</th>\n",
       "    </tr>\n",
       "  </thead>\n",
       "  <tbody>\n",
       "    <tr>\n",
       "      <th>65378</th>\n",
       "      <td>2019-10-01 00:55:52</td>\n",
       "      <td>-55.89</td>\n",
       "      <td>-125.4</td>\n",
       "      <td>10.0</td>\n",
       "      <td>5.4</td>\n",
       "    </tr>\n",
       "  </tbody>\n",
       "</table>\n",
       "</div>"
      ],
      "text/plain": [
       "               Fecha local  Latitud  Longitud  Profundidad  Magnitud\n",
       "65378  2019-10-01 00:55:52   -55.89    -125.4         10.0       5.4"
      ]
     },
     "execution_count": 9,
     "metadata": {},
     "output_type": "execute_result"
    }
   ],
   "source": [
    "df[df['Longitud']==-125.4]"
   ]
  },
  {
   "cell_type": "code",
   "execution_count": 10,
   "metadata": {
    "id": "dLsEBUf-bJ9p"
   },
   "outputs": [
    {
     "data": {
      "text/html": [
       "<div>\n",
       "<style scoped>\n",
       "    .dataframe tbody tr th:only-of-type {\n",
       "        vertical-align: middle;\n",
       "    }\n",
       "\n",
       "    .dataframe tbody tr th {\n",
       "        vertical-align: top;\n",
       "    }\n",
       "\n",
       "    .dataframe thead th {\n",
       "        text-align: right;\n",
       "    }\n",
       "</style>\n",
       "<table border=\"1\" class=\"dataframe\">\n",
       "  <thead>\n",
       "    <tr style=\"text-align: right;\">\n",
       "      <th></th>\n",
       "      <th>Fecha local</th>\n",
       "      <th>Latitud</th>\n",
       "      <th>Longitud</th>\n",
       "      <th>Profundidad</th>\n",
       "      <th>Magnitud</th>\n",
       "    </tr>\n",
       "  </thead>\n",
       "  <tbody>\n",
       "    <tr>\n",
       "      <th>385</th>\n",
       "      <td>2010-02-27 03:34:08</td>\n",
       "      <td>-36.29</td>\n",
       "      <td>-73.239</td>\n",
       "      <td>30.1</td>\n",
       "      <td>8.8</td>\n",
       "    </tr>\n",
       "  </tbody>\n",
       "</table>\n",
       "</div>"
      ],
      "text/plain": [
       "             Fecha local  Latitud  Longitud  Profundidad  Magnitud\n",
       "385  2010-02-27 03:34:08   -36.29   -73.239         30.1       8.8"
      ]
     },
     "execution_count": 10,
     "metadata": {},
     "output_type": "execute_result"
    }
   ],
   "source": [
    "df[df['Magnitud']==8.8]"
   ]
  },
  {
   "cell_type": "markdown",
   "metadata": {
    "id": "8ajJbb6y3YOk"
   },
   "source": [
    "Se agregan las columnas Fecha, Region, Intensidades (Leve, Medio, Fuerte) y Profundidad (Superficial, Intermedio, Profundo)"
   ]
  },
  {
   "cell_type": "code",
   "execution_count": 11,
   "metadata": {
    "id": "yl84EUwHqwsj"
   },
   "outputs": [
    {
     "data": {
      "text/html": [
       "<div>\n",
       "<style scoped>\n",
       "    .dataframe tbody tr th:only-of-type {\n",
       "        vertical-align: middle;\n",
       "    }\n",
       "\n",
       "    .dataframe tbody tr th {\n",
       "        vertical-align: top;\n",
       "    }\n",
       "\n",
       "    .dataframe thead th {\n",
       "        text-align: right;\n",
       "    }\n",
       "</style>\n",
       "<table border=\"1\" class=\"dataframe\">\n",
       "  <thead>\n",
       "    <tr style=\"text-align: right;\">\n",
       "      <th></th>\n",
       "      <th>Fecha local</th>\n",
       "      <th>Latitud</th>\n",
       "      <th>Longitud</th>\n",
       "      <th>Profundidad</th>\n",
       "      <th>Magnitud</th>\n",
       "      <th>Fecha</th>\n",
       "    </tr>\n",
       "  </thead>\n",
       "  <tbody>\n",
       "    <tr>\n",
       "      <th>0</th>\n",
       "      <td>2010-01-01 14:52:41</td>\n",
       "      <td>-33.509</td>\n",
       "      <td>-70.096</td>\n",
       "      <td>110.1</td>\n",
       "      <td>4.1</td>\n",
       "      <td>NaN</td>\n",
       "    </tr>\n",
       "    <tr>\n",
       "      <th>1</th>\n",
       "      <td>2010-01-01 13:59:23</td>\n",
       "      <td>-32.667</td>\n",
       "      <td>-71.548</td>\n",
       "      <td>36.0</td>\n",
       "      <td>3.0</td>\n",
       "      <td>NaN</td>\n",
       "    </tr>\n",
       "    <tr>\n",
       "      <th>2</th>\n",
       "      <td>2010-01-01 12:51:46</td>\n",
       "      <td>-34.662</td>\n",
       "      <td>-70.852</td>\n",
       "      <td>97.8</td>\n",
       "      <td>3.8</td>\n",
       "      <td>NaN</td>\n",
       "    </tr>\n",
       "    <tr>\n",
       "      <th>3</th>\n",
       "      <td>2010-01-01 12:39:13</td>\n",
       "      <td>-32.504</td>\n",
       "      <td>-71.517</td>\n",
       "      <td>36.1</td>\n",
       "      <td>3.1</td>\n",
       "      <td>NaN</td>\n",
       "    </tr>\n",
       "    <tr>\n",
       "      <th>4</th>\n",
       "      <td>2010-01-01 12:11:28</td>\n",
       "      <td>-21.223</td>\n",
       "      <td>-68.923</td>\n",
       "      <td>120.4</td>\n",
       "      <td>3.9</td>\n",
       "      <td>NaN</td>\n",
       "    </tr>\n",
       "  </tbody>\n",
       "</table>\n",
       "</div>"
      ],
      "text/plain": [
       "           Fecha local  Latitud  Longitud  Profundidad  Magnitud  Fecha\n",
       "0  2010-01-01 14:52:41  -33.509   -70.096        110.1       4.1    NaN\n",
       "1  2010-01-01 13:59:23  -32.667   -71.548         36.0       3.0    NaN\n",
       "2  2010-01-01 12:51:46  -34.662   -70.852         97.8       3.8    NaN\n",
       "3  2010-01-01 12:39:13  -32.504   -71.517         36.1       3.1    NaN\n",
       "4  2010-01-01 12:11:28  -21.223   -68.923        120.4       3.9    NaN"
      ]
     },
     "execution_count": 11,
     "metadata": {},
     "output_type": "execute_result"
    }
   ],
   "source": [
    "df['Fecha'] = np.nan\n",
    "df.head()"
   ]
  },
  {
   "cell_type": "code",
   "execution_count": 12,
   "metadata": {
    "id": "mvgqSn0Aq7a7"
   },
   "outputs": [
    {
     "data": {
      "text/html": [
       "<div>\n",
       "<style scoped>\n",
       "    .dataframe tbody tr th:only-of-type {\n",
       "        vertical-align: middle;\n",
       "    }\n",
       "\n",
       "    .dataframe tbody tr th {\n",
       "        vertical-align: top;\n",
       "    }\n",
       "\n",
       "    .dataframe thead th {\n",
       "        text-align: right;\n",
       "    }\n",
       "</style>\n",
       "<table border=\"1\" class=\"dataframe\">\n",
       "  <thead>\n",
       "    <tr style=\"text-align: right;\">\n",
       "      <th></th>\n",
       "      <th>Fecha local</th>\n",
       "      <th>Latitud</th>\n",
       "      <th>Longitud</th>\n",
       "      <th>Profundidad</th>\n",
       "      <th>Magnitud</th>\n",
       "      <th>Fecha</th>\n",
       "    </tr>\n",
       "  </thead>\n",
       "  <tbody>\n",
       "    <tr>\n",
       "      <th>0</th>\n",
       "      <td>2010-01-01 14:52:41</td>\n",
       "      <td>-33.509</td>\n",
       "      <td>-70.096</td>\n",
       "      <td>110.1</td>\n",
       "      <td>4.1</td>\n",
       "      <td>2010-01-01</td>\n",
       "    </tr>\n",
       "    <tr>\n",
       "      <th>1</th>\n",
       "      <td>2010-01-01 13:59:23</td>\n",
       "      <td>-32.667</td>\n",
       "      <td>-71.548</td>\n",
       "      <td>36.0</td>\n",
       "      <td>3.0</td>\n",
       "      <td>2010-01-01</td>\n",
       "    </tr>\n",
       "    <tr>\n",
       "      <th>2</th>\n",
       "      <td>2010-01-01 12:51:46</td>\n",
       "      <td>-34.662</td>\n",
       "      <td>-70.852</td>\n",
       "      <td>97.8</td>\n",
       "      <td>3.8</td>\n",
       "      <td>2010-01-01</td>\n",
       "    </tr>\n",
       "    <tr>\n",
       "      <th>3</th>\n",
       "      <td>2010-01-01 12:39:13</td>\n",
       "      <td>-32.504</td>\n",
       "      <td>-71.517</td>\n",
       "      <td>36.1</td>\n",
       "      <td>3.1</td>\n",
       "      <td>2010-01-01</td>\n",
       "    </tr>\n",
       "    <tr>\n",
       "      <th>4</th>\n",
       "      <td>2010-01-01 12:11:28</td>\n",
       "      <td>-21.223</td>\n",
       "      <td>-68.923</td>\n",
       "      <td>120.4</td>\n",
       "      <td>3.9</td>\n",
       "      <td>2010-01-01</td>\n",
       "    </tr>\n",
       "  </tbody>\n",
       "</table>\n",
       "</div>"
      ],
      "text/plain": [
       "           Fecha local  Latitud  Longitud  Profundidad  Magnitud       Fecha\n",
       "0  2010-01-01 14:52:41  -33.509   -70.096        110.1       4.1  2010-01-01\n",
       "1  2010-01-01 13:59:23  -32.667   -71.548         36.0       3.0  2010-01-01\n",
       "2  2010-01-01 12:51:46  -34.662   -70.852         97.8       3.8  2010-01-01\n",
       "3  2010-01-01 12:39:13  -32.504   -71.517         36.1       3.1  2010-01-01\n",
       "4  2010-01-01 12:11:28  -21.223   -68.923        120.4       3.9  2010-01-01"
      ]
     },
     "execution_count": 12,
     "metadata": {},
     "output_type": "execute_result"
    }
   ],
   "source": [
    "for indice, fila in df.iterrows():\n",
    "  x=fila['Fecha local']\n",
    "  date_time=dt.datetime.strptime(x, '%Y-%m-%d %H:%M:%S')\n",
    "  date=dt.date(date_time.year,date_time.month,date_time.day)\n",
    "  df.loc[indice,['Fecha']] = date\n",
    "df.head()"
   ]
  },
  {
   "cell_type": "code",
   "execution_count": 13,
   "metadata": {
    "id": "Lgf-DXXAxrRs"
   },
   "outputs": [
    {
     "data": {
      "text/html": [
       "<div>\n",
       "<style scoped>\n",
       "    .dataframe tbody tr th:only-of-type {\n",
       "        vertical-align: middle;\n",
       "    }\n",
       "\n",
       "    .dataframe tbody tr th {\n",
       "        vertical-align: top;\n",
       "    }\n",
       "\n",
       "    .dataframe thead th {\n",
       "        text-align: right;\n",
       "    }\n",
       "</style>\n",
       "<table border=\"1\" class=\"dataframe\">\n",
       "  <thead>\n",
       "    <tr style=\"text-align: right;\">\n",
       "      <th></th>\n",
       "      <th>Fecha local</th>\n",
       "      <th>Latitud</th>\n",
       "      <th>Longitud</th>\n",
       "      <th>Profundidad</th>\n",
       "      <th>Magnitud</th>\n",
       "      <th>Fecha</th>\n",
       "      <th>Leve</th>\n",
       "      <th>Medio</th>\n",
       "      <th>Fuerte</th>\n",
       "    </tr>\n",
       "  </thead>\n",
       "  <tbody>\n",
       "    <tr>\n",
       "      <th>0</th>\n",
       "      <td>2010-01-01 14:52:41</td>\n",
       "      <td>-33.509</td>\n",
       "      <td>-70.096</td>\n",
       "      <td>110.1</td>\n",
       "      <td>4.1</td>\n",
       "      <td>2010-01-01</td>\n",
       "      <td>NaN</td>\n",
       "      <td>NaN</td>\n",
       "      <td>NaN</td>\n",
       "    </tr>\n",
       "    <tr>\n",
       "      <th>1</th>\n",
       "      <td>2010-01-01 13:59:23</td>\n",
       "      <td>-32.667</td>\n",
       "      <td>-71.548</td>\n",
       "      <td>36.0</td>\n",
       "      <td>3.0</td>\n",
       "      <td>2010-01-01</td>\n",
       "      <td>NaN</td>\n",
       "      <td>NaN</td>\n",
       "      <td>NaN</td>\n",
       "    </tr>\n",
       "    <tr>\n",
       "      <th>2</th>\n",
       "      <td>2010-01-01 12:51:46</td>\n",
       "      <td>-34.662</td>\n",
       "      <td>-70.852</td>\n",
       "      <td>97.8</td>\n",
       "      <td>3.8</td>\n",
       "      <td>2010-01-01</td>\n",
       "      <td>NaN</td>\n",
       "      <td>NaN</td>\n",
       "      <td>NaN</td>\n",
       "    </tr>\n",
       "    <tr>\n",
       "      <th>3</th>\n",
       "      <td>2010-01-01 12:39:13</td>\n",
       "      <td>-32.504</td>\n",
       "      <td>-71.517</td>\n",
       "      <td>36.1</td>\n",
       "      <td>3.1</td>\n",
       "      <td>2010-01-01</td>\n",
       "      <td>NaN</td>\n",
       "      <td>NaN</td>\n",
       "      <td>NaN</td>\n",
       "    </tr>\n",
       "    <tr>\n",
       "      <th>4</th>\n",
       "      <td>2010-01-01 12:11:28</td>\n",
       "      <td>-21.223</td>\n",
       "      <td>-68.923</td>\n",
       "      <td>120.4</td>\n",
       "      <td>3.9</td>\n",
       "      <td>2010-01-01</td>\n",
       "      <td>NaN</td>\n",
       "      <td>NaN</td>\n",
       "      <td>NaN</td>\n",
       "    </tr>\n",
       "  </tbody>\n",
       "</table>\n",
       "</div>"
      ],
      "text/plain": [
       "           Fecha local  Latitud  Longitud  Profundidad  Magnitud       Fecha  \\\n",
       "0  2010-01-01 14:52:41  -33.509   -70.096        110.1       4.1  2010-01-01   \n",
       "1  2010-01-01 13:59:23  -32.667   -71.548         36.0       3.0  2010-01-01   \n",
       "2  2010-01-01 12:51:46  -34.662   -70.852         97.8       3.8  2010-01-01   \n",
       "3  2010-01-01 12:39:13  -32.504   -71.517         36.1       3.1  2010-01-01   \n",
       "4  2010-01-01 12:11:28  -21.223   -68.923        120.4       3.9  2010-01-01   \n",
       "\n",
       "   Leve  Medio  Fuerte  \n",
       "0   NaN    NaN     NaN  \n",
       "1   NaN    NaN     NaN  \n",
       "2   NaN    NaN     NaN  \n",
       "3   NaN    NaN     NaN  \n",
       "4   NaN    NaN     NaN  "
      ]
     },
     "execution_count": 13,
     "metadata": {},
     "output_type": "execute_result"
    }
   ],
   "source": [
    "df['Leve'] = np.nan\n",
    "df['Medio'] = np.nan\n",
    "df['Fuerte'] = np.nan\n",
    "df.head()"
   ]
  },
  {
   "cell_type": "code",
   "execution_count": 14,
   "metadata": {
    "id": "6HbG1_Eqxvpr"
   },
   "outputs": [
    {
     "data": {
      "text/html": [
       "<div>\n",
       "<style scoped>\n",
       "    .dataframe tbody tr th:only-of-type {\n",
       "        vertical-align: middle;\n",
       "    }\n",
       "\n",
       "    .dataframe tbody tr th {\n",
       "        vertical-align: top;\n",
       "    }\n",
       "\n",
       "    .dataframe thead th {\n",
       "        text-align: right;\n",
       "    }\n",
       "</style>\n",
       "<table border=\"1\" class=\"dataframe\">\n",
       "  <thead>\n",
       "    <tr style=\"text-align: right;\">\n",
       "      <th></th>\n",
       "      <th>Fecha local</th>\n",
       "      <th>Latitud</th>\n",
       "      <th>Longitud</th>\n",
       "      <th>Profundidad</th>\n",
       "      <th>Magnitud</th>\n",
       "      <th>Fecha</th>\n",
       "      <th>Leve</th>\n",
       "      <th>Medio</th>\n",
       "      <th>Fuerte</th>\n",
       "    </tr>\n",
       "  </thead>\n",
       "  <tbody>\n",
       "    <tr>\n",
       "      <th>0</th>\n",
       "      <td>2010-01-01 14:52:41</td>\n",
       "      <td>-33.509</td>\n",
       "      <td>-70.096</td>\n",
       "      <td>110.1</td>\n",
       "      <td>4.1</td>\n",
       "      <td>2010-01-01</td>\n",
       "      <td>0.0</td>\n",
       "      <td>1.0</td>\n",
       "      <td>0.0</td>\n",
       "    </tr>\n",
       "    <tr>\n",
       "      <th>1</th>\n",
       "      <td>2010-01-01 13:59:23</td>\n",
       "      <td>-32.667</td>\n",
       "      <td>-71.548</td>\n",
       "      <td>36.0</td>\n",
       "      <td>3.0</td>\n",
       "      <td>2010-01-01</td>\n",
       "      <td>1.0</td>\n",
       "      <td>0.0</td>\n",
       "      <td>0.0</td>\n",
       "    </tr>\n",
       "    <tr>\n",
       "      <th>2</th>\n",
       "      <td>2010-01-01 12:51:46</td>\n",
       "      <td>-34.662</td>\n",
       "      <td>-70.852</td>\n",
       "      <td>97.8</td>\n",
       "      <td>3.8</td>\n",
       "      <td>2010-01-01</td>\n",
       "      <td>1.0</td>\n",
       "      <td>0.0</td>\n",
       "      <td>0.0</td>\n",
       "    </tr>\n",
       "    <tr>\n",
       "      <th>3</th>\n",
       "      <td>2010-01-01 12:39:13</td>\n",
       "      <td>-32.504</td>\n",
       "      <td>-71.517</td>\n",
       "      <td>36.1</td>\n",
       "      <td>3.1</td>\n",
       "      <td>2010-01-01</td>\n",
       "      <td>1.0</td>\n",
       "      <td>0.0</td>\n",
       "      <td>0.0</td>\n",
       "    </tr>\n",
       "    <tr>\n",
       "      <th>4</th>\n",
       "      <td>2010-01-01 12:11:28</td>\n",
       "      <td>-21.223</td>\n",
       "      <td>-68.923</td>\n",
       "      <td>120.4</td>\n",
       "      <td>3.9</td>\n",
       "      <td>2010-01-01</td>\n",
       "      <td>1.0</td>\n",
       "      <td>0.0</td>\n",
       "      <td>0.0</td>\n",
       "    </tr>\n",
       "  </tbody>\n",
       "</table>\n",
       "</div>"
      ],
      "text/plain": [
       "           Fecha local  Latitud  Longitud  Profundidad  Magnitud       Fecha  \\\n",
       "0  2010-01-01 14:52:41  -33.509   -70.096        110.1       4.1  2010-01-01   \n",
       "1  2010-01-01 13:59:23  -32.667   -71.548         36.0       3.0  2010-01-01   \n",
       "2  2010-01-01 12:51:46  -34.662   -70.852         97.8       3.8  2010-01-01   \n",
       "3  2010-01-01 12:39:13  -32.504   -71.517         36.1       3.1  2010-01-01   \n",
       "4  2010-01-01 12:11:28  -21.223   -68.923        120.4       3.9  2010-01-01   \n",
       "\n",
       "   Leve  Medio  Fuerte  \n",
       "0   0.0    1.0     0.0  \n",
       "1   1.0    0.0     0.0  \n",
       "2   1.0    0.0     0.0  \n",
       "3   1.0    0.0     0.0  \n",
       "4   1.0    0.0     0.0  "
      ]
     },
     "execution_count": 14,
     "metadata": {},
     "output_type": "execute_result"
    }
   ],
   "source": [
    "for indice, fila in df.iterrows():\n",
    "  if fila['Magnitud'] < 4:\n",
    "    df.loc[indice,['Leve']] = 1\n",
    "    df.loc[indice,['Medio']] = 0\n",
    "    df.loc[indice,['Fuerte']] = 0\n",
    "  elif fila['Magnitud'] < 6:\n",
    "    df.loc[indice,['Leve']] = 0\n",
    "    df.loc[indice,['Medio']] = 1\n",
    "    df.loc[indice,['Fuerte']] = 0\n",
    "  else:\n",
    "    df.loc[indice,['Leve']] = 0\n",
    "    df.loc[indice,['Medio']] = 0\n",
    "    df.loc[indice,['Fuerte']] = 1\n",
    "df.head()"
   ]
  },
  {
   "cell_type": "code",
   "execution_count": 15,
   "metadata": {
    "id": "xBmed6EYxzQD"
   },
   "outputs": [
    {
     "data": {
      "text/html": [
       "<div>\n",
       "<style scoped>\n",
       "    .dataframe tbody tr th:only-of-type {\n",
       "        vertical-align: middle;\n",
       "    }\n",
       "\n",
       "    .dataframe tbody tr th {\n",
       "        vertical-align: top;\n",
       "    }\n",
       "\n",
       "    .dataframe thead th {\n",
       "        text-align: right;\n",
       "    }\n",
       "</style>\n",
       "<table border=\"1\" class=\"dataframe\">\n",
       "  <thead>\n",
       "    <tr style=\"text-align: right;\">\n",
       "      <th></th>\n",
       "      <th>Fecha local</th>\n",
       "      <th>Latitud</th>\n",
       "      <th>Longitud</th>\n",
       "      <th>Profundidad</th>\n",
       "      <th>Magnitud</th>\n",
       "      <th>Fecha</th>\n",
       "      <th>Leve</th>\n",
       "      <th>Medio</th>\n",
       "      <th>Fuerte</th>\n",
       "      <th>Superficial</th>\n",
       "      <th>Intermedio</th>\n",
       "      <th>Profundo</th>\n",
       "    </tr>\n",
       "  </thead>\n",
       "  <tbody>\n",
       "    <tr>\n",
       "      <th>0</th>\n",
       "      <td>2010-01-01 14:52:41</td>\n",
       "      <td>-33.509</td>\n",
       "      <td>-70.096</td>\n",
       "      <td>110.1</td>\n",
       "      <td>4.1</td>\n",
       "      <td>2010-01-01</td>\n",
       "      <td>0.0</td>\n",
       "      <td>1.0</td>\n",
       "      <td>0.0</td>\n",
       "      <td>NaN</td>\n",
       "      <td>NaN</td>\n",
       "      <td>NaN</td>\n",
       "    </tr>\n",
       "    <tr>\n",
       "      <th>1</th>\n",
       "      <td>2010-01-01 13:59:23</td>\n",
       "      <td>-32.667</td>\n",
       "      <td>-71.548</td>\n",
       "      <td>36.0</td>\n",
       "      <td>3.0</td>\n",
       "      <td>2010-01-01</td>\n",
       "      <td>1.0</td>\n",
       "      <td>0.0</td>\n",
       "      <td>0.0</td>\n",
       "      <td>NaN</td>\n",
       "      <td>NaN</td>\n",
       "      <td>NaN</td>\n",
       "    </tr>\n",
       "    <tr>\n",
       "      <th>2</th>\n",
       "      <td>2010-01-01 12:51:46</td>\n",
       "      <td>-34.662</td>\n",
       "      <td>-70.852</td>\n",
       "      <td>97.8</td>\n",
       "      <td>3.8</td>\n",
       "      <td>2010-01-01</td>\n",
       "      <td>1.0</td>\n",
       "      <td>0.0</td>\n",
       "      <td>0.0</td>\n",
       "      <td>NaN</td>\n",
       "      <td>NaN</td>\n",
       "      <td>NaN</td>\n",
       "    </tr>\n",
       "    <tr>\n",
       "      <th>3</th>\n",
       "      <td>2010-01-01 12:39:13</td>\n",
       "      <td>-32.504</td>\n",
       "      <td>-71.517</td>\n",
       "      <td>36.1</td>\n",
       "      <td>3.1</td>\n",
       "      <td>2010-01-01</td>\n",
       "      <td>1.0</td>\n",
       "      <td>0.0</td>\n",
       "      <td>0.0</td>\n",
       "      <td>NaN</td>\n",
       "      <td>NaN</td>\n",
       "      <td>NaN</td>\n",
       "    </tr>\n",
       "    <tr>\n",
       "      <th>4</th>\n",
       "      <td>2010-01-01 12:11:28</td>\n",
       "      <td>-21.223</td>\n",
       "      <td>-68.923</td>\n",
       "      <td>120.4</td>\n",
       "      <td>3.9</td>\n",
       "      <td>2010-01-01</td>\n",
       "      <td>1.0</td>\n",
       "      <td>0.0</td>\n",
       "      <td>0.0</td>\n",
       "      <td>NaN</td>\n",
       "      <td>NaN</td>\n",
       "      <td>NaN</td>\n",
       "    </tr>\n",
       "  </tbody>\n",
       "</table>\n",
       "</div>"
      ],
      "text/plain": [
       "           Fecha local  Latitud  Longitud  Profundidad  Magnitud       Fecha  \\\n",
       "0  2010-01-01 14:52:41  -33.509   -70.096        110.1       4.1  2010-01-01   \n",
       "1  2010-01-01 13:59:23  -32.667   -71.548         36.0       3.0  2010-01-01   \n",
       "2  2010-01-01 12:51:46  -34.662   -70.852         97.8       3.8  2010-01-01   \n",
       "3  2010-01-01 12:39:13  -32.504   -71.517         36.1       3.1  2010-01-01   \n",
       "4  2010-01-01 12:11:28  -21.223   -68.923        120.4       3.9  2010-01-01   \n",
       "\n",
       "   Leve  Medio  Fuerte  Superficial  Intermedio  Profundo  \n",
       "0   0.0    1.0     0.0          NaN         NaN       NaN  \n",
       "1   1.0    0.0     0.0          NaN         NaN       NaN  \n",
       "2   1.0    0.0     0.0          NaN         NaN       NaN  \n",
       "3   1.0    0.0     0.0          NaN         NaN       NaN  \n",
       "4   1.0    0.0     0.0          NaN         NaN       NaN  "
      ]
     },
     "execution_count": 15,
     "metadata": {},
     "output_type": "execute_result"
    }
   ],
   "source": [
    "df['Superficial'] = np.nan\n",
    "df['Intermedio'] = np.nan\n",
    "df['Profundo'] = np.nan\n",
    "df.head()"
   ]
  },
  {
   "cell_type": "code",
   "execution_count": 16,
   "metadata": {
    "id": "pNrKh0jZx9Ju"
   },
   "outputs": [
    {
     "data": {
      "text/html": [
       "<div>\n",
       "<style scoped>\n",
       "    .dataframe tbody tr th:only-of-type {\n",
       "        vertical-align: middle;\n",
       "    }\n",
       "\n",
       "    .dataframe tbody tr th {\n",
       "        vertical-align: top;\n",
       "    }\n",
       "\n",
       "    .dataframe thead th {\n",
       "        text-align: right;\n",
       "    }\n",
       "</style>\n",
       "<table border=\"1\" class=\"dataframe\">\n",
       "  <thead>\n",
       "    <tr style=\"text-align: right;\">\n",
       "      <th></th>\n",
       "      <th>Fecha local</th>\n",
       "      <th>Latitud</th>\n",
       "      <th>Longitud</th>\n",
       "      <th>Profundidad</th>\n",
       "      <th>Magnitud</th>\n",
       "      <th>Fecha</th>\n",
       "      <th>Leve</th>\n",
       "      <th>Medio</th>\n",
       "      <th>Fuerte</th>\n",
       "      <th>Superficial</th>\n",
       "      <th>Intermedio</th>\n",
       "      <th>Profundo</th>\n",
       "    </tr>\n",
       "  </thead>\n",
       "  <tbody>\n",
       "    <tr>\n",
       "      <th>0</th>\n",
       "      <td>2010-01-01 14:52:41</td>\n",
       "      <td>-33.509</td>\n",
       "      <td>-70.096</td>\n",
       "      <td>110.1</td>\n",
       "      <td>4.1</td>\n",
       "      <td>2010-01-01</td>\n",
       "      <td>0.0</td>\n",
       "      <td>1.0</td>\n",
       "      <td>0.0</td>\n",
       "      <td>0.0</td>\n",
       "      <td>1.0</td>\n",
       "      <td>0.0</td>\n",
       "    </tr>\n",
       "    <tr>\n",
       "      <th>1</th>\n",
       "      <td>2010-01-01 13:59:23</td>\n",
       "      <td>-32.667</td>\n",
       "      <td>-71.548</td>\n",
       "      <td>36.0</td>\n",
       "      <td>3.0</td>\n",
       "      <td>2010-01-01</td>\n",
       "      <td>1.0</td>\n",
       "      <td>0.0</td>\n",
       "      <td>0.0</td>\n",
       "      <td>1.0</td>\n",
       "      <td>0.0</td>\n",
       "      <td>0.0</td>\n",
       "    </tr>\n",
       "    <tr>\n",
       "      <th>2</th>\n",
       "      <td>2010-01-01 12:51:46</td>\n",
       "      <td>-34.662</td>\n",
       "      <td>-70.852</td>\n",
       "      <td>97.8</td>\n",
       "      <td>3.8</td>\n",
       "      <td>2010-01-01</td>\n",
       "      <td>1.0</td>\n",
       "      <td>0.0</td>\n",
       "      <td>0.0</td>\n",
       "      <td>0.0</td>\n",
       "      <td>1.0</td>\n",
       "      <td>0.0</td>\n",
       "    </tr>\n",
       "    <tr>\n",
       "      <th>3</th>\n",
       "      <td>2010-01-01 12:39:13</td>\n",
       "      <td>-32.504</td>\n",
       "      <td>-71.517</td>\n",
       "      <td>36.1</td>\n",
       "      <td>3.1</td>\n",
       "      <td>2010-01-01</td>\n",
       "      <td>1.0</td>\n",
       "      <td>0.0</td>\n",
       "      <td>0.0</td>\n",
       "      <td>1.0</td>\n",
       "      <td>0.0</td>\n",
       "      <td>0.0</td>\n",
       "    </tr>\n",
       "    <tr>\n",
       "      <th>4</th>\n",
       "      <td>2010-01-01 12:11:28</td>\n",
       "      <td>-21.223</td>\n",
       "      <td>-68.923</td>\n",
       "      <td>120.4</td>\n",
       "      <td>3.9</td>\n",
       "      <td>2010-01-01</td>\n",
       "      <td>1.0</td>\n",
       "      <td>0.0</td>\n",
       "      <td>0.0</td>\n",
       "      <td>0.0</td>\n",
       "      <td>1.0</td>\n",
       "      <td>0.0</td>\n",
       "    </tr>\n",
       "  </tbody>\n",
       "</table>\n",
       "</div>"
      ],
      "text/plain": [
       "           Fecha local  Latitud  Longitud  Profundidad  Magnitud       Fecha  \\\n",
       "0  2010-01-01 14:52:41  -33.509   -70.096        110.1       4.1  2010-01-01   \n",
       "1  2010-01-01 13:59:23  -32.667   -71.548         36.0       3.0  2010-01-01   \n",
       "2  2010-01-01 12:51:46  -34.662   -70.852         97.8       3.8  2010-01-01   \n",
       "3  2010-01-01 12:39:13  -32.504   -71.517         36.1       3.1  2010-01-01   \n",
       "4  2010-01-01 12:11:28  -21.223   -68.923        120.4       3.9  2010-01-01   \n",
       "\n",
       "   Leve  Medio  Fuerte  Superficial  Intermedio  Profundo  \n",
       "0   0.0    1.0     0.0          0.0         1.0       0.0  \n",
       "1   1.0    0.0     0.0          1.0         0.0       0.0  \n",
       "2   1.0    0.0     0.0          0.0         1.0       0.0  \n",
       "3   1.0    0.0     0.0          1.0         0.0       0.0  \n",
       "4   1.0    0.0     0.0          0.0         1.0       0.0  "
      ]
     },
     "execution_count": 16,
     "metadata": {},
     "output_type": "execute_result"
    }
   ],
   "source": [
    "for indice, fila in df.iterrows():\n",
    "  if fila['Profundidad'] < 60:\n",
    "    df.loc[indice,['Superficial']] = 1\n",
    "    df.loc[indice,['Intermedio']] = 0\n",
    "    df.loc[indice,['Profundo']] = 0\n",
    "  elif fila['Profundidad'] < 250:\n",
    "    df.loc[indice,['Superficial']] = 0\n",
    "    df.loc[indice,['Intermedio']] = 1\n",
    "    df.loc[indice,['Profundo']] = 0\n",
    "  else:\n",
    "    df.loc[indice,['Superficial']] = 0\n",
    "    df.loc[indice,['Intermedio']] = 0\n",
    "    df.loc[indice,['Profundo']] = 1\n",
    "df.head()"
   ]
  },
  {
   "cell_type": "code",
   "execution_count": 17,
   "metadata": {
    "id": "KLMcyE_csh08"
   },
   "outputs": [
    {
     "data": {
      "text/html": [
       "<div>\n",
       "<style scoped>\n",
       "    .dataframe tbody tr th:only-of-type {\n",
       "        vertical-align: middle;\n",
       "    }\n",
       "\n",
       "    .dataframe tbody tr th {\n",
       "        vertical-align: top;\n",
       "    }\n",
       "\n",
       "    .dataframe thead th {\n",
       "        text-align: right;\n",
       "    }\n",
       "</style>\n",
       "<table border=\"1\" class=\"dataframe\">\n",
       "  <thead>\n",
       "    <tr style=\"text-align: right;\">\n",
       "      <th></th>\n",
       "      <th>Fecha local</th>\n",
       "      <th>Latitud</th>\n",
       "      <th>Longitud</th>\n",
       "      <th>Profundidad</th>\n",
       "      <th>Magnitud</th>\n",
       "      <th>Fecha</th>\n",
       "      <th>Leve</th>\n",
       "      <th>Medio</th>\n",
       "      <th>Fuerte</th>\n",
       "      <th>Superficial</th>\n",
       "      <th>Intermedio</th>\n",
       "      <th>Profundo</th>\n",
       "      <th>Region</th>\n",
       "    </tr>\n",
       "  </thead>\n",
       "  <tbody>\n",
       "    <tr>\n",
       "      <th>0</th>\n",
       "      <td>2010-01-01 14:52:41</td>\n",
       "      <td>-33.509</td>\n",
       "      <td>-70.096</td>\n",
       "      <td>110.1</td>\n",
       "      <td>4.1</td>\n",
       "      <td>2010-01-01</td>\n",
       "      <td>0.0</td>\n",
       "      <td>1.0</td>\n",
       "      <td>0.0</td>\n",
       "      <td>0.0</td>\n",
       "      <td>1.0</td>\n",
       "      <td>0.0</td>\n",
       "      <td>NaN</td>\n",
       "    </tr>\n",
       "    <tr>\n",
       "      <th>1</th>\n",
       "      <td>2010-01-01 13:59:23</td>\n",
       "      <td>-32.667</td>\n",
       "      <td>-71.548</td>\n",
       "      <td>36.0</td>\n",
       "      <td>3.0</td>\n",
       "      <td>2010-01-01</td>\n",
       "      <td>1.0</td>\n",
       "      <td>0.0</td>\n",
       "      <td>0.0</td>\n",
       "      <td>1.0</td>\n",
       "      <td>0.0</td>\n",
       "      <td>0.0</td>\n",
       "      <td>NaN</td>\n",
       "    </tr>\n",
       "    <tr>\n",
       "      <th>2</th>\n",
       "      <td>2010-01-01 12:51:46</td>\n",
       "      <td>-34.662</td>\n",
       "      <td>-70.852</td>\n",
       "      <td>97.8</td>\n",
       "      <td>3.8</td>\n",
       "      <td>2010-01-01</td>\n",
       "      <td>1.0</td>\n",
       "      <td>0.0</td>\n",
       "      <td>0.0</td>\n",
       "      <td>0.0</td>\n",
       "      <td>1.0</td>\n",
       "      <td>0.0</td>\n",
       "      <td>NaN</td>\n",
       "    </tr>\n",
       "    <tr>\n",
       "      <th>3</th>\n",
       "      <td>2010-01-01 12:39:13</td>\n",
       "      <td>-32.504</td>\n",
       "      <td>-71.517</td>\n",
       "      <td>36.1</td>\n",
       "      <td>3.1</td>\n",
       "      <td>2010-01-01</td>\n",
       "      <td>1.0</td>\n",
       "      <td>0.0</td>\n",
       "      <td>0.0</td>\n",
       "      <td>1.0</td>\n",
       "      <td>0.0</td>\n",
       "      <td>0.0</td>\n",
       "      <td>NaN</td>\n",
       "    </tr>\n",
       "    <tr>\n",
       "      <th>4</th>\n",
       "      <td>2010-01-01 12:11:28</td>\n",
       "      <td>-21.223</td>\n",
       "      <td>-68.923</td>\n",
       "      <td>120.4</td>\n",
       "      <td>3.9</td>\n",
       "      <td>2010-01-01</td>\n",
       "      <td>1.0</td>\n",
       "      <td>0.0</td>\n",
       "      <td>0.0</td>\n",
       "      <td>0.0</td>\n",
       "      <td>1.0</td>\n",
       "      <td>0.0</td>\n",
       "      <td>NaN</td>\n",
       "    </tr>\n",
       "  </tbody>\n",
       "</table>\n",
       "</div>"
      ],
      "text/plain": [
       "           Fecha local  Latitud  Longitud  Profundidad  Magnitud       Fecha  \\\n",
       "0  2010-01-01 14:52:41  -33.509   -70.096        110.1       4.1  2010-01-01   \n",
       "1  2010-01-01 13:59:23  -32.667   -71.548         36.0       3.0  2010-01-01   \n",
       "2  2010-01-01 12:51:46  -34.662   -70.852         97.8       3.8  2010-01-01   \n",
       "3  2010-01-01 12:39:13  -32.504   -71.517         36.1       3.1  2010-01-01   \n",
       "4  2010-01-01 12:11:28  -21.223   -68.923        120.4       3.9  2010-01-01   \n",
       "\n",
       "   Leve  Medio  Fuerte  Superficial  Intermedio  Profundo  Region  \n",
       "0   0.0    1.0     0.0          0.0         1.0       0.0     NaN  \n",
       "1   1.0    0.0     0.0          1.0         0.0       0.0     NaN  \n",
       "2   1.0    0.0     0.0          0.0         1.0       0.0     NaN  \n",
       "3   1.0    0.0     0.0          1.0         0.0       0.0     NaN  \n",
       "4   1.0    0.0     0.0          0.0         1.0       0.0     NaN  "
      ]
     },
     "execution_count": 17,
     "metadata": {},
     "output_type": "execute_result"
    }
   ],
   "source": [
    "df['Region'] = np.nan\n",
    "df.head()"
   ]
  },
  {
   "cell_type": "code",
   "execution_count": 18,
   "metadata": {
    "id": "vDb9d-rCr4c-"
   },
   "outputs": [],
   "source": [
    "ruta='regiones.csv'\n",
    "regiones=pd.read_csv(ruta)"
   ]
  },
  {
   "cell_type": "code",
   "execution_count": 19,
   "metadata": {
    "id": "-KwdQFLgsvJb"
   },
   "outputs": [],
   "source": [
    "for indice, fila in df.iterrows():\n",
    "  for indice2, fila2 in regiones.iterrows():\n",
    "    if fila['Latitud'] <= fila2['Latitud inicial'] and fila['Latitud'] > fila2['Latitud final']:\n",
    "      df.loc[indice,['Region']] = fila2['Region']"
   ]
  },
  {
   "cell_type": "code",
   "execution_count": 20,
   "metadata": {
    "id": "u39VmE9RuhY8"
   },
   "outputs": [
    {
     "data": {
      "text/html": [
       "<div>\n",
       "<style scoped>\n",
       "    .dataframe tbody tr th:only-of-type {\n",
       "        vertical-align: middle;\n",
       "    }\n",
       "\n",
       "    .dataframe tbody tr th {\n",
       "        vertical-align: top;\n",
       "    }\n",
       "\n",
       "    .dataframe thead th {\n",
       "        text-align: right;\n",
       "    }\n",
       "</style>\n",
       "<table border=\"1\" class=\"dataframe\">\n",
       "  <thead>\n",
       "    <tr style=\"text-align: right;\">\n",
       "      <th></th>\n",
       "      <th>Fecha local</th>\n",
       "      <th>Latitud</th>\n",
       "      <th>Longitud</th>\n",
       "      <th>Profundidad</th>\n",
       "      <th>Magnitud</th>\n",
       "      <th>Fecha</th>\n",
       "      <th>Leve</th>\n",
       "      <th>Medio</th>\n",
       "      <th>Fuerte</th>\n",
       "      <th>Superficial</th>\n",
       "      <th>Intermedio</th>\n",
       "      <th>Profundo</th>\n",
       "      <th>Region</th>\n",
       "    </tr>\n",
       "  </thead>\n",
       "  <tbody>\n",
       "    <tr>\n",
       "      <th>0</th>\n",
       "      <td>2010-01-01 14:52:41</td>\n",
       "      <td>-33.509</td>\n",
       "      <td>-70.096</td>\n",
       "      <td>110.1</td>\n",
       "      <td>4.1</td>\n",
       "      <td>2010-01-01</td>\n",
       "      <td>0.0</td>\n",
       "      <td>1.0</td>\n",
       "      <td>0.0</td>\n",
       "      <td>0.0</td>\n",
       "      <td>1.0</td>\n",
       "      <td>0.0</td>\n",
       "      <td>Santiago</td>\n",
       "    </tr>\n",
       "    <tr>\n",
       "      <th>1</th>\n",
       "      <td>2010-01-01 13:59:23</td>\n",
       "      <td>-32.667</td>\n",
       "      <td>-71.548</td>\n",
       "      <td>36.0</td>\n",
       "      <td>3.0</td>\n",
       "      <td>2010-01-01</td>\n",
       "      <td>1.0</td>\n",
       "      <td>0.0</td>\n",
       "      <td>0.0</td>\n",
       "      <td>1.0</td>\n",
       "      <td>0.0</td>\n",
       "      <td>0.0</td>\n",
       "      <td>Valparaiso</td>\n",
       "    </tr>\n",
       "    <tr>\n",
       "      <th>2</th>\n",
       "      <td>2010-01-01 12:51:46</td>\n",
       "      <td>-34.662</td>\n",
       "      <td>-70.852</td>\n",
       "      <td>97.8</td>\n",
       "      <td>3.8</td>\n",
       "      <td>2010-01-01</td>\n",
       "      <td>1.0</td>\n",
       "      <td>0.0</td>\n",
       "      <td>0.0</td>\n",
       "      <td>0.0</td>\n",
       "      <td>1.0</td>\n",
       "      <td>0.0</td>\n",
       "      <td>Ohiggins</td>\n",
       "    </tr>\n",
       "    <tr>\n",
       "      <th>3</th>\n",
       "      <td>2010-01-01 12:39:13</td>\n",
       "      <td>-32.504</td>\n",
       "      <td>-71.517</td>\n",
       "      <td>36.1</td>\n",
       "      <td>3.1</td>\n",
       "      <td>2010-01-01</td>\n",
       "      <td>1.0</td>\n",
       "      <td>0.0</td>\n",
       "      <td>0.0</td>\n",
       "      <td>1.0</td>\n",
       "      <td>0.0</td>\n",
       "      <td>0.0</td>\n",
       "      <td>Valparaiso</td>\n",
       "    </tr>\n",
       "    <tr>\n",
       "      <th>4</th>\n",
       "      <td>2010-01-01 12:11:28</td>\n",
       "      <td>-21.223</td>\n",
       "      <td>-68.923</td>\n",
       "      <td>120.4</td>\n",
       "      <td>3.9</td>\n",
       "      <td>2010-01-01</td>\n",
       "      <td>1.0</td>\n",
       "      <td>0.0</td>\n",
       "      <td>0.0</td>\n",
       "      <td>0.0</td>\n",
       "      <td>1.0</td>\n",
       "      <td>0.0</td>\n",
       "      <td>Tarapaca</td>\n",
       "    </tr>\n",
       "  </tbody>\n",
       "</table>\n",
       "</div>"
      ],
      "text/plain": [
       "           Fecha local  Latitud  Longitud  Profundidad  Magnitud       Fecha  \\\n",
       "0  2010-01-01 14:52:41  -33.509   -70.096        110.1       4.1  2010-01-01   \n",
       "1  2010-01-01 13:59:23  -32.667   -71.548         36.0       3.0  2010-01-01   \n",
       "2  2010-01-01 12:51:46  -34.662   -70.852         97.8       3.8  2010-01-01   \n",
       "3  2010-01-01 12:39:13  -32.504   -71.517         36.1       3.1  2010-01-01   \n",
       "4  2010-01-01 12:11:28  -21.223   -68.923        120.4       3.9  2010-01-01   \n",
       "\n",
       "   Leve  Medio  Fuerte  Superficial  Intermedio  Profundo      Region  \n",
       "0   0.0    1.0     0.0          0.0         1.0       0.0    Santiago  \n",
       "1   1.0    0.0     0.0          1.0         0.0       0.0  Valparaiso  \n",
       "2   1.0    0.0     0.0          0.0         1.0       0.0    Ohiggins  \n",
       "3   1.0    0.0     0.0          1.0         0.0       0.0  Valparaiso  \n",
       "4   1.0    0.0     0.0          0.0         1.0       0.0    Tarapaca  "
      ]
     },
     "execution_count": 20,
     "metadata": {},
     "output_type": "execute_result"
    }
   ],
   "source": [
    "df.head()"
   ]
  },
  {
   "cell_type": "markdown",
   "metadata": {
    "id": "Zsmfpx3v3sRk"
   },
   "source": [
    "Limpieza de datos que no pertenecen a Chile"
   ]
  },
  {
   "cell_type": "code",
   "execution_count": 21,
   "metadata": {
    "id": "qZxLlcUCimp2"
   },
   "outputs": [
    {
     "data": {
      "text/html": [
       "<div>\n",
       "<style scoped>\n",
       "    .dataframe tbody tr th:only-of-type {\n",
       "        vertical-align: middle;\n",
       "    }\n",
       "\n",
       "    .dataframe tbody tr th {\n",
       "        vertical-align: top;\n",
       "    }\n",
       "\n",
       "    .dataframe thead th {\n",
       "        text-align: right;\n",
       "    }\n",
       "</style>\n",
       "<table border=\"1\" class=\"dataframe\">\n",
       "  <thead>\n",
       "    <tr style=\"text-align: right;\">\n",
       "      <th></th>\n",
       "      <th>Fecha local</th>\n",
       "      <th>Latitud</th>\n",
       "      <th>Longitud</th>\n",
       "      <th>Profundidad</th>\n",
       "      <th>Magnitud</th>\n",
       "      <th>Fecha</th>\n",
       "      <th>Leve</th>\n",
       "      <th>Medio</th>\n",
       "      <th>Fuerte</th>\n",
       "      <th>Superficial</th>\n",
       "      <th>Intermedio</th>\n",
       "      <th>Profundo</th>\n",
       "      <th>Region</th>\n",
       "    </tr>\n",
       "  </thead>\n",
       "  <tbody>\n",
       "    <tr>\n",
       "      <th>0</th>\n",
       "      <td>2010-01-01 14:52:41</td>\n",
       "      <td>-33.509</td>\n",
       "      <td>-70.096</td>\n",
       "      <td>110.1</td>\n",
       "      <td>4.1</td>\n",
       "      <td>2010-01-01</td>\n",
       "      <td>0.0</td>\n",
       "      <td>1.0</td>\n",
       "      <td>0.0</td>\n",
       "      <td>0.0</td>\n",
       "      <td>1.0</td>\n",
       "      <td>0.0</td>\n",
       "      <td>Santiago</td>\n",
       "    </tr>\n",
       "    <tr>\n",
       "      <th>1</th>\n",
       "      <td>2010-01-01 13:59:23</td>\n",
       "      <td>-32.667</td>\n",
       "      <td>-71.548</td>\n",
       "      <td>36.0</td>\n",
       "      <td>3.0</td>\n",
       "      <td>2010-01-01</td>\n",
       "      <td>1.0</td>\n",
       "      <td>0.0</td>\n",
       "      <td>0.0</td>\n",
       "      <td>1.0</td>\n",
       "      <td>0.0</td>\n",
       "      <td>0.0</td>\n",
       "      <td>Valparaiso</td>\n",
       "    </tr>\n",
       "    <tr>\n",
       "      <th>2</th>\n",
       "      <td>2010-01-01 12:51:46</td>\n",
       "      <td>-34.662</td>\n",
       "      <td>-70.852</td>\n",
       "      <td>97.8</td>\n",
       "      <td>3.8</td>\n",
       "      <td>2010-01-01</td>\n",
       "      <td>1.0</td>\n",
       "      <td>0.0</td>\n",
       "      <td>0.0</td>\n",
       "      <td>0.0</td>\n",
       "      <td>1.0</td>\n",
       "      <td>0.0</td>\n",
       "      <td>Ohiggins</td>\n",
       "    </tr>\n",
       "    <tr>\n",
       "      <th>3</th>\n",
       "      <td>2010-01-01 12:39:13</td>\n",
       "      <td>-32.504</td>\n",
       "      <td>-71.517</td>\n",
       "      <td>36.1</td>\n",
       "      <td>3.1</td>\n",
       "      <td>2010-01-01</td>\n",
       "      <td>1.0</td>\n",
       "      <td>0.0</td>\n",
       "      <td>0.0</td>\n",
       "      <td>1.0</td>\n",
       "      <td>0.0</td>\n",
       "      <td>0.0</td>\n",
       "      <td>Valparaiso</td>\n",
       "    </tr>\n",
       "    <tr>\n",
       "      <th>4</th>\n",
       "      <td>2010-01-01 12:11:28</td>\n",
       "      <td>-21.223</td>\n",
       "      <td>-68.923</td>\n",
       "      <td>120.4</td>\n",
       "      <td>3.9</td>\n",
       "      <td>2010-01-01</td>\n",
       "      <td>1.0</td>\n",
       "      <td>0.0</td>\n",
       "      <td>0.0</td>\n",
       "      <td>0.0</td>\n",
       "      <td>1.0</td>\n",
       "      <td>0.0</td>\n",
       "      <td>Tarapaca</td>\n",
       "    </tr>\n",
       "  </tbody>\n",
       "</table>\n",
       "</div>"
      ],
      "text/plain": [
       "           Fecha local  Latitud  Longitud  Profundidad  Magnitud       Fecha  \\\n",
       "0  2010-01-01 14:52:41  -33.509   -70.096        110.1       4.1  2010-01-01   \n",
       "1  2010-01-01 13:59:23  -32.667   -71.548         36.0       3.0  2010-01-01   \n",
       "2  2010-01-01 12:51:46  -34.662   -70.852         97.8       3.8  2010-01-01   \n",
       "3  2010-01-01 12:39:13  -32.504   -71.517         36.1       3.1  2010-01-01   \n",
       "4  2010-01-01 12:11:28  -21.223   -68.923        120.4       3.9  2010-01-01   \n",
       "\n",
       "   Leve  Medio  Fuerte  Superficial  Intermedio  Profundo      Region  \n",
       "0   0.0    1.0     0.0          0.0         1.0       0.0    Santiago  \n",
       "1   1.0    0.0     0.0          1.0         0.0       0.0  Valparaiso  \n",
       "2   1.0    0.0     0.0          0.0         1.0       0.0    Ohiggins  \n",
       "3   1.0    0.0     0.0          1.0         0.0       0.0  Valparaiso  \n",
       "4   1.0    0.0     0.0          0.0         1.0       0.0    Tarapaca  "
      ]
     },
     "execution_count": 21,
     "metadata": {},
     "output_type": "execute_result"
    }
   ],
   "source": [
    "df2 = df[df['Longitud']<-64]\n",
    "df3 = df2[df2['Longitud']>-74]\n",
    "df4 = df3[df3['Latitud']<=-17.5]\n",
    "df5 = df4[df4['Latitud']>-55.8]\n",
    "df5.head()"
   ]
  },
  {
   "cell_type": "code",
   "execution_count": 22,
   "metadata": {
    "id": "sO5J7Mj6aNOZ"
   },
   "outputs": [
    {
     "data": {
      "text/html": [
       "<div>\n",
       "<style scoped>\n",
       "    .dataframe tbody tr th:only-of-type {\n",
       "        vertical-align: middle;\n",
       "    }\n",
       "\n",
       "    .dataframe tbody tr th {\n",
       "        vertical-align: top;\n",
       "    }\n",
       "\n",
       "    .dataframe thead th {\n",
       "        text-align: right;\n",
       "    }\n",
       "</style>\n",
       "<table border=\"1\" class=\"dataframe\">\n",
       "  <thead>\n",
       "    <tr style=\"text-align: right;\">\n",
       "      <th></th>\n",
       "      <th>Fecha local</th>\n",
       "      <th>Latitud</th>\n",
       "      <th>Longitud</th>\n",
       "      <th>Profundidad</th>\n",
       "      <th>Magnitud</th>\n",
       "      <th>Fecha</th>\n",
       "      <th>Leve</th>\n",
       "      <th>Medio</th>\n",
       "      <th>Fuerte</th>\n",
       "      <th>Superficial</th>\n",
       "      <th>Intermedio</th>\n",
       "      <th>Profundo</th>\n",
       "      <th>Region</th>\n",
       "    </tr>\n",
       "  </thead>\n",
       "  <tbody>\n",
       "    <tr>\n",
       "      <th>count</th>\n",
       "      <td>79020</td>\n",
       "      <td>79020.000000</td>\n",
       "      <td>79020.000000</td>\n",
       "      <td>79020.000000</td>\n",
       "      <td>79020.000000</td>\n",
       "      <td>79020</td>\n",
       "      <td>79020.000000</td>\n",
       "      <td>79020.000000</td>\n",
       "      <td>79020.000000</td>\n",
       "      <td>79020.00000</td>\n",
       "      <td>79020.000000</td>\n",
       "      <td>79020.000000</td>\n",
       "      <td>79020</td>\n",
       "    </tr>\n",
       "    <tr>\n",
       "      <th>unique</th>\n",
       "      <td>78924</td>\n",
       "      <td>NaN</td>\n",
       "      <td>NaN</td>\n",
       "      <td>NaN</td>\n",
       "      <td>NaN</td>\n",
       "      <td>4321</td>\n",
       "      <td>NaN</td>\n",
       "      <td>NaN</td>\n",
       "      <td>NaN</td>\n",
       "      <td>NaN</td>\n",
       "      <td>NaN</td>\n",
       "      <td>NaN</td>\n",
       "      <td>16</td>\n",
       "    </tr>\n",
       "    <tr>\n",
       "      <th>top</th>\n",
       "      <td>2016-04-11 10:33:26</td>\n",
       "      <td>NaN</td>\n",
       "      <td>NaN</td>\n",
       "      <td>NaN</td>\n",
       "      <td>NaN</td>\n",
       "      <td>2017-04-25</td>\n",
       "      <td>NaN</td>\n",
       "      <td>NaN</td>\n",
       "      <td>NaN</td>\n",
       "      <td>NaN</td>\n",
       "      <td>NaN</td>\n",
       "      <td>NaN</td>\n",
       "      <td>Antofagasta</td>\n",
       "    </tr>\n",
       "    <tr>\n",
       "      <th>freq</th>\n",
       "      <td>2</td>\n",
       "      <td>NaN</td>\n",
       "      <td>NaN</td>\n",
       "      <td>NaN</td>\n",
       "      <td>NaN</td>\n",
       "      <td>196</td>\n",
       "      <td>NaN</td>\n",
       "      <td>NaN</td>\n",
       "      <td>NaN</td>\n",
       "      <td>NaN</td>\n",
       "      <td>NaN</td>\n",
       "      <td>NaN</td>\n",
       "      <td>20790</td>\n",
       "    </tr>\n",
       "    <tr>\n",
       "      <th>mean</th>\n",
       "      <td>NaN</td>\n",
       "      <td>-27.049005</td>\n",
       "      <td>-70.323314</td>\n",
       "      <td>80.246840</td>\n",
       "      <td>3.247718</td>\n",
       "      <td>NaN</td>\n",
       "      <td>0.861402</td>\n",
       "      <td>0.136965</td>\n",
       "      <td>0.001632</td>\n",
       "      <td>0.49814</td>\n",
       "      <td>0.491053</td>\n",
       "      <td>0.010807</td>\n",
       "      <td>NaN</td>\n",
       "    </tr>\n",
       "    <tr>\n",
       "      <th>std</th>\n",
       "      <td>NaN</td>\n",
       "      <td>5.947058</td>\n",
       "      <td>1.674844</td>\n",
       "      <td>59.944184</td>\n",
       "      <td>0.635407</td>\n",
       "      <td>NaN</td>\n",
       "      <td>0.345529</td>\n",
       "      <td>0.343813</td>\n",
       "      <td>0.040371</td>\n",
       "      <td>0.50000</td>\n",
       "      <td>0.499923</td>\n",
       "      <td>0.103396</td>\n",
       "      <td>NaN</td>\n",
       "    </tr>\n",
       "    <tr>\n",
       "      <th>min</th>\n",
       "      <td>NaN</td>\n",
       "      <td>-54.842000</td>\n",
       "      <td>-73.999000</td>\n",
       "      <td>0.000000</td>\n",
       "      <td>1.000000</td>\n",
       "      <td>NaN</td>\n",
       "      <td>0.000000</td>\n",
       "      <td>0.000000</td>\n",
       "      <td>0.000000</td>\n",
       "      <td>0.00000</td>\n",
       "      <td>0.000000</td>\n",
       "      <td>0.000000</td>\n",
       "      <td>NaN</td>\n",
       "    </tr>\n",
       "    <tr>\n",
       "      <th>25%</th>\n",
       "      <td>NaN</td>\n",
       "      <td>-32.529250</td>\n",
       "      <td>-71.719000</td>\n",
       "      <td>33.000000</td>\n",
       "      <td>2.800000</td>\n",
       "      <td>NaN</td>\n",
       "      <td>1.000000</td>\n",
       "      <td>0.000000</td>\n",
       "      <td>0.000000</td>\n",
       "      <td>0.00000</td>\n",
       "      <td>0.000000</td>\n",
       "      <td>0.000000</td>\n",
       "      <td>NaN</td>\n",
       "    </tr>\n",
       "    <tr>\n",
       "      <th>50%</th>\n",
       "      <td>NaN</td>\n",
       "      <td>-25.509500</td>\n",
       "      <td>-70.457000</td>\n",
       "      <td>60.250000</td>\n",
       "      <td>3.100000</td>\n",
       "      <td>NaN</td>\n",
       "      <td>1.000000</td>\n",
       "      <td>0.000000</td>\n",
       "      <td>0.000000</td>\n",
       "      <td>0.00000</td>\n",
       "      <td>0.000000</td>\n",
       "      <td>0.000000</td>\n",
       "      <td>NaN</td>\n",
       "    </tr>\n",
       "    <tr>\n",
       "      <th>75%</th>\n",
       "      <td>NaN</td>\n",
       "      <td>-21.374000</td>\n",
       "      <td>-68.913000</td>\n",
       "      <td>113.000000</td>\n",
       "      <td>3.600000</td>\n",
       "      <td>NaN</td>\n",
       "      <td>1.000000</td>\n",
       "      <td>0.000000</td>\n",
       "      <td>0.000000</td>\n",
       "      <td>1.00000</td>\n",
       "      <td>1.000000</td>\n",
       "      <td>0.000000</td>\n",
       "      <td>NaN</td>\n",
       "    </tr>\n",
       "    <tr>\n",
       "      <th>max</th>\n",
       "      <td>NaN</td>\n",
       "      <td>-17.501000</td>\n",
       "      <td>-64.228000</td>\n",
       "      <td>659.600000</td>\n",
       "      <td>8.800000</td>\n",
       "      <td>NaN</td>\n",
       "      <td>1.000000</td>\n",
       "      <td>1.000000</td>\n",
       "      <td>1.000000</td>\n",
       "      <td>1.00000</td>\n",
       "      <td>1.000000</td>\n",
       "      <td>1.000000</td>\n",
       "      <td>NaN</td>\n",
       "    </tr>\n",
       "  </tbody>\n",
       "</table>\n",
       "</div>"
      ],
      "text/plain": [
       "                Fecha local       Latitud      Longitud   Profundidad  \\\n",
       "count                 79020  79020.000000  79020.000000  79020.000000   \n",
       "unique                78924           NaN           NaN           NaN   \n",
       "top     2016-04-11 10:33:26           NaN           NaN           NaN   \n",
       "freq                      2           NaN           NaN           NaN   \n",
       "mean                    NaN    -27.049005    -70.323314     80.246840   \n",
       "std                     NaN      5.947058      1.674844     59.944184   \n",
       "min                     NaN    -54.842000    -73.999000      0.000000   \n",
       "25%                     NaN    -32.529250    -71.719000     33.000000   \n",
       "50%                     NaN    -25.509500    -70.457000     60.250000   \n",
       "75%                     NaN    -21.374000    -68.913000    113.000000   \n",
       "max                     NaN    -17.501000    -64.228000    659.600000   \n",
       "\n",
       "            Magnitud       Fecha          Leve         Medio        Fuerte  \\\n",
       "count   79020.000000       79020  79020.000000  79020.000000  79020.000000   \n",
       "unique           NaN        4321           NaN           NaN           NaN   \n",
       "top              NaN  2017-04-25           NaN           NaN           NaN   \n",
       "freq             NaN         196           NaN           NaN           NaN   \n",
       "mean        3.247718         NaN      0.861402      0.136965      0.001632   \n",
       "std         0.635407         NaN      0.345529      0.343813      0.040371   \n",
       "min         1.000000         NaN      0.000000      0.000000      0.000000   \n",
       "25%         2.800000         NaN      1.000000      0.000000      0.000000   \n",
       "50%         3.100000         NaN      1.000000      0.000000      0.000000   \n",
       "75%         3.600000         NaN      1.000000      0.000000      0.000000   \n",
       "max         8.800000         NaN      1.000000      1.000000      1.000000   \n",
       "\n",
       "        Superficial    Intermedio      Profundo       Region  \n",
       "count   79020.00000  79020.000000  79020.000000        79020  \n",
       "unique          NaN           NaN           NaN           16  \n",
       "top             NaN           NaN           NaN  Antofagasta  \n",
       "freq            NaN           NaN           NaN        20790  \n",
       "mean        0.49814      0.491053      0.010807          NaN  \n",
       "std         0.50000      0.499923      0.103396          NaN  \n",
       "min         0.00000      0.000000      0.000000          NaN  \n",
       "25%         0.00000      0.000000      0.000000          NaN  \n",
       "50%         0.00000      0.000000      0.000000          NaN  \n",
       "75%         1.00000      1.000000      0.000000          NaN  \n",
       "max         1.00000      1.000000      1.000000          NaN  "
      ]
     },
     "execution_count": 22,
     "metadata": {},
     "output_type": "execute_result"
    }
   ],
   "source": [
    "df5.describe(include = \"all\")"
   ]
  },
  {
   "cell_type": "markdown",
   "metadata": {
    "id": "ohAzMZ-K31LU"
   },
   "source": [
    "Gráficos"
   ]
  },
  {
   "cell_type": "code",
   "execution_count": 23,
   "metadata": {
    "id": "Dh07CW5OahDH"
   },
   "outputs": [
    {
     "data": {
      "text/plain": [
       "array([[<AxesSubplot:title={'center':'Magnitud'}>]], dtype=object)"
      ]
     },
     "execution_count": 23,
     "metadata": {},
     "output_type": "execute_result"
    },
    {
     "data": {
      "image/png": "[encoded data removed]",
      "text/plain": [
       "<Figure size 432x288 with 1 Axes>"
      ]
     },
     "metadata": {
      "needs_background": "light"
     },
     "output_type": "display_data"
    }
   ],
   "source": [
    "df5.hist(column=\"Magnitud\", grid=False)"
   ]
  },
  {
   "cell_type": "code",
   "execution_count": 24,
   "metadata": {
    "id": "WKlWcpo_aj0_"
   },
   "outputs": [
    {
     "data": {
      "text/plain": [
       "array([[<AxesSubplot:title={'center':'Latitud'}>]], dtype=object)"
      ]
     },
     "execution_count": 24,
     "metadata": {},
     "output_type": "execute_result"
    },
    {
     "data": {
      "image/png": "[encoded data removed]",
      "text/plain": [
       "<Figure size 432x288 with 1 Axes>"
      ]
     },
     "metadata": {
      "needs_background": "light"
     },
     "output_type": "display_data"
    }
   ],
   "source": [
    "df5.hist(column=\"Latitud\", grid=False)"
   ]
  },
  {
   "cell_type": "code",
   "execution_count": 25,
   "metadata": {
    "id": "HUlNmCu1altv"
   },
   "outputs": [
    {
     "data": {
      "text/plain": [
       "array([[<AxesSubplot:title={'center':'Longitud'}>]], dtype=object)"
      ]
     },
     "execution_count": 25,
     "metadata": {},
     "output_type": "execute_result"
    },
    {
     "data": {
      "image/png": "[encoded data removed]",
      "text/plain": [
       "<Figure size 432x288 with 1 Axes>"
      ]
     },
     "metadata": {
      "needs_background": "light"
     },
     "output_type": "display_data"
    }
   ],
   "source": [
    "df5.hist(column=\"Longitud\", grid=False)"
   ]
  },
  {
   "cell_type": "code",
   "execution_count": 26,
   "metadata": {
    "id": "-9p-6AZ3apSN"
   },
   "outputs": [
    {
     "data": {
      "text/plain": [
       "array([[<AxesSubplot:title={'center':'Profundidad'}>]], dtype=object)"
      ]
     },
     "execution_count": 26,
     "metadata": {},
     "output_type": "execute_result"
    },
    {
     "data": {
      "image/png": "[encoded data removed]",
      "text/plain": [
       "<Figure size 432x288 with 1 Axes>"
      ]
     },
     "metadata": {
      "needs_background": "light"
     },
     "output_type": "display_data"
    }
   ],
   "source": [
    "df5.hist(column=['Profundidad'],grid=False)"
   ]
  },
  {
   "cell_type": "code",
   "execution_count": 27,
   "metadata": {
    "id": "WomYmjIhhrot"
   },
   "outputs": [
    {
     "data": {
      "text/plain": [
       "<AxesSubplot:>"
      ]
     },
     "execution_count": 27,
     "metadata": {},
     "output_type": "execute_result"
    },
    {
     "data": {
      "image/png": "[encoded data removed]",
      "text/plain": [
       "<Figure size 432x288 with 1 Axes>"
      ]
     },
     "metadata": {
      "needs_background": "light"
     },
     "output_type": "display_data"
    }
   ],
   "source": [
    "df5.boxplot(column='Magnitud',grid=False)"
   ]
  },
  {
   "cell_type": "code",
   "execution_count": 28,
   "metadata": {
    "id": "Wzgqg5SMhuIN"
   },
   "outputs": [
    {
     "data": {
      "text/plain": [
       "<AxesSubplot:>"
      ]
     },
     "execution_count": 28,
     "metadata": {},
     "output_type": "execute_result"
    },
    {
     "data": {
      "image/png": "[encoded data removed]",
      "text/plain": [
       "<Figure size 432x288 with 1 Axes>"
      ]
     },
     "metadata": {
      "needs_background": "light"
     },
     "output_type": "display_data"
    }
   ],
   "source": [
    "df5.boxplot(column='Latitud',grid=False)"
   ]
  },
  {
   "cell_type": "code",
   "execution_count": 29,
   "metadata": {
    "id": "Xh1CZej8hwaF"
   },
   "outputs": [
    {
     "data": {
      "text/plain": [
       "<AxesSubplot:>"
      ]
     },
     "execution_count": 29,
     "metadata": {},
     "output_type": "execute_result"
    },
    {
     "data": {
      "image/png": "[encoded data removed]",
      "text/plain": [
       "<Figure size 432x288 with 1 Axes>"
      ]
     },
     "metadata": {
      "needs_background": "light"
     },
     "output_type": "display_data"
    }
   ],
   "source": [
    "df5.boxplot(column='Longitud',grid=False)"
   ]
  },
  {
   "cell_type": "code",
   "execution_count": 30,
   "metadata": {
    "id": "TCrJ7-qIhx9M"
   },
   "outputs": [
    {
     "data": {
      "text/plain": [
       "<AxesSubplot:>"
      ]
     },
     "execution_count": 30,
     "metadata": {},
     "output_type": "execute_result"
    },
    {
     "data": {
      "image/png": "[encoded data removed]",
      "text/plain": [
       "<Figure size 432x288 with 1 Axes>"
      ]
     },
     "metadata": {
      "needs_background": "light"
     },
     "output_type": "display_data"
    }
   ],
   "source": [
    "df5.boxplot(column='Profundidad',grid=False)"
   ]
  },
  {
   "cell_type": "markdown",
   "metadata": {
    "id": "lwxKVbyu34zE"
   },
   "source": [
    "Información de los datos"
   ]
  },
  {
   "cell_type": "code",
   "execution_count": 31,
   "metadata": {
    "id": "L4g7Qo32sOq8"
   },
   "outputs": [
    {
     "name": "stdout",
     "output_type": "stream",
     "text": [
      "Primera fecha registrada: 2010-01-01\n",
      "Última fecha registrada: 2021-11-01\n"
     ]
    }
   ],
   "source": [
    "min_date=dt.date(2021,11,3)\n",
    "max_date=dt.date(2010,1,1)\n",
    "for indice, fila in df5.iterrows():\n",
    "  if fila['Fecha'] < min_date:\n",
    "    min_date= fila['Fecha']\n",
    "  if fila['Fecha'] > max_date:\n",
    "    max_date= fila['Fecha']\n",
    "print('Primera fecha registrada:',min_date)\n",
    "print('Última fecha registrada:',max_date)"
   ]
  },
  {
   "cell_type": "code",
   "execution_count": 32,
   "metadata": {
    "id": "AXhdnG_ysYIi"
   },
   "outputs": [
    {
     "name": "stdout",
     "output_type": "stream",
     "text": [
      "Semanas registradas: 618\n"
     ]
    }
   ],
   "source": [
    "diferencia = max_date - min_date\n",
    "semanas = diferencia.days//7 +1\n",
    "print('Semanas registradas:',semanas)"
   ]
  },
  {
   "cell_type": "code",
   "execution_count": 33,
   "metadata": {
    "id": "zxEqb2G-xKOV"
   },
   "outputs": [
    {
     "data": {
      "text/plain": [
       "count           79020\n",
       "unique             16\n",
       "top       Antofagasta\n",
       "freq            20790\n",
       "Name: Region, dtype: object"
      ]
     },
     "execution_count": 33,
     "metadata": {},
     "output_type": "execute_result"
    }
   ],
   "source": [
    "df5['Region'].describe()"
   ]
  },
  {
   "cell_type": "code",
   "execution_count": 34,
   "metadata": {
    "id": "n3YcBQf_xWls"
   },
   "outputs": [
    {
     "data": {
      "text/plain": [
       "Antofagasta           20790\n",
       "Tarapaca              16679\n",
       "Coquimbo              12180\n",
       "Santiago               6520\n",
       "Valparaiso             4608\n",
       "Atacama                4518\n",
       "Ohiggins               4408\n",
       "Maule                  4190\n",
       "Arica y Parinacota     2273\n",
       "Ñuble                  1332\n",
       "Biobio                  497\n",
       "Araucania               486\n",
       "Los Rios                213\n",
       "Los Lagos               182\n",
       "Aysen                    84\n",
       "Magallanes               60\n",
       "Name: Region, dtype: int64"
      ]
     },
     "execution_count": 34,
     "metadata": {},
     "output_type": "execute_result"
    }
   ],
   "source": [
    "df5['Region'].value_counts()"
   ]
  },
  {
   "cell_type": "code",
   "execution_count": 35,
   "metadata": {
    "id": "LYXeZR5kxbt8"
   },
   "outputs": [
    {
     "data": {
      "text/plain": [
       "<AxesSubplot:>"
      ]
     },
     "execution_count": 35,
     "metadata": {},
     "output_type": "execute_result"
    },
    {
     "data": {
      "image/png": "[encoded data removed]",
      "text/plain": [
       "<Figure size 432x288 with 1 Axes>"
      ]
     },
     "metadata": {
      "needs_background": "light"
     },
     "output_type": "display_data"
    }
   ],
   "source": [
    "fig, ax = plt.subplots()\n",
    "df5['Region'].value_counts().plot(ax=ax,kind='bar')"
   ]
  },
  {
   "cell_type": "code",
   "execution_count": 36,
   "metadata": {
    "id": "FQ51sRdzxi5d"
   },
   "outputs": [
    {
     "name": "stdout",
     "output_type": "stream",
     "text": [
      "Sismos leves: 68068.0\n",
      "Sismos medios: 10823.0\n",
      "Sismos fuertes: 129.0\n"
     ]
    }
   ],
   "source": [
    "print('Sismos leves:',df5['Leve'].sum())\n",
    "print('Sismos medios:',df5['Medio'].sum())\n",
    "print('Sismos fuertes:',df5['Fuerte'].sum())"
   ]
  },
  {
   "cell_type": "code",
   "execution_count": 37,
   "metadata": {
    "id": "1QyUyokZXRyG"
   },
   "outputs": [
    {
     "data": {
      "text/plain": [
       "Coquimbo              35\n",
       "Antofagasta           24\n",
       "Tarapaca              18\n",
       "Ñuble                  9\n",
       "Arica y Parinacota     9\n",
       "Maule                  8\n",
       "Santiago               6\n",
       "Ohiggins               5\n",
       "Valparaiso             5\n",
       "Atacama                5\n",
       "Araucania              3\n",
       "Biobio                 1\n",
       "Los Lagos              1\n",
       "Name: Region, dtype: int64"
      ]
     },
     "execution_count": 37,
     "metadata": {},
     "output_type": "execute_result"
    }
   ],
   "source": [
    "aux_terremotos = df5[df5['Fuerte']==1]\n",
    "aux_terremotos['Region'].value_counts()"
   ]
  },
  {
   "cell_type": "code",
   "execution_count": 38,
   "metadata": {
    "id": "-eoNnqScW3f4"
   },
   "outputs": [
    {
     "data": {
      "text/plain": [
       "<AxesSubplot:>"
      ]
     },
     "execution_count": 38,
     "metadata": {},
     "output_type": "execute_result"
    },
    {
     "data": {
      "image/png": "[encoded data removed]",
      "text/plain": [
       "<Figure size 432x288 with 1 Axes>"
      ]
     },
     "metadata": {
      "needs_background": "light"
     },
     "output_type": "display_data"
    }
   ],
   "source": [
    "fig, ax = plt.subplots()\n",
    "aux_terremotos['Region'].value_counts().plot(ax=ax,kind='bar')"
   ]
  },
  {
   "cell_type": "code",
   "execution_count": 39,
   "metadata": {
    "id": "HsNxid8W2lST"
   },
   "outputs": [
    {
     "name": "stdout",
     "output_type": "stream",
     "text": [
      "Sismos superficiales: 39363.0\n",
      "Sismos intermedios: 38803.0\n",
      "Sismos profundos: 854.0\n"
     ]
    }
   ],
   "source": [
    "print('Sismos superficiales:',df5['Superficial'].sum())\n",
    "print('Sismos intermedios:',df5['Intermedio'].sum())\n",
    "print('Sismos profundos:',df5['Profundo'].sum())"
   ]
  },
  {
   "cell_type": "code",
   "execution_count": 40,
   "metadata": {
    "id": "aZGm9V-T2qIi"
   },
   "outputs": [
    {
     "name": "stdout",
     "output_type": "stream",
     "text": [
      "Sismos leves:\n",
      "\n",
      "Superficiales: 33652\n",
      "Intermedios: 33914\n",
      "Profundos: 502\n"
     ]
    }
   ],
   "source": [
    "leves_super = 0\n",
    "leves_inter = 0\n",
    "leves_prof = 0\n",
    "for indice, fila in df5.iterrows():\n",
    "  if fila['Leve'] == 1 and fila['Superficial'] == 1:\n",
    "    leves_super += 1\n",
    "  if fila['Leve'] == 1 and fila['Intermedio'] == 1:\n",
    "    leves_inter += 1\n",
    "  if fila['Leve'] == 1 and fila['Profundo'] == 1:\n",
    "    leves_prof += 1\n",
    "print('Sismos leves:')\n",
    "print('')\n",
    "print('Superficiales:',leves_super)\n",
    "print('Intermedios:',leves_inter)\n",
    "print('Profundos:',leves_prof)"
   ]
  },
  {
   "cell_type": "code",
   "execution_count": 41,
   "metadata": {
    "id": "5AviuG_Y2yd8"
   },
   "outputs": [
    {
     "name": "stdout",
     "output_type": "stream",
     "text": [
      "Sismos medios:\n",
      "\n",
      "Superficiales: 5622\n",
      "Intermedios: 4856\n",
      "Profundos: 345\n"
     ]
    }
   ],
   "source": [
    "medio_super = 0\n",
    "medio_inter = 0\n",
    "medio_prof = 0\n",
    "for indice, fila in df5.iterrows():\n",
    "  if fila['Medio'] == 1 and fila['Superficial'] == 1:\n",
    "    medio_super += 1\n",
    "  if fila['Medio'] == 1 and fila['Intermedio'] == 1:\n",
    "    medio_inter += 1\n",
    "  if fila['Medio'] == 1 and fila['Profundo'] == 1:\n",
    "    medio_prof += 1\n",
    "print('Sismos medios:')\n",
    "print('')\n",
    "print('Superficiales:',medio_super)\n",
    "print('Intermedios:',medio_inter)\n",
    "print('Profundos:',medio_prof)"
   ]
  },
  {
   "cell_type": "code",
   "execution_count": 42,
   "metadata": {
    "id": "LDKYVlZL24j6"
   },
   "outputs": [
    {
     "name": "stdout",
     "output_type": "stream",
     "text": [
      "Sismos fuertes:\n",
      "\n",
      "Superficiales: 89\n",
      "Intermedios: 33\n",
      "Profundos: 7\n"
     ]
    }
   ],
   "source": [
    "fuertes_super = 0\n",
    "fuertes_inter = 0\n",
    "fuertes_prof = 0\n",
    "for indice, fila in df5.iterrows():\n",
    "  if fila['Fuerte'] == 1 and fila['Superficial'] == 1:\n",
    "    fuertes_super += 1\n",
    "  if fila['Fuerte'] == 1 and fila['Intermedio'] == 1:\n",
    "    fuertes_inter += 1\n",
    "  if fila['Fuerte'] == 1 and fila['Profundo'] == 1:\n",
    "    fuertes_prof += 1\n",
    "print('Sismos fuertes:')\n",
    "print('')\n",
    "print('Superficiales:',fuertes_super)\n",
    "print('Intermedios:',fuertes_inter)\n",
    "print('Profundos:',fuertes_prof)"
   ]
  },
  {
   "cell_type": "code",
   "execution_count": 43,
   "metadata": {
    "id": "zilN9_pcMpW4"
   },
   "outputs": [
    {
     "data": {
      "text/html": [
       "<div>\n",
       "<style scoped>\n",
       "    .dataframe tbody tr th:only-of-type {\n",
       "        vertical-align: middle;\n",
       "    }\n",
       "\n",
       "    .dataframe tbody tr th {\n",
       "        vertical-align: top;\n",
       "    }\n",
       "\n",
       "    .dataframe thead th {\n",
       "        text-align: right;\n",
       "    }\n",
       "</style>\n",
       "<table border=\"1\" class=\"dataframe\">\n",
       "  <thead>\n",
       "    <tr style=\"text-align: right;\">\n",
       "      <th></th>\n",
       "      <th>Fecha local</th>\n",
       "      <th>Latitud</th>\n",
       "      <th>Longitud</th>\n",
       "      <th>Profundidad</th>\n",
       "      <th>Magnitud</th>\n",
       "      <th>Fecha</th>\n",
       "      <th>Leve</th>\n",
       "      <th>Medio</th>\n",
       "      <th>Fuerte</th>\n",
       "      <th>Superficial</th>\n",
       "      <th>Intermedio</th>\n",
       "      <th>Profundo</th>\n",
       "      <th>Region</th>\n",
       "    </tr>\n",
       "  </thead>\n",
       "  <tbody>\n",
       "    <tr>\n",
       "      <th>385</th>\n",
       "      <td>2010-02-27 03:34:08</td>\n",
       "      <td>-36.290</td>\n",
       "      <td>-73.239</td>\n",
       "      <td>30.1</td>\n",
       "      <td>8.8</td>\n",
       "      <td>2010-02-27</td>\n",
       "      <td>0.0</td>\n",
       "      <td>0.0</td>\n",
       "      <td>1.0</td>\n",
       "      <td>1.0</td>\n",
       "      <td>0.0</td>\n",
       "      <td>0.0</td>\n",
       "      <td>Ñuble</td>\n",
       "    </tr>\n",
       "    <tr>\n",
       "      <th>25567</th>\n",
       "      <td>2014-04-01 20:57:59</td>\n",
       "      <td>-19.916</td>\n",
       "      <td>-71.110</td>\n",
       "      <td>29.7</td>\n",
       "      <td>7.0</td>\n",
       "      <td>2014-04-01</td>\n",
       "      <td>0.0</td>\n",
       "      <td>0.0</td>\n",
       "      <td>1.0</td>\n",
       "      <td>1.0</td>\n",
       "      <td>0.0</td>\n",
       "      <td>0.0</td>\n",
       "      <td>Tarapaca</td>\n",
       "    </tr>\n",
       "    <tr>\n",
       "      <th>25570</th>\n",
       "      <td>2014-04-01 20:49:25</td>\n",
       "      <td>-20.087</td>\n",
       "      <td>-70.395</td>\n",
       "      <td>25.0</td>\n",
       "      <td>7.5</td>\n",
       "      <td>2014-04-01</td>\n",
       "      <td>0.0</td>\n",
       "      <td>0.0</td>\n",
       "      <td>1.0</td>\n",
       "      <td>1.0</td>\n",
       "      <td>0.0</td>\n",
       "      <td>0.0</td>\n",
       "      <td>Tarapaca</td>\n",
       "    </tr>\n",
       "    <tr>\n",
       "      <th>25571</th>\n",
       "      <td>2014-04-01 20:46:45</td>\n",
       "      <td>-19.572</td>\n",
       "      <td>-70.908</td>\n",
       "      <td>38.9</td>\n",
       "      <td>8.2</td>\n",
       "      <td>2014-04-01</td>\n",
       "      <td>0.0</td>\n",
       "      <td>0.0</td>\n",
       "      <td>1.0</td>\n",
       "      <td>1.0</td>\n",
       "      <td>0.0</td>\n",
       "      <td>0.0</td>\n",
       "      <td>Tarapaca</td>\n",
       "    </tr>\n",
       "    <tr>\n",
       "      <th>25901</th>\n",
       "      <td>2014-04-02 23:43:16</td>\n",
       "      <td>-20.545</td>\n",
       "      <td>-70.418</td>\n",
       "      <td>26.1</td>\n",
       "      <td>7.6</td>\n",
       "      <td>2014-04-02</td>\n",
       "      <td>0.0</td>\n",
       "      <td>0.0</td>\n",
       "      <td>1.0</td>\n",
       "      <td>1.0</td>\n",
       "      <td>0.0</td>\n",
       "      <td>0.0</td>\n",
       "      <td>Tarapaca</td>\n",
       "    </tr>\n",
       "    <tr>\n",
       "      <th>33820</th>\n",
       "      <td>2015-09-16 20:18:38</td>\n",
       "      <td>-31.602</td>\n",
       "      <td>-71.646</td>\n",
       "      <td>35.0</td>\n",
       "      <td>7.1</td>\n",
       "      <td>2015-09-16</td>\n",
       "      <td>0.0</td>\n",
       "      <td>0.0</td>\n",
       "      <td>1.0</td>\n",
       "      <td>1.0</td>\n",
       "      <td>0.0</td>\n",
       "      <td>0.0</td>\n",
       "      <td>Coquimbo</td>\n",
       "    </tr>\n",
       "    <tr>\n",
       "      <th>33824</th>\n",
       "      <td>2015-09-16 19:54:31</td>\n",
       "      <td>-31.637</td>\n",
       "      <td>-71.741</td>\n",
       "      <td>23.3</td>\n",
       "      <td>8.4</td>\n",
       "      <td>2015-09-16</td>\n",
       "      <td>0.0</td>\n",
       "      <td>0.0</td>\n",
       "      <td>1.0</td>\n",
       "      <td>1.0</td>\n",
       "      <td>0.0</td>\n",
       "      <td>0.0</td>\n",
       "      <td>Coquimbo</td>\n",
       "    </tr>\n",
       "    <tr>\n",
       "      <th>72297</th>\n",
       "      <td>2020-09-01 00:09:27</td>\n",
       "      <td>-27.969</td>\n",
       "      <td>-71.241</td>\n",
       "      <td>31.3</td>\n",
       "      <td>7.0</td>\n",
       "      <td>2020-09-01</td>\n",
       "      <td>0.0</td>\n",
       "      <td>0.0</td>\n",
       "      <td>1.0</td>\n",
       "      <td>1.0</td>\n",
       "      <td>0.0</td>\n",
       "      <td>0.0</td>\n",
       "      <td>Atacama</td>\n",
       "    </tr>\n",
       "  </tbody>\n",
       "</table>\n",
       "</div>"
      ],
      "text/plain": [
       "               Fecha local  Latitud  Longitud  Profundidad  Magnitud  \\\n",
       "385    2010-02-27 03:34:08  -36.290   -73.239         30.1       8.8   \n",
       "25567  2014-04-01 20:57:59  -19.916   -71.110         29.7       7.0   \n",
       "25570  2014-04-01 20:49:25  -20.087   -70.395         25.0       7.5   \n",
       "25571  2014-04-01 20:46:45  -19.572   -70.908         38.9       8.2   \n",
       "25901  2014-04-02 23:43:16  -20.545   -70.418         26.1       7.6   \n",
       "33820  2015-09-16 20:18:38  -31.602   -71.646         35.0       7.1   \n",
       "33824  2015-09-16 19:54:31  -31.637   -71.741         23.3       8.4   \n",
       "72297  2020-09-01 00:09:27  -27.969   -71.241         31.3       7.0   \n",
       "\n",
       "            Fecha  Leve  Medio  Fuerte  Superficial  Intermedio  Profundo  \\\n",
       "385    2010-02-27   0.0    0.0     1.0          1.0         0.0       0.0   \n",
       "25567  2014-04-01   0.0    0.0     1.0          1.0         0.0       0.0   \n",
       "25570  2014-04-01   0.0    0.0     1.0          1.0         0.0       0.0   \n",
       "25571  2014-04-01   0.0    0.0     1.0          1.0         0.0       0.0   \n",
       "25901  2014-04-02   0.0    0.0     1.0          1.0         0.0       0.0   \n",
       "33820  2015-09-16   0.0    0.0     1.0          1.0         0.0       0.0   \n",
       "33824  2015-09-16   0.0    0.0     1.0          1.0         0.0       0.0   \n",
       "72297  2020-09-01   0.0    0.0     1.0          1.0         0.0       0.0   \n",
       "\n",
       "         Region  \n",
       "385       Ñuble  \n",
       "25567  Tarapaca  \n",
       "25570  Tarapaca  \n",
       "25571  Tarapaca  \n",
       "25901  Tarapaca  \n",
       "33820  Coquimbo  \n",
       "33824  Coquimbo  \n",
       "72297   Atacama  "
      ]
     },
     "execution_count": 43,
     "metadata": {},
     "output_type": "execute_result"
    }
   ],
   "source": [
    "df5[df5['Magnitud']>=7]"
   ]
  },
  {
   "cell_type": "markdown",
   "metadata": {
    "id": "yiYGTIAV3-tR"
   },
   "source": [
    "# Matriz de características"
   ]
  },
  {
   "cell_type": "markdown",
   "metadata": {
    "id": "KrL5ZtIe5UIh"
   },
   "source": [
    "Definición de las llaves de la matriz"
   ]
  },
  {
   "cell_type": "code",
   "execution_count": 44,
   "metadata": {
    "id": "6cKwoRC44Dpz"
   },
   "outputs": [
    {
     "data": {
      "text/html": [
       "<div>\n",
       "<style scoped>\n",
       "    .dataframe tbody tr th:only-of-type {\n",
       "        vertical-align: middle;\n",
       "    }\n",
       "\n",
       "    .dataframe tbody tr th {\n",
       "        vertical-align: top;\n",
       "    }\n",
       "\n",
       "    .dataframe thead th {\n",
       "        text-align: right;\n",
       "    }\n",
       "</style>\n",
       "<table border=\"1\" class=\"dataframe\">\n",
       "  <thead>\n",
       "    <tr style=\"text-align: right;\">\n",
       "      <th></th>\n",
       "      <th>Fecha</th>\n",
       "      <th>Region</th>\n",
       "    </tr>\n",
       "  </thead>\n",
       "  <tbody>\n",
       "    <tr>\n",
       "      <th>0</th>\n",
       "      <td>2010-03-01</td>\n",
       "      <td>Arica y Parinacota</td>\n",
       "    </tr>\n",
       "    <tr>\n",
       "      <th>1</th>\n",
       "      <td>2010-03-01</td>\n",
       "      <td>Tarapaca</td>\n",
       "    </tr>\n",
       "    <tr>\n",
       "      <th>2</th>\n",
       "      <td>2010-03-01</td>\n",
       "      <td>Antofagasta</td>\n",
       "    </tr>\n",
       "    <tr>\n",
       "      <th>3</th>\n",
       "      <td>2010-03-01</td>\n",
       "      <td>Atacama</td>\n",
       "    </tr>\n",
       "    <tr>\n",
       "      <th>4</th>\n",
       "      <td>2010-03-01</td>\n",
       "      <td>Coquimbo</td>\n",
       "    </tr>\n",
       "  </tbody>\n",
       "</table>\n",
       "</div>"
      ],
      "text/plain": [
       "        Fecha              Region\n",
       "0  2010-03-01  Arica y Parinacota\n",
       "1  2010-03-01            Tarapaca\n",
       "2  2010-03-01         Antofagasta\n",
       "3  2010-03-01             Atacama\n",
       "4  2010-03-01            Coquimbo"
      ]
     },
     "execution_count": 44,
     "metadata": {},
     "output_type": "execute_result"
    }
   ],
   "source": [
    "lista_fechas = []\n",
    "lista_regiones = []\n",
    "fecha_inicial = dt.date(2010,3,1)\n",
    "while fecha_inicial < dt.date(2021,11,1):\n",
    "  for indice, fila in regiones.iterrows():\n",
    "    lista_fechas.append(fecha_inicial)\n",
    "    lista_regiones.append(fila['Region'])\n",
    "  fecha_inicial = fecha_inicial + relativedelta(months=1)\n",
    "matriz = pd.DataFrame({'Fecha':lista_fechas,'Region':lista_regiones})\n",
    "matriz.head()"
   ]
  },
  {
   "cell_type": "code",
   "execution_count": 45,
   "metadata": {
    "id": "f-DBO69l4mUN"
   },
   "outputs": [
    {
     "data": {
      "text/html": [
       "<div>\n",
       "<style scoped>\n",
       "    .dataframe tbody tr th:only-of-type {\n",
       "        vertical-align: middle;\n",
       "    }\n",
       "\n",
       "    .dataframe tbody tr th {\n",
       "        vertical-align: top;\n",
       "    }\n",
       "\n",
       "    .dataframe thead th {\n",
       "        text-align: right;\n",
       "    }\n",
       "</style>\n",
       "<table border=\"1\" class=\"dataframe\">\n",
       "  <thead>\n",
       "    <tr style=\"text-align: right;\">\n",
       "      <th></th>\n",
       "      <th>Fecha</th>\n",
       "      <th>Region</th>\n",
       "    </tr>\n",
       "  </thead>\n",
       "  <tbody>\n",
       "    <tr>\n",
       "      <th>2235</th>\n",
       "      <td>2021-10-01</td>\n",
       "      <td>Araucania</td>\n",
       "    </tr>\n",
       "    <tr>\n",
       "      <th>2236</th>\n",
       "      <td>2021-10-01</td>\n",
       "      <td>Los Rios</td>\n",
       "    </tr>\n",
       "    <tr>\n",
       "      <th>2237</th>\n",
       "      <td>2021-10-01</td>\n",
       "      <td>Los Lagos</td>\n",
       "    </tr>\n",
       "    <tr>\n",
       "      <th>2238</th>\n",
       "      <td>2021-10-01</td>\n",
       "      <td>Aysen</td>\n",
       "    </tr>\n",
       "    <tr>\n",
       "      <th>2239</th>\n",
       "      <td>2021-10-01</td>\n",
       "      <td>Magallanes</td>\n",
       "    </tr>\n",
       "  </tbody>\n",
       "</table>\n",
       "</div>"
      ],
      "text/plain": [
       "           Fecha      Region\n",
       "2235  2021-10-01   Araucania\n",
       "2236  2021-10-01    Los Rios\n",
       "2237  2021-10-01   Los Lagos\n",
       "2238  2021-10-01       Aysen\n",
       "2239  2021-10-01  Magallanes"
      ]
     },
     "execution_count": 45,
     "metadata": {},
     "output_type": "execute_result"
    }
   ],
   "source": [
    "matriz.tail()"
   ]
  },
  {
   "cell_type": "code",
   "execution_count": 46,
   "metadata": {
    "id": "JdycnIXnNVHT"
   },
   "outputs": [
    {
     "data": {
      "text/html": [
       "<div>\n",
       "<style scoped>\n",
       "    .dataframe tbody tr th:only-of-type {\n",
       "        vertical-align: middle;\n",
       "    }\n",
       "\n",
       "    .dataframe tbody tr th {\n",
       "        vertical-align: top;\n",
       "    }\n",
       "\n",
       "    .dataframe thead th {\n",
       "        text-align: right;\n",
       "    }\n",
       "</style>\n",
       "<table border=\"1\" class=\"dataframe\">\n",
       "  <thead>\n",
       "    <tr style=\"text-align: right;\">\n",
       "      <th></th>\n",
       "      <th>Fecha</th>\n",
       "      <th>Region</th>\n",
       "      <th>Dias_UltimoTerremoto</th>\n",
       "    </tr>\n",
       "  </thead>\n",
       "  <tbody>\n",
       "    <tr>\n",
       "      <th>0</th>\n",
       "      <td>2010-03-01</td>\n",
       "      <td>Arica y Parinacota</td>\n",
       "      <td>NaN</td>\n",
       "    </tr>\n",
       "    <tr>\n",
       "      <th>1</th>\n",
       "      <td>2010-03-01</td>\n",
       "      <td>Tarapaca</td>\n",
       "      <td>NaN</td>\n",
       "    </tr>\n",
       "    <tr>\n",
       "      <th>2</th>\n",
       "      <td>2010-03-01</td>\n",
       "      <td>Antofagasta</td>\n",
       "      <td>NaN</td>\n",
       "    </tr>\n",
       "    <tr>\n",
       "      <th>3</th>\n",
       "      <td>2010-03-01</td>\n",
       "      <td>Atacama</td>\n",
       "      <td>NaN</td>\n",
       "    </tr>\n",
       "    <tr>\n",
       "      <th>4</th>\n",
       "      <td>2010-03-01</td>\n",
       "      <td>Coquimbo</td>\n",
       "      <td>NaN</td>\n",
       "    </tr>\n",
       "  </tbody>\n",
       "</table>\n",
       "</div>"
      ],
      "text/plain": [
       "        Fecha              Region  Dias_UltimoTerremoto\n",
       "0  2010-03-01  Arica y Parinacota                   NaN\n",
       "1  2010-03-01            Tarapaca                   NaN\n",
       "2  2010-03-01         Antofagasta                   NaN\n",
       "3  2010-03-01             Atacama                   NaN\n",
       "4  2010-03-01            Coquimbo                   NaN"
      ]
     },
     "execution_count": 46,
     "metadata": {},
     "output_type": "execute_result"
    }
   ],
   "source": [
    "matriz['Dias_UltimoTerremoto'] = np.nan\n",
    "matriz.head()"
   ]
  },
  {
   "cell_type": "code",
   "execution_count": 47,
   "metadata": {
    "id": "vo314Y_7NvGZ"
   },
   "outputs": [
    {
     "data": {
      "text/html": [
       "<div>\n",
       "<style scoped>\n",
       "    .dataframe tbody tr th:only-of-type {\n",
       "        vertical-align: middle;\n",
       "    }\n",
       "\n",
       "    .dataframe tbody tr th {\n",
       "        vertical-align: top;\n",
       "    }\n",
       "\n",
       "    .dataframe thead th {\n",
       "        text-align: right;\n",
       "    }\n",
       "</style>\n",
       "<table border=\"1\" class=\"dataframe\">\n",
       "  <thead>\n",
       "    <tr style=\"text-align: right;\">\n",
       "      <th></th>\n",
       "      <th>Fechas</th>\n",
       "      <th>Regiones</th>\n",
       "    </tr>\n",
       "  </thead>\n",
       "  <tbody>\n",
       "    <tr>\n",
       "      <th>0</th>\n",
       "      <td>2010-01-28</td>\n",
       "      <td>Antofagasta</td>\n",
       "    </tr>\n",
       "    <tr>\n",
       "      <th>1</th>\n",
       "      <td>2010-02-07</td>\n",
       "      <td>Antofagasta</td>\n",
       "    </tr>\n",
       "    <tr>\n",
       "      <th>2</th>\n",
       "      <td>2010-02-12</td>\n",
       "      <td>Santiago</td>\n",
       "    </tr>\n",
       "    <tr>\n",
       "      <th>3</th>\n",
       "      <td>2010-02-27</td>\n",
       "      <td>Santiago</td>\n",
       "    </tr>\n",
       "    <tr>\n",
       "      <th>4</th>\n",
       "      <td>2010-02-27</td>\n",
       "      <td>Ohiggins</td>\n",
       "    </tr>\n",
       "  </tbody>\n",
       "</table>\n",
       "</div>"
      ],
      "text/plain": [
       "       Fechas     Regiones\n",
       "0  2010-01-28  Antofagasta\n",
       "1  2010-02-07  Antofagasta\n",
       "2  2010-02-12     Santiago\n",
       "3  2010-02-27     Santiago\n",
       "4  2010-02-27     Ohiggins"
      ]
     },
     "execution_count": 47,
     "metadata": {},
     "output_type": "execute_result"
    }
   ],
   "source": [
    "fechas_terremotos = []\n",
    "region_terremotos = []\n",
    "for indice, fila in df5.iterrows():\n",
    "  if fila['Fuerte']==1:\n",
    "    fechas_terremotos.append(fila['Fecha'])\n",
    "    region_terremotos.append(fila['Region'])\n",
    "terremotos = pd.DataFrame({'Fechas': fechas_terremotos,'Regiones': region_terremotos})\n",
    "terremotos.head()"
   ]
  },
  {
   "cell_type": "code",
   "execution_count": 48,
   "metadata": {
    "id": "5Q2vI_vOKkJz"
   },
   "outputs": [
    {
     "data": {
      "text/html": [
       "<div>\n",
       "<style scoped>\n",
       "    .dataframe tbody tr th:only-of-type {\n",
       "        vertical-align: middle;\n",
       "    }\n",
       "\n",
       "    .dataframe tbody tr th {\n",
       "        vertical-align: top;\n",
       "    }\n",
       "\n",
       "    .dataframe thead th {\n",
       "        text-align: right;\n",
       "    }\n",
       "</style>\n",
       "<table border=\"1\" class=\"dataframe\">\n",
       "  <thead>\n",
       "    <tr style=\"text-align: right;\">\n",
       "      <th></th>\n",
       "      <th>Fecha</th>\n",
       "      <th>Region</th>\n",
       "      <th>Dias_UltimoTerremoto</th>\n",
       "    </tr>\n",
       "  </thead>\n",
       "  <tbody>\n",
       "    <tr>\n",
       "      <th>0</th>\n",
       "      <td>2010-03-01</td>\n",
       "      <td>Arica y Parinacota</td>\n",
       "      <td>59.0</td>\n",
       "    </tr>\n",
       "    <tr>\n",
       "      <th>1</th>\n",
       "      <td>2010-03-01</td>\n",
       "      <td>Tarapaca</td>\n",
       "      <td>59.0</td>\n",
       "    </tr>\n",
       "    <tr>\n",
       "      <th>2</th>\n",
       "      <td>2010-03-01</td>\n",
       "      <td>Antofagasta</td>\n",
       "      <td>22.0</td>\n",
       "    </tr>\n",
       "    <tr>\n",
       "      <th>3</th>\n",
       "      <td>2010-03-01</td>\n",
       "      <td>Atacama</td>\n",
       "      <td>59.0</td>\n",
       "    </tr>\n",
       "    <tr>\n",
       "      <th>4</th>\n",
       "      <td>2010-03-01</td>\n",
       "      <td>Coquimbo</td>\n",
       "      <td>59.0</td>\n",
       "    </tr>\n",
       "  </tbody>\n",
       "</table>\n",
       "</div>"
      ],
      "text/plain": [
       "        Fecha              Region  Dias_UltimoTerremoto\n",
       "0  2010-03-01  Arica y Parinacota                  59.0\n",
       "1  2010-03-01            Tarapaca                  59.0\n",
       "2  2010-03-01         Antofagasta                  22.0\n",
       "3  2010-03-01             Atacama                  59.0\n",
       "4  2010-03-01            Coquimbo                  59.0"
      ]
     },
     "execution_count": 48,
     "metadata": {},
     "output_type": "execute_result"
    }
   ],
   "source": [
    "for indice, fila in matriz.iterrows():\n",
    "  filtro1 = terremotos[terremotos['Fechas']<fila['Fecha']]\n",
    "  filtro2 = filtro1[filtro1['Regiones']==fila['Region']]\n",
    "  if len(filtro2['Fechas']) == 0:\n",
    "    ultimo = dt.date(2010,1,1)\n",
    "  else:\n",
    "    ultimo = max(filtro2['Fechas'])\n",
    "  dif = fila['Fecha'] - ultimo\n",
    "  matriz.loc[indice,['Dias_UltimoTerremoto']] = dif.days\n",
    "matriz.head()"
   ]
  },
  {
   "cell_type": "code",
   "execution_count": 49,
   "metadata": {
    "id": "Gdeb_SE4ZR1M"
   },
   "outputs": [
    {
     "data": {
      "text/html": [
       "<div>\n",
       "<style scoped>\n",
       "    .dataframe tbody tr th:only-of-type {\n",
       "        vertical-align: middle;\n",
       "    }\n",
       "\n",
       "    .dataframe tbody tr th {\n",
       "        vertical-align: top;\n",
       "    }\n",
       "\n",
       "    .dataframe thead th {\n",
       "        text-align: right;\n",
       "    }\n",
       "</style>\n",
       "<table border=\"1\" class=\"dataframe\">\n",
       "  <thead>\n",
       "    <tr style=\"text-align: right;\">\n",
       "      <th></th>\n",
       "      <th>Fecha</th>\n",
       "      <th>Region</th>\n",
       "      <th>Dias_UltimoTerremoto</th>\n",
       "      <th>CantLeves</th>\n",
       "      <th>CantMedios</th>\n",
       "    </tr>\n",
       "  </thead>\n",
       "  <tbody>\n",
       "    <tr>\n",
       "      <th>0</th>\n",
       "      <td>2010-03-01</td>\n",
       "      <td>Arica y Parinacota</td>\n",
       "      <td>59.0</td>\n",
       "      <td>NaN</td>\n",
       "      <td>NaN</td>\n",
       "    </tr>\n",
       "    <tr>\n",
       "      <th>1</th>\n",
       "      <td>2010-03-01</td>\n",
       "      <td>Tarapaca</td>\n",
       "      <td>59.0</td>\n",
       "      <td>NaN</td>\n",
       "      <td>NaN</td>\n",
       "    </tr>\n",
       "    <tr>\n",
       "      <th>2</th>\n",
       "      <td>2010-03-01</td>\n",
       "      <td>Antofagasta</td>\n",
       "      <td>22.0</td>\n",
       "      <td>NaN</td>\n",
       "      <td>NaN</td>\n",
       "    </tr>\n",
       "    <tr>\n",
       "      <th>3</th>\n",
       "      <td>2010-03-01</td>\n",
       "      <td>Atacama</td>\n",
       "      <td>59.0</td>\n",
       "      <td>NaN</td>\n",
       "      <td>NaN</td>\n",
       "    </tr>\n",
       "    <tr>\n",
       "      <th>4</th>\n",
       "      <td>2010-03-01</td>\n",
       "      <td>Coquimbo</td>\n",
       "      <td>59.0</td>\n",
       "      <td>NaN</td>\n",
       "      <td>NaN</td>\n",
       "    </tr>\n",
       "  </tbody>\n",
       "</table>\n",
       "</div>"
      ],
      "text/plain": [
       "        Fecha              Region  Dias_UltimoTerremoto  CantLeves  CantMedios\n",
       "0  2010-03-01  Arica y Parinacota                  59.0        NaN         NaN\n",
       "1  2010-03-01            Tarapaca                  59.0        NaN         NaN\n",
       "2  2010-03-01         Antofagasta                  22.0        NaN         NaN\n",
       "3  2010-03-01             Atacama                  59.0        NaN         NaN\n",
       "4  2010-03-01            Coquimbo                  59.0        NaN         NaN"
      ]
     },
     "execution_count": 49,
     "metadata": {},
     "output_type": "execute_result"
    }
   ],
   "source": [
    "matriz['CantLeves'] = np.nan\n",
    "matriz['CantMedios'] = np.nan\n",
    "matriz.head()"
   ]
  },
  {
   "cell_type": "code",
   "execution_count": 50,
   "metadata": {
    "id": "rp82rp4VYHpT"
   },
   "outputs": [
    {
     "data": {
      "text/html": [
       "<div>\n",
       "<style scoped>\n",
       "    .dataframe tbody tr th:only-of-type {\n",
       "        vertical-align: middle;\n",
       "    }\n",
       "\n",
       "    .dataframe tbody tr th {\n",
       "        vertical-align: top;\n",
       "    }\n",
       "\n",
       "    .dataframe thead th {\n",
       "        text-align: right;\n",
       "    }\n",
       "</style>\n",
       "<table border=\"1\" class=\"dataframe\">\n",
       "  <thead>\n",
       "    <tr style=\"text-align: right;\">\n",
       "      <th></th>\n",
       "      <th>Fecha</th>\n",
       "      <th>Region</th>\n",
       "      <th>Dias_UltimoTerremoto</th>\n",
       "      <th>CantLeves</th>\n",
       "      <th>CantMedios</th>\n",
       "    </tr>\n",
       "  </thead>\n",
       "  <tbody>\n",
       "    <tr>\n",
       "      <th>0</th>\n",
       "      <td>2010-03-01</td>\n",
       "      <td>Arica y Parinacota</td>\n",
       "      <td>59.0</td>\n",
       "      <td>2.0</td>\n",
       "      <td>NaN</td>\n",
       "    </tr>\n",
       "    <tr>\n",
       "      <th>1</th>\n",
       "      <td>2010-03-01</td>\n",
       "      <td>Tarapaca</td>\n",
       "      <td>59.0</td>\n",
       "      <td>26.0</td>\n",
       "      <td>NaN</td>\n",
       "    </tr>\n",
       "    <tr>\n",
       "      <th>2</th>\n",
       "      <td>2010-03-01</td>\n",
       "      <td>Antofagasta</td>\n",
       "      <td>22.0</td>\n",
       "      <td>17.0</td>\n",
       "      <td>NaN</td>\n",
       "    </tr>\n",
       "    <tr>\n",
       "      <th>3</th>\n",
       "      <td>2010-03-01</td>\n",
       "      <td>Atacama</td>\n",
       "      <td>59.0</td>\n",
       "      <td>0.0</td>\n",
       "      <td>NaN</td>\n",
       "    </tr>\n",
       "    <tr>\n",
       "      <th>4</th>\n",
       "      <td>2010-03-01</td>\n",
       "      <td>Coquimbo</td>\n",
       "      <td>59.0</td>\n",
       "      <td>15.0</td>\n",
       "      <td>NaN</td>\n",
       "    </tr>\n",
       "  </tbody>\n",
       "</table>\n",
       "</div>"
      ],
      "text/plain": [
       "        Fecha              Region  Dias_UltimoTerremoto  CantLeves  CantMedios\n",
       "0  2010-03-01  Arica y Parinacota                  59.0        2.0         NaN\n",
       "1  2010-03-01            Tarapaca                  59.0       26.0         NaN\n",
       "2  2010-03-01         Antofagasta                  22.0       17.0         NaN\n",
       "3  2010-03-01             Atacama                  59.0        0.0         NaN\n",
       "4  2010-03-01            Coquimbo                  59.0       15.0         NaN"
      ]
     },
     "execution_count": 50,
     "metadata": {},
     "output_type": "execute_result"
    }
   ],
   "source": [
    "df_leve = df5[df5['Leve']==1]\n",
    "for indice, fila in matriz.iterrows():\n",
    "  rango = fila['Fecha'] - relativedelta(months=1)\n",
    "  filtro1 = df_leve[df_leve['Fecha']<fila['Fecha']]\n",
    "  filtro2 = filtro1[filtro1['Fecha']>rango]\n",
    "  filtro3 = filtro2[filtro2['Region']==fila['Region']]\n",
    "  matriz.loc[indice,['CantLeves']] = len(filtro3['Leve'])\n",
    "matriz.head()"
   ]
  },
  {
   "cell_type": "code",
   "execution_count": 51,
   "metadata": {
    "id": "3CcxRufjbPIi"
   },
   "outputs": [
    {
     "data": {
      "text/html": [
       "<div>\n",
       "<style scoped>\n",
       "    .dataframe tbody tr th:only-of-type {\n",
       "        vertical-align: middle;\n",
       "    }\n",
       "\n",
       "    .dataframe tbody tr th {\n",
       "        vertical-align: top;\n",
       "    }\n",
       "\n",
       "    .dataframe thead th {\n",
       "        text-align: right;\n",
       "    }\n",
       "</style>\n",
       "<table border=\"1\" class=\"dataframe\">\n",
       "  <thead>\n",
       "    <tr style=\"text-align: right;\">\n",
       "      <th></th>\n",
       "      <th>Fecha</th>\n",
       "      <th>Region</th>\n",
       "      <th>Dias_UltimoTerremoto</th>\n",
       "      <th>CantLeves</th>\n",
       "      <th>CantMedios</th>\n",
       "    </tr>\n",
       "  </thead>\n",
       "  <tbody>\n",
       "    <tr>\n",
       "      <th>0</th>\n",
       "      <td>2010-03-01</td>\n",
       "      <td>Arica y Parinacota</td>\n",
       "      <td>59.0</td>\n",
       "      <td>2.0</td>\n",
       "      <td>0.0</td>\n",
       "    </tr>\n",
       "    <tr>\n",
       "      <th>1</th>\n",
       "      <td>2010-03-01</td>\n",
       "      <td>Tarapaca</td>\n",
       "      <td>59.0</td>\n",
       "      <td>26.0</td>\n",
       "      <td>7.0</td>\n",
       "    </tr>\n",
       "    <tr>\n",
       "      <th>2</th>\n",
       "      <td>2010-03-01</td>\n",
       "      <td>Antofagasta</td>\n",
       "      <td>22.0</td>\n",
       "      <td>17.0</td>\n",
       "      <td>25.0</td>\n",
       "    </tr>\n",
       "    <tr>\n",
       "      <th>3</th>\n",
       "      <td>2010-03-01</td>\n",
       "      <td>Atacama</td>\n",
       "      <td>59.0</td>\n",
       "      <td>0.0</td>\n",
       "      <td>2.0</td>\n",
       "    </tr>\n",
       "    <tr>\n",
       "      <th>4</th>\n",
       "      <td>2010-03-01</td>\n",
       "      <td>Coquimbo</td>\n",
       "      <td>59.0</td>\n",
       "      <td>15.0</td>\n",
       "      <td>6.0</td>\n",
       "    </tr>\n",
       "  </tbody>\n",
       "</table>\n",
       "</div>"
      ],
      "text/plain": [
       "        Fecha              Region  Dias_UltimoTerremoto  CantLeves  CantMedios\n",
       "0  2010-03-01  Arica y Parinacota                  59.0        2.0         0.0\n",
       "1  2010-03-01            Tarapaca                  59.0       26.0         7.0\n",
       "2  2010-03-01         Antofagasta                  22.0       17.0        25.0\n",
       "3  2010-03-01             Atacama                  59.0        0.0         2.0\n",
       "4  2010-03-01            Coquimbo                  59.0       15.0         6.0"
      ]
     },
     "execution_count": 51,
     "metadata": {},
     "output_type": "execute_result"
    }
   ],
   "source": [
    "df_medio = df5[df5['Medio']==1]\n",
    "for indice, fila in matriz.iterrows():\n",
    "  rango = fila['Fecha'] - relativedelta(months=1)\n",
    "  filtro1 = df_medio[df_medio['Fecha']<fila['Fecha']]\n",
    "  filtro2 = filtro1[filtro1['Fecha']>rango]\n",
    "  filtro3 = filtro2[filtro2['Region']==fila['Region']]\n",
    "  matriz.loc[indice,['CantMedios']] = len(filtro3['Medio'])\n",
    "matriz.head()"
   ]
  },
  {
   "cell_type": "code",
   "execution_count": 52,
   "metadata": {
    "id": "pDgLlUa5YXzW"
   },
   "outputs": [
    {
     "data": {
      "text/html": [
       "<div>\n",
       "<style scoped>\n",
       "    .dataframe tbody tr th:only-of-type {\n",
       "        vertical-align: middle;\n",
       "    }\n",
       "\n",
       "    .dataframe tbody tr th {\n",
       "        vertical-align: top;\n",
       "    }\n",
       "\n",
       "    .dataframe thead th {\n",
       "        text-align: right;\n",
       "    }\n",
       "</style>\n",
       "<table border=\"1\" class=\"dataframe\">\n",
       "  <thead>\n",
       "    <tr style=\"text-align: right;\">\n",
       "      <th></th>\n",
       "      <th>Fecha</th>\n",
       "      <th>Region</th>\n",
       "      <th>Dias_UltimoTerremoto</th>\n",
       "      <th>CantLeves</th>\n",
       "      <th>CantMedios</th>\n",
       "      <th>CantSuper</th>\n",
       "      <th>CantInter</th>\n",
       "      <th>CantProf</th>\n",
       "    </tr>\n",
       "  </thead>\n",
       "  <tbody>\n",
       "    <tr>\n",
       "      <th>0</th>\n",
       "      <td>2010-03-01</td>\n",
       "      <td>Arica y Parinacota</td>\n",
       "      <td>59.0</td>\n",
       "      <td>2.0</td>\n",
       "      <td>0.0</td>\n",
       "      <td>NaN</td>\n",
       "      <td>NaN</td>\n",
       "      <td>NaN</td>\n",
       "    </tr>\n",
       "    <tr>\n",
       "      <th>1</th>\n",
       "      <td>2010-03-01</td>\n",
       "      <td>Tarapaca</td>\n",
       "      <td>59.0</td>\n",
       "      <td>26.0</td>\n",
       "      <td>7.0</td>\n",
       "      <td>NaN</td>\n",
       "      <td>NaN</td>\n",
       "      <td>NaN</td>\n",
       "    </tr>\n",
       "    <tr>\n",
       "      <th>2</th>\n",
       "      <td>2010-03-01</td>\n",
       "      <td>Antofagasta</td>\n",
       "      <td>22.0</td>\n",
       "      <td>17.0</td>\n",
       "      <td>25.0</td>\n",
       "      <td>NaN</td>\n",
       "      <td>NaN</td>\n",
       "      <td>NaN</td>\n",
       "    </tr>\n",
       "    <tr>\n",
       "      <th>3</th>\n",
       "      <td>2010-03-01</td>\n",
       "      <td>Atacama</td>\n",
       "      <td>59.0</td>\n",
       "      <td>0.0</td>\n",
       "      <td>2.0</td>\n",
       "      <td>NaN</td>\n",
       "      <td>NaN</td>\n",
       "      <td>NaN</td>\n",
       "    </tr>\n",
       "    <tr>\n",
       "      <th>4</th>\n",
       "      <td>2010-03-01</td>\n",
       "      <td>Coquimbo</td>\n",
       "      <td>59.0</td>\n",
       "      <td>15.0</td>\n",
       "      <td>6.0</td>\n",
       "      <td>NaN</td>\n",
       "      <td>NaN</td>\n",
       "      <td>NaN</td>\n",
       "    </tr>\n",
       "  </tbody>\n",
       "</table>\n",
       "</div>"
      ],
      "text/plain": [
       "        Fecha              Region  Dias_UltimoTerremoto  CantLeves  \\\n",
       "0  2010-03-01  Arica y Parinacota                  59.0        2.0   \n",
       "1  2010-03-01            Tarapaca                  59.0       26.0   \n",
       "2  2010-03-01         Antofagasta                  22.0       17.0   \n",
       "3  2010-03-01             Atacama                  59.0        0.0   \n",
       "4  2010-03-01            Coquimbo                  59.0       15.0   \n",
       "\n",
       "   CantMedios  CantSuper  CantInter  CantProf  \n",
       "0         0.0        NaN        NaN       NaN  \n",
       "1         7.0        NaN        NaN       NaN  \n",
       "2        25.0        NaN        NaN       NaN  \n",
       "3         2.0        NaN        NaN       NaN  \n",
       "4         6.0        NaN        NaN       NaN  "
      ]
     },
     "execution_count": 52,
     "metadata": {},
     "output_type": "execute_result"
    }
   ],
   "source": [
    "matriz['CantSuper'] = np.nan\n",
    "matriz['CantInter'] = np.nan\n",
    "matriz['CantProf'] = np.nan\n",
    "matriz.head()"
   ]
  },
  {
   "cell_type": "code",
   "execution_count": 53,
   "metadata": {
    "id": "98yv3g7tYRy5"
   },
   "outputs": [
    {
     "data": {
      "text/html": [
       "<div>\n",
       "<style scoped>\n",
       "    .dataframe tbody tr th:only-of-type {\n",
       "        vertical-align: middle;\n",
       "    }\n",
       "\n",
       "    .dataframe tbody tr th {\n",
       "        vertical-align: top;\n",
       "    }\n",
       "\n",
       "    .dataframe thead th {\n",
       "        text-align: right;\n",
       "    }\n",
       "</style>\n",
       "<table border=\"1\" class=\"dataframe\">\n",
       "  <thead>\n",
       "    <tr style=\"text-align: right;\">\n",
       "      <th></th>\n",
       "      <th>Fecha</th>\n",
       "      <th>Region</th>\n",
       "      <th>Dias_UltimoTerremoto</th>\n",
       "      <th>CantLeves</th>\n",
       "      <th>CantMedios</th>\n",
       "      <th>CantSuper</th>\n",
       "      <th>CantInter</th>\n",
       "      <th>CantProf</th>\n",
       "    </tr>\n",
       "  </thead>\n",
       "  <tbody>\n",
       "    <tr>\n",
       "      <th>0</th>\n",
       "      <td>2010-03-01</td>\n",
       "      <td>Arica y Parinacota</td>\n",
       "      <td>59.0</td>\n",
       "      <td>2.0</td>\n",
       "      <td>0.0</td>\n",
       "      <td>1.0</td>\n",
       "      <td>NaN</td>\n",
       "      <td>NaN</td>\n",
       "    </tr>\n",
       "    <tr>\n",
       "      <th>1</th>\n",
       "      <td>2010-03-01</td>\n",
       "      <td>Tarapaca</td>\n",
       "      <td>59.0</td>\n",
       "      <td>26.0</td>\n",
       "      <td>7.0</td>\n",
       "      <td>3.0</td>\n",
       "      <td>NaN</td>\n",
       "      <td>NaN</td>\n",
       "    </tr>\n",
       "    <tr>\n",
       "      <th>2</th>\n",
       "      <td>2010-03-01</td>\n",
       "      <td>Antofagasta</td>\n",
       "      <td>22.0</td>\n",
       "      <td>17.0</td>\n",
       "      <td>25.0</td>\n",
       "      <td>11.0</td>\n",
       "      <td>NaN</td>\n",
       "      <td>NaN</td>\n",
       "    </tr>\n",
       "    <tr>\n",
       "      <th>3</th>\n",
       "      <td>2010-03-01</td>\n",
       "      <td>Atacama</td>\n",
       "      <td>59.0</td>\n",
       "      <td>0.0</td>\n",
       "      <td>2.0</td>\n",
       "      <td>1.0</td>\n",
       "      <td>NaN</td>\n",
       "      <td>NaN</td>\n",
       "    </tr>\n",
       "    <tr>\n",
       "      <th>4</th>\n",
       "      <td>2010-03-01</td>\n",
       "      <td>Coquimbo</td>\n",
       "      <td>59.0</td>\n",
       "      <td>15.0</td>\n",
       "      <td>6.0</td>\n",
       "      <td>10.0</td>\n",
       "      <td>NaN</td>\n",
       "      <td>NaN</td>\n",
       "    </tr>\n",
       "  </tbody>\n",
       "</table>\n",
       "</div>"
      ],
      "text/plain": [
       "        Fecha              Region  Dias_UltimoTerremoto  CantLeves  \\\n",
       "0  2010-03-01  Arica y Parinacota                  59.0        2.0   \n",
       "1  2010-03-01            Tarapaca                  59.0       26.0   \n",
       "2  2010-03-01         Antofagasta                  22.0       17.0   \n",
       "3  2010-03-01             Atacama                  59.0        0.0   \n",
       "4  2010-03-01            Coquimbo                  59.0       15.0   \n",
       "\n",
       "   CantMedios  CantSuper  CantInter  CantProf  \n",
       "0         0.0        1.0        NaN       NaN  \n",
       "1         7.0        3.0        NaN       NaN  \n",
       "2        25.0       11.0        NaN       NaN  \n",
       "3         2.0        1.0        NaN       NaN  \n",
       "4         6.0       10.0        NaN       NaN  "
      ]
     },
     "execution_count": 53,
     "metadata": {},
     "output_type": "execute_result"
    }
   ],
   "source": [
    "df_super = df5[df5['Superficial']==1]\n",
    "for indice, fila in matriz.iterrows():\n",
    "  rango = fila['Fecha'] - relativedelta(months=1)\n",
    "  filtro1 = df_super[df_super['Fecha']<fila['Fecha']]\n",
    "  filtro2 = filtro1[filtro1['Fecha']>rango]\n",
    "  filtro3 = filtro2[filtro2['Region']==fila['Region']]\n",
    "  matriz.loc[indice,['CantSuper']] = len(filtro3['Superficial'])\n",
    "matriz.head()"
   ]
  },
  {
   "cell_type": "code",
   "execution_count": 54,
   "metadata": {
    "id": "tWpIkRY8YSTn"
   },
   "outputs": [
    {
     "data": {
      "text/html": [
       "<div>\n",
       "<style scoped>\n",
       "    .dataframe tbody tr th:only-of-type {\n",
       "        vertical-align: middle;\n",
       "    }\n",
       "\n",
       "    .dataframe tbody tr th {\n",
       "        vertical-align: top;\n",
       "    }\n",
       "\n",
       "    .dataframe thead th {\n",
       "        text-align: right;\n",
       "    }\n",
       "</style>\n",
       "<table border=\"1\" class=\"dataframe\">\n",
       "  <thead>\n",
       "    <tr style=\"text-align: right;\">\n",
       "      <th></th>\n",
       "      <th>Fecha</th>\n",
       "      <th>Region</th>\n",
       "      <th>Dias_UltimoTerremoto</th>\n",
       "      <th>CantLeves</th>\n",
       "      <th>CantMedios</th>\n",
       "      <th>CantSuper</th>\n",
       "      <th>CantInter</th>\n",
       "      <th>CantProf</th>\n",
       "    </tr>\n",
       "  </thead>\n",
       "  <tbody>\n",
       "    <tr>\n",
       "      <th>0</th>\n",
       "      <td>2010-03-01</td>\n",
       "      <td>Arica y Parinacota</td>\n",
       "      <td>59.0</td>\n",
       "      <td>2.0</td>\n",
       "      <td>0.0</td>\n",
       "      <td>1.0</td>\n",
       "      <td>1.0</td>\n",
       "      <td>NaN</td>\n",
       "    </tr>\n",
       "    <tr>\n",
       "      <th>1</th>\n",
       "      <td>2010-03-01</td>\n",
       "      <td>Tarapaca</td>\n",
       "      <td>59.0</td>\n",
       "      <td>26.0</td>\n",
       "      <td>7.0</td>\n",
       "      <td>3.0</td>\n",
       "      <td>30.0</td>\n",
       "      <td>NaN</td>\n",
       "    </tr>\n",
       "    <tr>\n",
       "      <th>2</th>\n",
       "      <td>2010-03-01</td>\n",
       "      <td>Antofagasta</td>\n",
       "      <td>22.0</td>\n",
       "      <td>17.0</td>\n",
       "      <td>25.0</td>\n",
       "      <td>11.0</td>\n",
       "      <td>26.0</td>\n",
       "      <td>NaN</td>\n",
       "    </tr>\n",
       "    <tr>\n",
       "      <th>3</th>\n",
       "      <td>2010-03-01</td>\n",
       "      <td>Atacama</td>\n",
       "      <td>59.0</td>\n",
       "      <td>0.0</td>\n",
       "      <td>2.0</td>\n",
       "      <td>1.0</td>\n",
       "      <td>1.0</td>\n",
       "      <td>NaN</td>\n",
       "    </tr>\n",
       "    <tr>\n",
       "      <th>4</th>\n",
       "      <td>2010-03-01</td>\n",
       "      <td>Coquimbo</td>\n",
       "      <td>59.0</td>\n",
       "      <td>15.0</td>\n",
       "      <td>6.0</td>\n",
       "      <td>10.0</td>\n",
       "      <td>11.0</td>\n",
       "      <td>NaN</td>\n",
       "    </tr>\n",
       "  </tbody>\n",
       "</table>\n",
       "</div>"
      ],
      "text/plain": [
       "        Fecha              Region  Dias_UltimoTerremoto  CantLeves  \\\n",
       "0  2010-03-01  Arica y Parinacota                  59.0        2.0   \n",
       "1  2010-03-01            Tarapaca                  59.0       26.0   \n",
       "2  2010-03-01         Antofagasta                  22.0       17.0   \n",
       "3  2010-03-01             Atacama                  59.0        0.0   \n",
       "4  2010-03-01            Coquimbo                  59.0       15.0   \n",
       "\n",
       "   CantMedios  CantSuper  CantInter  CantProf  \n",
       "0         0.0        1.0        1.0       NaN  \n",
       "1         7.0        3.0       30.0       NaN  \n",
       "2        25.0       11.0       26.0       NaN  \n",
       "3         2.0        1.0        1.0       NaN  \n",
       "4         6.0       10.0       11.0       NaN  "
      ]
     },
     "execution_count": 54,
     "metadata": {},
     "output_type": "execute_result"
    }
   ],
   "source": [
    "df_inter = df5[df5['Intermedio']==1]\n",
    "for indice, fila in matriz.iterrows():\n",
    "  rango = fila['Fecha'] - relativedelta(months=1)\n",
    "  filtro1 = df_inter[df_inter['Fecha']<fila['Fecha']]\n",
    "  filtro2 = filtro1[filtro1['Fecha']>rango]\n",
    "  filtro3 = filtro2[filtro2['Region']==fila['Region']]\n",
    "  matriz.loc[indice,['CantInter']] = len(filtro3['Intermedio'])\n",
    "matriz.head()"
   ]
  },
  {
   "cell_type": "code",
   "execution_count": 55,
   "metadata": {
    "id": "QRLRvSsyYSjn"
   },
   "outputs": [
    {
     "data": {
      "text/html": [
       "<div>\n",
       "<style scoped>\n",
       "    .dataframe tbody tr th:only-of-type {\n",
       "        vertical-align: middle;\n",
       "    }\n",
       "\n",
       "    .dataframe tbody tr th {\n",
       "        vertical-align: top;\n",
       "    }\n",
       "\n",
       "    .dataframe thead th {\n",
       "        text-align: right;\n",
       "    }\n",
       "</style>\n",
       "<table border=\"1\" class=\"dataframe\">\n",
       "  <thead>\n",
       "    <tr style=\"text-align: right;\">\n",
       "      <th></th>\n",
       "      <th>Fecha</th>\n",
       "      <th>Region</th>\n",
       "      <th>Dias_UltimoTerremoto</th>\n",
       "      <th>CantLeves</th>\n",
       "      <th>CantMedios</th>\n",
       "      <th>CantSuper</th>\n",
       "      <th>CantInter</th>\n",
       "      <th>CantProf</th>\n",
       "    </tr>\n",
       "  </thead>\n",
       "  <tbody>\n",
       "    <tr>\n",
       "      <th>0</th>\n",
       "      <td>2010-03-01</td>\n",
       "      <td>Arica y Parinacota</td>\n",
       "      <td>59.0</td>\n",
       "      <td>2.0</td>\n",
       "      <td>0.0</td>\n",
       "      <td>1.0</td>\n",
       "      <td>1.0</td>\n",
       "      <td>0.0</td>\n",
       "    </tr>\n",
       "    <tr>\n",
       "      <th>1</th>\n",
       "      <td>2010-03-01</td>\n",
       "      <td>Tarapaca</td>\n",
       "      <td>59.0</td>\n",
       "      <td>26.0</td>\n",
       "      <td>7.0</td>\n",
       "      <td>3.0</td>\n",
       "      <td>30.0</td>\n",
       "      <td>0.0</td>\n",
       "    </tr>\n",
       "    <tr>\n",
       "      <th>2</th>\n",
       "      <td>2010-03-01</td>\n",
       "      <td>Antofagasta</td>\n",
       "      <td>22.0</td>\n",
       "      <td>17.0</td>\n",
       "      <td>25.0</td>\n",
       "      <td>11.0</td>\n",
       "      <td>26.0</td>\n",
       "      <td>6.0</td>\n",
       "    </tr>\n",
       "    <tr>\n",
       "      <th>3</th>\n",
       "      <td>2010-03-01</td>\n",
       "      <td>Atacama</td>\n",
       "      <td>59.0</td>\n",
       "      <td>0.0</td>\n",
       "      <td>2.0</td>\n",
       "      <td>1.0</td>\n",
       "      <td>1.0</td>\n",
       "      <td>0.0</td>\n",
       "    </tr>\n",
       "    <tr>\n",
       "      <th>4</th>\n",
       "      <td>2010-03-01</td>\n",
       "      <td>Coquimbo</td>\n",
       "      <td>59.0</td>\n",
       "      <td>15.0</td>\n",
       "      <td>6.0</td>\n",
       "      <td>10.0</td>\n",
       "      <td>11.0</td>\n",
       "      <td>0.0</td>\n",
       "    </tr>\n",
       "  </tbody>\n",
       "</table>\n",
       "</div>"
      ],
      "text/plain": [
       "        Fecha              Region  Dias_UltimoTerremoto  CantLeves  \\\n",
       "0  2010-03-01  Arica y Parinacota                  59.0        2.0   \n",
       "1  2010-03-01            Tarapaca                  59.0       26.0   \n",
       "2  2010-03-01         Antofagasta                  22.0       17.0   \n",
       "3  2010-03-01             Atacama                  59.0        0.0   \n",
       "4  2010-03-01            Coquimbo                  59.0       15.0   \n",
       "\n",
       "   CantMedios  CantSuper  CantInter  CantProf  \n",
       "0         0.0        1.0        1.0       0.0  \n",
       "1         7.0        3.0       30.0       0.0  \n",
       "2        25.0       11.0       26.0       6.0  \n",
       "3         2.0        1.0        1.0       0.0  \n",
       "4         6.0       10.0       11.0       0.0  "
      ]
     },
     "execution_count": 55,
     "metadata": {},
     "output_type": "execute_result"
    }
   ],
   "source": [
    "df_prof = df5[df5['Profundo']==1]\n",
    "for indice, fila in matriz.iterrows():\n",
    "  rango = fila['Fecha'] - relativedelta(months=1)\n",
    "  filtro1 = df_prof[df_prof['Fecha']<fila['Fecha']]\n",
    "  filtro2 = filtro1[filtro1['Fecha']>rango]\n",
    "  filtro3 = filtro2[filtro2['Region']==fila['Region']]\n",
    "  matriz.loc[indice,['CantProf']] = len(filtro3['Profundo'])\n",
    "matriz.head()"
   ]
  },
  {
   "cell_type": "code",
   "execution_count": 56,
   "metadata": {
    "id": "-mMp9D5WZtmH"
   },
   "outputs": [
    {
     "data": {
      "text/html": [
       "<div>\n",
       "<style scoped>\n",
       "    .dataframe tbody tr th:only-of-type {\n",
       "        vertical-align: middle;\n",
       "    }\n",
       "\n",
       "    .dataframe tbody tr th {\n",
       "        vertical-align: top;\n",
       "    }\n",
       "\n",
       "    .dataframe thead th {\n",
       "        text-align: right;\n",
       "    }\n",
       "</style>\n",
       "<table border=\"1\" class=\"dataframe\">\n",
       "  <thead>\n",
       "    <tr style=\"text-align: right;\">\n",
       "      <th></th>\n",
       "      <th>Fecha</th>\n",
       "      <th>Region</th>\n",
       "      <th>Dias_UltimoTerremoto</th>\n",
       "      <th>CantLeves</th>\n",
       "      <th>CantMedios</th>\n",
       "      <th>CantSuper</th>\n",
       "      <th>CantInter</th>\n",
       "      <th>CantProf</th>\n",
       "      <th>Max_UltimoMes</th>\n",
       "      <th>Min_UltimoMes</th>\n",
       "    </tr>\n",
       "  </thead>\n",
       "  <tbody>\n",
       "    <tr>\n",
       "      <th>0</th>\n",
       "      <td>2010-03-01</td>\n",
       "      <td>Arica y Parinacota</td>\n",
       "      <td>59.0</td>\n",
       "      <td>2.0</td>\n",
       "      <td>0.0</td>\n",
       "      <td>1.0</td>\n",
       "      <td>1.0</td>\n",
       "      <td>0.0</td>\n",
       "      <td>NaN</td>\n",
       "      <td>NaN</td>\n",
       "    </tr>\n",
       "    <tr>\n",
       "      <th>1</th>\n",
       "      <td>2010-03-01</td>\n",
       "      <td>Tarapaca</td>\n",
       "      <td>59.0</td>\n",
       "      <td>26.0</td>\n",
       "      <td>7.0</td>\n",
       "      <td>3.0</td>\n",
       "      <td>30.0</td>\n",
       "      <td>0.0</td>\n",
       "      <td>NaN</td>\n",
       "      <td>NaN</td>\n",
       "    </tr>\n",
       "    <tr>\n",
       "      <th>2</th>\n",
       "      <td>2010-03-01</td>\n",
       "      <td>Antofagasta</td>\n",
       "      <td>22.0</td>\n",
       "      <td>17.0</td>\n",
       "      <td>25.0</td>\n",
       "      <td>11.0</td>\n",
       "      <td>26.0</td>\n",
       "      <td>6.0</td>\n",
       "      <td>NaN</td>\n",
       "      <td>NaN</td>\n",
       "    </tr>\n",
       "    <tr>\n",
       "      <th>3</th>\n",
       "      <td>2010-03-01</td>\n",
       "      <td>Atacama</td>\n",
       "      <td>59.0</td>\n",
       "      <td>0.0</td>\n",
       "      <td>2.0</td>\n",
       "      <td>1.0</td>\n",
       "      <td>1.0</td>\n",
       "      <td>0.0</td>\n",
       "      <td>NaN</td>\n",
       "      <td>NaN</td>\n",
       "    </tr>\n",
       "    <tr>\n",
       "      <th>4</th>\n",
       "      <td>2010-03-01</td>\n",
       "      <td>Coquimbo</td>\n",
       "      <td>59.0</td>\n",
       "      <td>15.0</td>\n",
       "      <td>6.0</td>\n",
       "      <td>10.0</td>\n",
       "      <td>11.0</td>\n",
       "      <td>0.0</td>\n",
       "      <td>NaN</td>\n",
       "      <td>NaN</td>\n",
       "    </tr>\n",
       "  </tbody>\n",
       "</table>\n",
       "</div>"
      ],
      "text/plain": [
       "        Fecha              Region  Dias_UltimoTerremoto  CantLeves  \\\n",
       "0  2010-03-01  Arica y Parinacota                  59.0        2.0   \n",
       "1  2010-03-01            Tarapaca                  59.0       26.0   \n",
       "2  2010-03-01         Antofagasta                  22.0       17.0   \n",
       "3  2010-03-01             Atacama                  59.0        0.0   \n",
       "4  2010-03-01            Coquimbo                  59.0       15.0   \n",
       "\n",
       "   CantMedios  CantSuper  CantInter  CantProf  Max_UltimoMes  Min_UltimoMes  \n",
       "0         0.0        1.0        1.0       0.0            NaN            NaN  \n",
       "1         7.0        3.0       30.0       0.0            NaN            NaN  \n",
       "2        25.0       11.0       26.0       6.0            NaN            NaN  \n",
       "3         2.0        1.0        1.0       0.0            NaN            NaN  \n",
       "4         6.0       10.0       11.0       0.0            NaN            NaN  "
      ]
     },
     "execution_count": 56,
     "metadata": {},
     "output_type": "execute_result"
    }
   ],
   "source": [
    "matriz['Max_UltimoMes'] = np.nan\n",
    "matriz['Min_UltimoMes'] = np.nan\n",
    "matriz.head()"
   ]
  },
  {
   "cell_type": "code",
   "execution_count": 57,
   "metadata": {
    "id": "JlSsrcO_a_XW"
   },
   "outputs": [
    {
     "data": {
      "text/html": [
       "<div>\n",
       "<style scoped>\n",
       "    .dataframe tbody tr th:only-of-type {\n",
       "        vertical-align: middle;\n",
       "    }\n",
       "\n",
       "    .dataframe tbody tr th {\n",
       "        vertical-align: top;\n",
       "    }\n",
       "\n",
       "    .dataframe thead th {\n",
       "        text-align: right;\n",
       "    }\n",
       "</style>\n",
       "<table border=\"1\" class=\"dataframe\">\n",
       "  <thead>\n",
       "    <tr style=\"text-align: right;\">\n",
       "      <th></th>\n",
       "      <th>Fecha</th>\n",
       "      <th>Region</th>\n",
       "      <th>Dias_UltimoTerremoto</th>\n",
       "      <th>CantLeves</th>\n",
       "      <th>CantMedios</th>\n",
       "      <th>CantSuper</th>\n",
       "      <th>CantInter</th>\n",
       "      <th>CantProf</th>\n",
       "      <th>Max_UltimoMes</th>\n",
       "      <th>Min_UltimoMes</th>\n",
       "    </tr>\n",
       "  </thead>\n",
       "  <tbody>\n",
       "    <tr>\n",
       "      <th>0</th>\n",
       "      <td>2010-03-01</td>\n",
       "      <td>Arica y Parinacota</td>\n",
       "      <td>59.0</td>\n",
       "      <td>2.0</td>\n",
       "      <td>0.0</td>\n",
       "      <td>1.0</td>\n",
       "      <td>1.0</td>\n",
       "      <td>0.0</td>\n",
       "      <td>3.8</td>\n",
       "      <td>3.2</td>\n",
       "    </tr>\n",
       "    <tr>\n",
       "      <th>1</th>\n",
       "      <td>2010-03-01</td>\n",
       "      <td>Tarapaca</td>\n",
       "      <td>59.0</td>\n",
       "      <td>26.0</td>\n",
       "      <td>7.0</td>\n",
       "      <td>3.0</td>\n",
       "      <td>30.0</td>\n",
       "      <td>0.0</td>\n",
       "      <td>5.1</td>\n",
       "      <td>2.5</td>\n",
       "    </tr>\n",
       "    <tr>\n",
       "      <th>2</th>\n",
       "      <td>2010-03-01</td>\n",
       "      <td>Antofagasta</td>\n",
       "      <td>22.0</td>\n",
       "      <td>17.0</td>\n",
       "      <td>25.0</td>\n",
       "      <td>11.0</td>\n",
       "      <td>26.0</td>\n",
       "      <td>6.0</td>\n",
       "      <td>6.0</td>\n",
       "      <td>2.1</td>\n",
       "    </tr>\n",
       "    <tr>\n",
       "      <th>3</th>\n",
       "      <td>2010-03-01</td>\n",
       "      <td>Atacama</td>\n",
       "      <td>59.0</td>\n",
       "      <td>0.0</td>\n",
       "      <td>2.0</td>\n",
       "      <td>1.0</td>\n",
       "      <td>1.0</td>\n",
       "      <td>0.0</td>\n",
       "      <td>4.2</td>\n",
       "      <td>4.1</td>\n",
       "    </tr>\n",
       "    <tr>\n",
       "      <th>4</th>\n",
       "      <td>2010-03-01</td>\n",
       "      <td>Coquimbo</td>\n",
       "      <td>59.0</td>\n",
       "      <td>15.0</td>\n",
       "      <td>6.0</td>\n",
       "      <td>10.0</td>\n",
       "      <td>11.0</td>\n",
       "      <td>0.0</td>\n",
       "      <td>5.1</td>\n",
       "      <td>2.6</td>\n",
       "    </tr>\n",
       "  </tbody>\n",
       "</table>\n",
       "</div>"
      ],
      "text/plain": [
       "        Fecha              Region  Dias_UltimoTerremoto  CantLeves  \\\n",
       "0  2010-03-01  Arica y Parinacota                  59.0        2.0   \n",
       "1  2010-03-01            Tarapaca                  59.0       26.0   \n",
       "2  2010-03-01         Antofagasta                  22.0       17.0   \n",
       "3  2010-03-01             Atacama                  59.0        0.0   \n",
       "4  2010-03-01            Coquimbo                  59.0       15.0   \n",
       "\n",
       "   CantMedios  CantSuper  CantInter  CantProf  Max_UltimoMes  Min_UltimoMes  \n",
       "0         0.0        1.0        1.0       0.0            3.8            3.2  \n",
       "1         7.0        3.0       30.0       0.0            5.1            2.5  \n",
       "2        25.0       11.0       26.0       6.0            6.0            2.1  \n",
       "3         2.0        1.0        1.0       0.0            4.2            4.1  \n",
       "4         6.0       10.0       11.0       0.0            5.1            2.6  "
      ]
     },
     "execution_count": 57,
     "metadata": {},
     "output_type": "execute_result"
    }
   ],
   "source": [
    "for indice, fila in matriz.iterrows():\n",
    "  rango = fila['Fecha'] - relativedelta(months=1)\n",
    "  filtro1 = df5[df5['Fecha']<fila['Fecha']]\n",
    "  filtro2 = filtro1[filtro1['Fecha']>rango]\n",
    "  filtro3 = filtro2[filtro2['Region']==fila['Region']]\n",
    "  if len(filtro3['Magnitud']) != 0:\n",
    "    maximo = max(filtro3['Magnitud'])\n",
    "    minimo = min(filtro3['Magnitud'])\n",
    "  else:\n",
    "    maximo = 0\n",
    "    minimo = 0\n",
    "  matriz.loc[indice,['Max_UltimoMes']] = maximo\n",
    "  matriz.loc[indice,['Min_UltimoMes']] = minimo\n",
    "matriz.head()"
   ]
  },
  {
   "cell_type": "code",
   "execution_count": 58,
   "metadata": {
    "id": "4sUN71Kwgy5m"
   },
   "outputs": [
    {
     "data": {
      "text/html": [
       "<div>\n",
       "<style scoped>\n",
       "    .dataframe tbody tr th:only-of-type {\n",
       "        vertical-align: middle;\n",
       "    }\n",
       "\n",
       "    .dataframe tbody tr th {\n",
       "        vertical-align: top;\n",
       "    }\n",
       "\n",
       "    .dataframe thead th {\n",
       "        text-align: right;\n",
       "    }\n",
       "</style>\n",
       "<table border=\"1\" class=\"dataframe\">\n",
       "  <thead>\n",
       "    <tr style=\"text-align: right;\">\n",
       "      <th></th>\n",
       "      <th>Fecha</th>\n",
       "      <th>Region</th>\n",
       "      <th>Dias_UltimoTerremoto</th>\n",
       "      <th>CantLeves</th>\n",
       "      <th>CantMedios</th>\n",
       "      <th>CantSuper</th>\n",
       "      <th>CantInter</th>\n",
       "      <th>CantProf</th>\n",
       "      <th>Max_UltimoMes</th>\n",
       "      <th>Min_UltimoMes</th>\n",
       "      <th>Var_SismosLeves</th>\n",
       "      <th>Var_SismosMedios</th>\n",
       "    </tr>\n",
       "  </thead>\n",
       "  <tbody>\n",
       "    <tr>\n",
       "      <th>0</th>\n",
       "      <td>2010-03-01</td>\n",
       "      <td>Arica y Parinacota</td>\n",
       "      <td>59.0</td>\n",
       "      <td>2.0</td>\n",
       "      <td>0.0</td>\n",
       "      <td>1.0</td>\n",
       "      <td>1.0</td>\n",
       "      <td>0.0</td>\n",
       "      <td>3.8</td>\n",
       "      <td>3.2</td>\n",
       "      <td>NaN</td>\n",
       "      <td>NaN</td>\n",
       "    </tr>\n",
       "    <tr>\n",
       "      <th>1</th>\n",
       "      <td>2010-03-01</td>\n",
       "      <td>Tarapaca</td>\n",
       "      <td>59.0</td>\n",
       "      <td>26.0</td>\n",
       "      <td>7.0</td>\n",
       "      <td>3.0</td>\n",
       "      <td>30.0</td>\n",
       "      <td>0.0</td>\n",
       "      <td>5.1</td>\n",
       "      <td>2.5</td>\n",
       "      <td>NaN</td>\n",
       "      <td>NaN</td>\n",
       "    </tr>\n",
       "    <tr>\n",
       "      <th>2</th>\n",
       "      <td>2010-03-01</td>\n",
       "      <td>Antofagasta</td>\n",
       "      <td>22.0</td>\n",
       "      <td>17.0</td>\n",
       "      <td>25.0</td>\n",
       "      <td>11.0</td>\n",
       "      <td>26.0</td>\n",
       "      <td>6.0</td>\n",
       "      <td>6.0</td>\n",
       "      <td>2.1</td>\n",
       "      <td>NaN</td>\n",
       "      <td>NaN</td>\n",
       "    </tr>\n",
       "    <tr>\n",
       "      <th>3</th>\n",
       "      <td>2010-03-01</td>\n",
       "      <td>Atacama</td>\n",
       "      <td>59.0</td>\n",
       "      <td>0.0</td>\n",
       "      <td>2.0</td>\n",
       "      <td>1.0</td>\n",
       "      <td>1.0</td>\n",
       "      <td>0.0</td>\n",
       "      <td>4.2</td>\n",
       "      <td>4.1</td>\n",
       "      <td>NaN</td>\n",
       "      <td>NaN</td>\n",
       "    </tr>\n",
       "    <tr>\n",
       "      <th>4</th>\n",
       "      <td>2010-03-01</td>\n",
       "      <td>Coquimbo</td>\n",
       "      <td>59.0</td>\n",
       "      <td>15.0</td>\n",
       "      <td>6.0</td>\n",
       "      <td>10.0</td>\n",
       "      <td>11.0</td>\n",
       "      <td>0.0</td>\n",
       "      <td>5.1</td>\n",
       "      <td>2.6</td>\n",
       "      <td>NaN</td>\n",
       "      <td>NaN</td>\n",
       "    </tr>\n",
       "  </tbody>\n",
       "</table>\n",
       "</div>"
      ],
      "text/plain": [
       "        Fecha              Region  Dias_UltimoTerremoto  CantLeves  \\\n",
       "0  2010-03-01  Arica y Parinacota                  59.0        2.0   \n",
       "1  2010-03-01            Tarapaca                  59.0       26.0   \n",
       "2  2010-03-01         Antofagasta                  22.0       17.0   \n",
       "3  2010-03-01             Atacama                  59.0        0.0   \n",
       "4  2010-03-01            Coquimbo                  59.0       15.0   \n",
       "\n",
       "   CantMedios  CantSuper  CantInter  CantProf  Max_UltimoMes  Min_UltimoMes  \\\n",
       "0         0.0        1.0        1.0       0.0            3.8            3.2   \n",
       "1         7.0        3.0       30.0       0.0            5.1            2.5   \n",
       "2        25.0       11.0       26.0       6.0            6.0            2.1   \n",
       "3         2.0        1.0        1.0       0.0            4.2            4.1   \n",
       "4         6.0       10.0       11.0       0.0            5.1            2.6   \n",
       "\n",
       "   Var_SismosLeves  Var_SismosMedios  \n",
       "0              NaN               NaN  \n",
       "1              NaN               NaN  \n",
       "2              NaN               NaN  \n",
       "3              NaN               NaN  \n",
       "4              NaN               NaN  "
      ]
     },
     "execution_count": 58,
     "metadata": {},
     "output_type": "execute_result"
    }
   ],
   "source": [
    "matriz['Var_SismosLeves'] = np.nan\n",
    "matriz['Var_SismosMedios'] = np.nan\n",
    "matriz.head()"
   ]
  },
  {
   "cell_type": "code",
   "execution_count": 59,
   "metadata": {
    "id": "sw8CuKR0fHE2"
   },
   "outputs": [
    {
     "name": "stderr",
     "output_type": "stream",
     "text": [
      "<ipython-input-59-0c68d88e857e>:8: UserWarning: Boolean Series key will be reindexed to match DataFrame index.\n",
      "  ultimoMes = aux2_UM[aux_UM['Region']==fila['Region']]\n",
      "<ipython-input-59-0c68d88e857e>:9: UserWarning: Boolean Series key will be reindexed to match DataFrame index.\n",
      "  mesAnterior = aux2_MA[aux_MA['Region']==fila['Region']]\n"
     ]
    },
    {
     "data": {
      "text/html": [
       "<div>\n",
       "<style scoped>\n",
       "    .dataframe tbody tr th:only-of-type {\n",
       "        vertical-align: middle;\n",
       "    }\n",
       "\n",
       "    .dataframe tbody tr th {\n",
       "        vertical-align: top;\n",
       "    }\n",
       "\n",
       "    .dataframe thead th {\n",
       "        text-align: right;\n",
       "    }\n",
       "</style>\n",
       "<table border=\"1\" class=\"dataframe\">\n",
       "  <thead>\n",
       "    <tr style=\"text-align: right;\">\n",
       "      <th></th>\n",
       "      <th>Fecha</th>\n",
       "      <th>Region</th>\n",
       "      <th>Dias_UltimoTerremoto</th>\n",
       "      <th>CantLeves</th>\n",
       "      <th>CantMedios</th>\n",
       "      <th>CantSuper</th>\n",
       "      <th>CantInter</th>\n",
       "      <th>CantProf</th>\n",
       "      <th>Max_UltimoMes</th>\n",
       "      <th>Min_UltimoMes</th>\n",
       "      <th>Var_SismosLeves</th>\n",
       "      <th>Var_SismosMedios</th>\n",
       "    </tr>\n",
       "  </thead>\n",
       "  <tbody>\n",
       "    <tr>\n",
       "      <th>0</th>\n",
       "      <td>2010-03-01</td>\n",
       "      <td>Arica y Parinacota</td>\n",
       "      <td>59.0</td>\n",
       "      <td>2.0</td>\n",
       "      <td>0.0</td>\n",
       "      <td>1.0</td>\n",
       "      <td>1.0</td>\n",
       "      <td>0.0</td>\n",
       "      <td>3.8</td>\n",
       "      <td>3.2</td>\n",
       "      <td>0.333333</td>\n",
       "      <td>NaN</td>\n",
       "    </tr>\n",
       "    <tr>\n",
       "      <th>1</th>\n",
       "      <td>2010-03-01</td>\n",
       "      <td>Tarapaca</td>\n",
       "      <td>59.0</td>\n",
       "      <td>26.0</td>\n",
       "      <td>7.0</td>\n",
       "      <td>3.0</td>\n",
       "      <td>30.0</td>\n",
       "      <td>0.0</td>\n",
       "      <td>5.1</td>\n",
       "      <td>2.5</td>\n",
       "      <td>0.106383</td>\n",
       "      <td>NaN</td>\n",
       "    </tr>\n",
       "    <tr>\n",
       "      <th>2</th>\n",
       "      <td>2010-03-01</td>\n",
       "      <td>Antofagasta</td>\n",
       "      <td>22.0</td>\n",
       "      <td>17.0</td>\n",
       "      <td>25.0</td>\n",
       "      <td>11.0</td>\n",
       "      <td>26.0</td>\n",
       "      <td>6.0</td>\n",
       "      <td>6.0</td>\n",
       "      <td>2.1</td>\n",
       "      <td>0.062500</td>\n",
       "      <td>NaN</td>\n",
       "    </tr>\n",
       "    <tr>\n",
       "      <th>3</th>\n",
       "      <td>2010-03-01</td>\n",
       "      <td>Atacama</td>\n",
       "      <td>59.0</td>\n",
       "      <td>0.0</td>\n",
       "      <td>2.0</td>\n",
       "      <td>1.0</td>\n",
       "      <td>1.0</td>\n",
       "      <td>0.0</td>\n",
       "      <td>4.2</td>\n",
       "      <td>4.1</td>\n",
       "      <td>-1.000000</td>\n",
       "      <td>NaN</td>\n",
       "    </tr>\n",
       "    <tr>\n",
       "      <th>4</th>\n",
       "      <td>2010-03-01</td>\n",
       "      <td>Coquimbo</td>\n",
       "      <td>59.0</td>\n",
       "      <td>15.0</td>\n",
       "      <td>6.0</td>\n",
       "      <td>10.0</td>\n",
       "      <td>11.0</td>\n",
       "      <td>0.0</td>\n",
       "      <td>5.1</td>\n",
       "      <td>2.6</td>\n",
       "      <td>-0.090909</td>\n",
       "      <td>NaN</td>\n",
       "    </tr>\n",
       "  </tbody>\n",
       "</table>\n",
       "</div>"
      ],
      "text/plain": [
       "        Fecha              Region  Dias_UltimoTerremoto  CantLeves  \\\n",
       "0  2010-03-01  Arica y Parinacota                  59.0        2.0   \n",
       "1  2010-03-01            Tarapaca                  59.0       26.0   \n",
       "2  2010-03-01         Antofagasta                  22.0       17.0   \n",
       "3  2010-03-01             Atacama                  59.0        0.0   \n",
       "4  2010-03-01            Coquimbo                  59.0       15.0   \n",
       "\n",
       "   CantMedios  CantSuper  CantInter  CantProf  Max_UltimoMes  Min_UltimoMes  \\\n",
       "0         0.0        1.0        1.0       0.0            3.8            3.2   \n",
       "1         7.0        3.0       30.0       0.0            5.1            2.5   \n",
       "2        25.0       11.0       26.0       6.0            6.0            2.1   \n",
       "3         2.0        1.0        1.0       0.0            4.2            4.1   \n",
       "4         6.0       10.0       11.0       0.0            5.1            2.6   \n",
       "\n",
       "   Var_SismosLeves  Var_SismosMedios  \n",
       "0         0.333333               NaN  \n",
       "1         0.106383               NaN  \n",
       "2         0.062500               NaN  \n",
       "3        -1.000000               NaN  \n",
       "4        -0.090909               NaN  "
      ]
     },
     "execution_count": 59,
     "metadata": {},
     "output_type": "execute_result"
    }
   ],
   "source": [
    "for indice, fila in matriz.iterrows():\n",
    "  rango1 = fila['Fecha'] - relativedelta(months=1)\n",
    "  rango2 = fila['Fecha'] - relativedelta(months=2)\n",
    "  aux_UM = df_leve[df_leve['Fecha']<fila['Fecha']]\n",
    "  aux_MA = df_leve[df_leve['Fecha']<rango1]\n",
    "  aux2_UM = aux_UM[aux_UM['Fecha']>rango1]\n",
    "  aux2_MA = aux_MA[aux_MA['Fecha']>rango2]\n",
    "  ultimoMes = aux2_UM[aux_UM['Region']==fila['Region']]\n",
    "  mesAnterior = aux2_MA[aux_MA['Region']==fila['Region']]\n",
    "  sismos_UM = len(ultimoMes['Magnitud'])\n",
    "  sismos_MA = len(mesAnterior['Magnitud'])\n",
    "  if sismos_UM + sismos_MA == 0:\n",
    "    matriz.loc[indice,['Var_SismosLeves']] = 0\n",
    "  else:\n",
    "    matriz.loc[indice,['Var_SismosLeves']] = (sismos_UM - sismos_MA)/(sismos_UM + sismos_MA)\n",
    "matriz.head()"
   ]
  },
  {
   "cell_type": "code",
   "execution_count": 60,
   "metadata": {
    "id": "hT1hysrQig3n"
   },
   "outputs": [
    {
     "name": "stderr",
     "output_type": "stream",
     "text": [
      "<ipython-input-60-2e9606884825>:8: UserWarning: Boolean Series key will be reindexed to match DataFrame index.\n",
      "  ultimoMes = aux2_UM[aux_UM['Region']==fila['Region']]\n",
      "<ipython-input-60-2e9606884825>:9: UserWarning: Boolean Series key will be reindexed to match DataFrame index.\n",
      "  mesAnterior = aux2_MA[aux_MA['Region']==fila['Region']]\n"
     ]
    },
    {
     "data": {
      "text/html": [
       "<div>\n",
       "<style scoped>\n",
       "    .dataframe tbody tr th:only-of-type {\n",
       "        vertical-align: middle;\n",
       "    }\n",
       "\n",
       "    .dataframe tbody tr th {\n",
       "        vertical-align: top;\n",
       "    }\n",
       "\n",
       "    .dataframe thead th {\n",
       "        text-align: right;\n",
       "    }\n",
       "</style>\n",
       "<table border=\"1\" class=\"dataframe\">\n",
       "  <thead>\n",
       "    <tr style=\"text-align: right;\">\n",
       "      <th></th>\n",
       "      <th>Fecha</th>\n",
       "      <th>Region</th>\n",
       "      <th>Dias_UltimoTerremoto</th>\n",
       "      <th>CantLeves</th>\n",
       "      <th>CantMedios</th>\n",
       "      <th>CantSuper</th>\n",
       "      <th>CantInter</th>\n",
       "      <th>CantProf</th>\n",
       "      <th>Max_UltimoMes</th>\n",
       "      <th>Min_UltimoMes</th>\n",
       "      <th>Var_SismosLeves</th>\n",
       "      <th>Var_SismosMedios</th>\n",
       "    </tr>\n",
       "  </thead>\n",
       "  <tbody>\n",
       "    <tr>\n",
       "      <th>0</th>\n",
       "      <td>2010-03-01</td>\n",
       "      <td>Arica y Parinacota</td>\n",
       "      <td>59.0</td>\n",
       "      <td>2.0</td>\n",
       "      <td>0.0</td>\n",
       "      <td>1.0</td>\n",
       "      <td>1.0</td>\n",
       "      <td>0.0</td>\n",
       "      <td>3.8</td>\n",
       "      <td>3.2</td>\n",
       "      <td>0.333333</td>\n",
       "      <td>-1.000000</td>\n",
       "    </tr>\n",
       "    <tr>\n",
       "      <th>1</th>\n",
       "      <td>2010-03-01</td>\n",
       "      <td>Tarapaca</td>\n",
       "      <td>59.0</td>\n",
       "      <td>26.0</td>\n",
       "      <td>7.0</td>\n",
       "      <td>3.0</td>\n",
       "      <td>30.0</td>\n",
       "      <td>0.0</td>\n",
       "      <td>5.1</td>\n",
       "      <td>2.5</td>\n",
       "      <td>0.106383</td>\n",
       "      <td>0.076923</td>\n",
       "    </tr>\n",
       "    <tr>\n",
       "      <th>2</th>\n",
       "      <td>2010-03-01</td>\n",
       "      <td>Antofagasta</td>\n",
       "      <td>22.0</td>\n",
       "      <td>17.0</td>\n",
       "      <td>25.0</td>\n",
       "      <td>11.0</td>\n",
       "      <td>26.0</td>\n",
       "      <td>6.0</td>\n",
       "      <td>6.0</td>\n",
       "      <td>2.1</td>\n",
       "      <td>0.062500</td>\n",
       "      <td>0.190476</td>\n",
       "    </tr>\n",
       "    <tr>\n",
       "      <th>3</th>\n",
       "      <td>2010-03-01</td>\n",
       "      <td>Atacama</td>\n",
       "      <td>59.0</td>\n",
       "      <td>0.0</td>\n",
       "      <td>2.0</td>\n",
       "      <td>1.0</td>\n",
       "      <td>1.0</td>\n",
       "      <td>0.0</td>\n",
       "      <td>4.2</td>\n",
       "      <td>4.1</td>\n",
       "      <td>-1.000000</td>\n",
       "      <td>-0.200000</td>\n",
       "    </tr>\n",
       "    <tr>\n",
       "      <th>4</th>\n",
       "      <td>2010-03-01</td>\n",
       "      <td>Coquimbo</td>\n",
       "      <td>59.0</td>\n",
       "      <td>15.0</td>\n",
       "      <td>6.0</td>\n",
       "      <td>10.0</td>\n",
       "      <td>11.0</td>\n",
       "      <td>0.0</td>\n",
       "      <td>5.1</td>\n",
       "      <td>2.6</td>\n",
       "      <td>-0.090909</td>\n",
       "      <td>-0.076923</td>\n",
       "    </tr>\n",
       "  </tbody>\n",
       "</table>\n",
       "</div>"
      ],
      "text/plain": [
       "        Fecha              Region  Dias_UltimoTerremoto  CantLeves  \\\n",
       "0  2010-03-01  Arica y Parinacota                  59.0        2.0   \n",
       "1  2010-03-01            Tarapaca                  59.0       26.0   \n",
       "2  2010-03-01         Antofagasta                  22.0       17.0   \n",
       "3  2010-03-01             Atacama                  59.0        0.0   \n",
       "4  2010-03-01            Coquimbo                  59.0       15.0   \n",
       "\n",
       "   CantMedios  CantSuper  CantInter  CantProf  Max_UltimoMes  Min_UltimoMes  \\\n",
       "0         0.0        1.0        1.0       0.0            3.8            3.2   \n",
       "1         7.0        3.0       30.0       0.0            5.1            2.5   \n",
       "2        25.0       11.0       26.0       6.0            6.0            2.1   \n",
       "3         2.0        1.0        1.0       0.0            4.2            4.1   \n",
       "4         6.0       10.0       11.0       0.0            5.1            2.6   \n",
       "\n",
       "   Var_SismosLeves  Var_SismosMedios  \n",
       "0         0.333333         -1.000000  \n",
       "1         0.106383          0.076923  \n",
       "2         0.062500          0.190476  \n",
       "3        -1.000000         -0.200000  \n",
       "4        -0.090909         -0.076923  "
      ]
     },
     "execution_count": 60,
     "metadata": {},
     "output_type": "execute_result"
    }
   ],
   "source": [
    "for indice, fila in matriz.iterrows():\n",
    "  rango1 = fila['Fecha'] - relativedelta(months=1)\n",
    "  rango2 = fila['Fecha'] - relativedelta(months=2)\n",
    "  aux_UM = df_medio[df_medio['Fecha']<fila['Fecha']]\n",
    "  aux_MA = df_medio[df_medio['Fecha']<rango1]\n",
    "  aux2_UM = aux_UM[aux_UM['Fecha']>rango1]\n",
    "  aux2_MA = aux_MA[aux_MA['Fecha']>rango2]\n",
    "  ultimoMes = aux2_UM[aux_UM['Region']==fila['Region']]\n",
    "  mesAnterior = aux2_MA[aux_MA['Region']==fila['Region']]\n",
    "  sismos_UM = len(ultimoMes['Magnitud'])\n",
    "  sismos_MA = len(mesAnterior['Magnitud'])\n",
    "  if sismos_UM + sismos_MA == 0:\n",
    "    matriz.loc[indice,['Var_SismosMedios']] = 0\n",
    "  else:\n",
    "    matriz.loc[indice,['Var_SismosMedios']] = (sismos_UM - sismos_MA)/(sismos_UM + sismos_MA)\n",
    "matriz.head()"
   ]
  },
  {
   "cell_type": "code",
   "execution_count": 61,
   "metadata": {
    "id": "9puMFhBZFt9B"
   },
   "outputs": [],
   "source": [
    "matriz['Var_max'] = np.nan\n",
    "matriz['Var_min'] = np.nan"
   ]
  },
  {
   "cell_type": "code",
   "execution_count": 62,
   "metadata": {
    "id": "DRL959bqF7zO"
   },
   "outputs": [
    {
     "name": "stderr",
     "output_type": "stream",
     "text": [
      "<ipython-input-62-b074925f1be2>:8: UserWarning: Boolean Series key will be reindexed to match DataFrame index.\n",
      "  ultimoMes = aux2_UM[aux_UM['Region']==fila['Region']]\n",
      "<ipython-input-62-b074925f1be2>:9: UserWarning: Boolean Series key will be reindexed to match DataFrame index.\n",
      "  mesAnterior = aux2_MA[aux_MA['Region']==fila['Region']]\n"
     ]
    },
    {
     "data": {
      "text/html": [
       "<div>\n",
       "<style scoped>\n",
       "    .dataframe tbody tr th:only-of-type {\n",
       "        vertical-align: middle;\n",
       "    }\n",
       "\n",
       "    .dataframe tbody tr th {\n",
       "        vertical-align: top;\n",
       "    }\n",
       "\n",
       "    .dataframe thead th {\n",
       "        text-align: right;\n",
       "    }\n",
       "</style>\n",
       "<table border=\"1\" class=\"dataframe\">\n",
       "  <thead>\n",
       "    <tr style=\"text-align: right;\">\n",
       "      <th></th>\n",
       "      <th>Fecha</th>\n",
       "      <th>Region</th>\n",
       "      <th>Dias_UltimoTerremoto</th>\n",
       "      <th>CantLeves</th>\n",
       "      <th>CantMedios</th>\n",
       "      <th>CantSuper</th>\n",
       "      <th>CantInter</th>\n",
       "      <th>CantProf</th>\n",
       "      <th>Max_UltimoMes</th>\n",
       "      <th>Min_UltimoMes</th>\n",
       "      <th>Var_SismosLeves</th>\n",
       "      <th>Var_SismosMedios</th>\n",
       "      <th>Var_max</th>\n",
       "      <th>Var_min</th>\n",
       "    </tr>\n",
       "  </thead>\n",
       "  <tbody>\n",
       "    <tr>\n",
       "      <th>0</th>\n",
       "      <td>2010-03-01</td>\n",
       "      <td>Arica y Parinacota</td>\n",
       "      <td>59.0</td>\n",
       "      <td>2.0</td>\n",
       "      <td>0.0</td>\n",
       "      <td>1.0</td>\n",
       "      <td>1.0</td>\n",
       "      <td>0.0</td>\n",
       "      <td>3.8</td>\n",
       "      <td>3.2</td>\n",
       "      <td>0.333333</td>\n",
       "      <td>-1.000000</td>\n",
       "      <td>-0.126437</td>\n",
       "      <td>-0.085714</td>\n",
       "    </tr>\n",
       "    <tr>\n",
       "      <th>1</th>\n",
       "      <td>2010-03-01</td>\n",
       "      <td>Tarapaca</td>\n",
       "      <td>59.0</td>\n",
       "      <td>26.0</td>\n",
       "      <td>7.0</td>\n",
       "      <td>3.0</td>\n",
       "      <td>30.0</td>\n",
       "      <td>0.0</td>\n",
       "      <td>5.1</td>\n",
       "      <td>2.5</td>\n",
       "      <td>0.106383</td>\n",
       "      <td>0.076923</td>\n",
       "      <td>-0.019231</td>\n",
       "      <td>-0.038462</td>\n",
       "    </tr>\n",
       "    <tr>\n",
       "      <th>2</th>\n",
       "      <td>2010-03-01</td>\n",
       "      <td>Antofagasta</td>\n",
       "      <td>22.0</td>\n",
       "      <td>17.0</td>\n",
       "      <td>25.0</td>\n",
       "      <td>11.0</td>\n",
       "      <td>26.0</td>\n",
       "      <td>6.0</td>\n",
       "      <td>6.0</td>\n",
       "      <td>2.1</td>\n",
       "      <td>0.062500</td>\n",
       "      <td>0.190476</td>\n",
       "      <td>-0.032258</td>\n",
       "      <td>-0.045455</td>\n",
       "    </tr>\n",
       "    <tr>\n",
       "      <th>3</th>\n",
       "      <td>2010-03-01</td>\n",
       "      <td>Atacama</td>\n",
       "      <td>59.0</td>\n",
       "      <td>0.0</td>\n",
       "      <td>2.0</td>\n",
       "      <td>1.0</td>\n",
       "      <td>1.0</td>\n",
       "      <td>0.0</td>\n",
       "      <td>4.2</td>\n",
       "      <td>4.1</td>\n",
       "      <td>-1.000000</td>\n",
       "      <td>-0.200000</td>\n",
       "      <td>-0.066667</td>\n",
       "      <td>0.138889</td>\n",
       "    </tr>\n",
       "    <tr>\n",
       "      <th>4</th>\n",
       "      <td>2010-03-01</td>\n",
       "      <td>Coquimbo</td>\n",
       "      <td>59.0</td>\n",
       "      <td>15.0</td>\n",
       "      <td>6.0</td>\n",
       "      <td>10.0</td>\n",
       "      <td>11.0</td>\n",
       "      <td>0.0</td>\n",
       "      <td>5.1</td>\n",
       "      <td>2.6</td>\n",
       "      <td>-0.090909</td>\n",
       "      <td>-0.076923</td>\n",
       "      <td>-0.055556</td>\n",
       "      <td>0.000000</td>\n",
       "    </tr>\n",
       "  </tbody>\n",
       "</table>\n",
       "</div>"
      ],
      "text/plain": [
       "        Fecha              Region  Dias_UltimoTerremoto  CantLeves  \\\n",
       "0  2010-03-01  Arica y Parinacota                  59.0        2.0   \n",
       "1  2010-03-01            Tarapaca                  59.0       26.0   \n",
       "2  2010-03-01         Antofagasta                  22.0       17.0   \n",
       "3  2010-03-01             Atacama                  59.0        0.0   \n",
       "4  2010-03-01            Coquimbo                  59.0       15.0   \n",
       "\n",
       "   CantMedios  CantSuper  CantInter  CantProf  Max_UltimoMes  Min_UltimoMes  \\\n",
       "0         0.0        1.0        1.0       0.0            3.8            3.2   \n",
       "1         7.0        3.0       30.0       0.0            5.1            2.5   \n",
       "2        25.0       11.0       26.0       6.0            6.0            2.1   \n",
       "3         2.0        1.0        1.0       0.0            4.2            4.1   \n",
       "4         6.0       10.0       11.0       0.0            5.1            2.6   \n",
       "\n",
       "   Var_SismosLeves  Var_SismosMedios   Var_max   Var_min  \n",
       "0         0.333333         -1.000000 -0.126437 -0.085714  \n",
       "1         0.106383          0.076923 -0.019231 -0.038462  \n",
       "2         0.062500          0.190476 -0.032258 -0.045455  \n",
       "3        -1.000000         -0.200000 -0.066667  0.138889  \n",
       "4        -0.090909         -0.076923 -0.055556  0.000000  "
      ]
     },
     "execution_count": 62,
     "metadata": {},
     "output_type": "execute_result"
    }
   ],
   "source": [
    "for indice, fila in matriz.iterrows():\n",
    "  rango1 = fila['Fecha'] - relativedelta(months=1)\n",
    "  rango2 = fila['Fecha'] - relativedelta(months=2)\n",
    "  aux_UM = df5[df5['Fecha']<fila['Fecha']]\n",
    "  aux_MA = df5[df5['Fecha']<rango1]\n",
    "  aux2_UM = aux_UM[aux_UM['Fecha']>rango1]\n",
    "  aux2_MA = aux_MA[aux_MA['Fecha']>rango2]\n",
    "  ultimoMes = aux2_UM[aux_UM['Region']==fila['Region']]\n",
    "  mesAnterior = aux2_MA[aux_MA['Region']==fila['Region']]\n",
    "  if len(ultimoMes['Magnitud']) == 0:\n",
    "    max_UM = 0\n",
    "    min_UM = 0\n",
    "  else:\n",
    "    max_UM = max(ultimoMes['Magnitud'])\n",
    "    min_UM = min(ultimoMes['Magnitud'])\n",
    "\n",
    "  if len(mesAnterior['Magnitud']) == 0:\n",
    "    max_MA = 0\n",
    "    min_MA = 0\n",
    "\n",
    "  else:\n",
    "    max_MA = max(mesAnterior['Magnitud'])\n",
    "    min_MA = min(mesAnterior['Magnitud'])\n",
    "\n",
    "  if max_UM + max_MA == 0:\n",
    "    matriz.loc[indice,['Var_max']] = 0\n",
    "  else:\n",
    "    matriz.loc[indice,['Var_max']] = (max_UM - max_MA)/(max_UM + max_MA)\n",
    "\n",
    "  if min_UM + min_MA == 0:\n",
    "    matriz.loc[indice,['Var_min']] = 0\n",
    "  else:\n",
    "    matriz.loc[indice,['Var_min']] = (min_UM - min_MA)/(min_UM + min_MA)\n",
    "\n",
    "matriz.head()"
   ]
  },
  {
   "cell_type": "code",
   "execution_count": 63,
   "metadata": {
    "id": "ofgMKMwhJ_ti"
   },
   "outputs": [],
   "source": [
    "matriz['Es_Arica'] = np.zeros(len(matriz))\n",
    "matriz['Es_Tarapaca'] = np.zeros(len(matriz))\n",
    "matriz['Es_Antofagasta'] = np.zeros(len(matriz))\n",
    "matriz['Es_Atacama'] = np.zeros(len(matriz))\n",
    "matriz['Es_Coquimbo'] = np.zeros(len(matriz))\n",
    "matriz['Es_Valparaiso'] = np.zeros(len(matriz))\n",
    "matriz['Es_Santiago'] = np.zeros(len(matriz))\n",
    "matriz['Es_Ohiggins'] = np.zeros(len(matriz))\n",
    "matriz['Es_Maule'] = np.zeros(len(matriz))\n",
    "matriz['Es_Ñuble'] = np.zeros(len(matriz))\n",
    "matriz['Es_BioBio'] = np.zeros(len(matriz))\n",
    "matriz['Es_Araucania'] = np.zeros(len(matriz))\n",
    "matriz['Es_LosRios'] = np.zeros(len(matriz))\n",
    "matriz['Es_LosLagos'] = np.zeros(len(matriz))\n",
    "matriz['Es_Aysen'] = np.zeros(len(matriz))\n",
    "matriz['Es_Magallanes'] = np.zeros(len(matriz))"
   ]
  },
  {
   "cell_type": "code",
   "execution_count": 64,
   "metadata": {
    "id": "g0gia-w6Kziu"
   },
   "outputs": [
    {
     "data": {
      "text/html": [
       "<div>\n",
       "<style scoped>\n",
       "    .dataframe tbody tr th:only-of-type {\n",
       "        vertical-align: middle;\n",
       "    }\n",
       "\n",
       "    .dataframe tbody tr th {\n",
       "        vertical-align: top;\n",
       "    }\n",
       "\n",
       "    .dataframe thead th {\n",
       "        text-align: right;\n",
       "    }\n",
       "</style>\n",
       "<table border=\"1\" class=\"dataframe\">\n",
       "  <thead>\n",
       "    <tr style=\"text-align: right;\">\n",
       "      <th></th>\n",
       "      <th>Fecha</th>\n",
       "      <th>Region</th>\n",
       "      <th>Dias_UltimoTerremoto</th>\n",
       "      <th>CantLeves</th>\n",
       "      <th>CantMedios</th>\n",
       "      <th>CantSuper</th>\n",
       "      <th>CantInter</th>\n",
       "      <th>CantProf</th>\n",
       "      <th>Max_UltimoMes</th>\n",
       "      <th>Min_UltimoMes</th>\n",
       "      <th>...</th>\n",
       "      <th>Es_Santiago</th>\n",
       "      <th>Es_Ohiggins</th>\n",
       "      <th>Es_Maule</th>\n",
       "      <th>Es_Ñuble</th>\n",
       "      <th>Es_BioBio</th>\n",
       "      <th>Es_Araucania</th>\n",
       "      <th>Es_LosRios</th>\n",
       "      <th>Es_LosLagos</th>\n",
       "      <th>Es_Aysen</th>\n",
       "      <th>Es_Magallanes</th>\n",
       "    </tr>\n",
       "  </thead>\n",
       "  <tbody>\n",
       "    <tr>\n",
       "      <th>0</th>\n",
       "      <td>2010-03-01</td>\n",
       "      <td>Arica y Parinacota</td>\n",
       "      <td>59.0</td>\n",
       "      <td>2.0</td>\n",
       "      <td>0.0</td>\n",
       "      <td>1.0</td>\n",
       "      <td>1.0</td>\n",
       "      <td>0.0</td>\n",
       "      <td>3.8</td>\n",
       "      <td>3.2</td>\n",
       "      <td>...</td>\n",
       "      <td>0.0</td>\n",
       "      <td>0.0</td>\n",
       "      <td>0.0</td>\n",
       "      <td>0.0</td>\n",
       "      <td>0.0</td>\n",
       "      <td>0.0</td>\n",
       "      <td>0.0</td>\n",
       "      <td>0.0</td>\n",
       "      <td>0.0</td>\n",
       "      <td>0.0</td>\n",
       "    </tr>\n",
       "    <tr>\n",
       "      <th>1</th>\n",
       "      <td>2010-03-01</td>\n",
       "      <td>Tarapaca</td>\n",
       "      <td>59.0</td>\n",
       "      <td>26.0</td>\n",
       "      <td>7.0</td>\n",
       "      <td>3.0</td>\n",
       "      <td>30.0</td>\n",
       "      <td>0.0</td>\n",
       "      <td>5.1</td>\n",
       "      <td>2.5</td>\n",
       "      <td>...</td>\n",
       "      <td>0.0</td>\n",
       "      <td>0.0</td>\n",
       "      <td>0.0</td>\n",
       "      <td>0.0</td>\n",
       "      <td>0.0</td>\n",
       "      <td>0.0</td>\n",
       "      <td>0.0</td>\n",
       "      <td>0.0</td>\n",
       "      <td>0.0</td>\n",
       "      <td>0.0</td>\n",
       "    </tr>\n",
       "    <tr>\n",
       "      <th>2</th>\n",
       "      <td>2010-03-01</td>\n",
       "      <td>Antofagasta</td>\n",
       "      <td>22.0</td>\n",
       "      <td>17.0</td>\n",
       "      <td>25.0</td>\n",
       "      <td>11.0</td>\n",
       "      <td>26.0</td>\n",
       "      <td>6.0</td>\n",
       "      <td>6.0</td>\n",
       "      <td>2.1</td>\n",
       "      <td>...</td>\n",
       "      <td>0.0</td>\n",
       "      <td>0.0</td>\n",
       "      <td>0.0</td>\n",
       "      <td>0.0</td>\n",
       "      <td>0.0</td>\n",
       "      <td>0.0</td>\n",
       "      <td>0.0</td>\n",
       "      <td>0.0</td>\n",
       "      <td>0.0</td>\n",
       "      <td>0.0</td>\n",
       "    </tr>\n",
       "    <tr>\n",
       "      <th>3</th>\n",
       "      <td>2010-03-01</td>\n",
       "      <td>Atacama</td>\n",
       "      <td>59.0</td>\n",
       "      <td>0.0</td>\n",
       "      <td>2.0</td>\n",
       "      <td>1.0</td>\n",
       "      <td>1.0</td>\n",
       "      <td>0.0</td>\n",
       "      <td>4.2</td>\n",
       "      <td>4.1</td>\n",
       "      <td>...</td>\n",
       "      <td>0.0</td>\n",
       "      <td>0.0</td>\n",
       "      <td>0.0</td>\n",
       "      <td>0.0</td>\n",
       "      <td>0.0</td>\n",
       "      <td>0.0</td>\n",
       "      <td>0.0</td>\n",
       "      <td>0.0</td>\n",
       "      <td>0.0</td>\n",
       "      <td>0.0</td>\n",
       "    </tr>\n",
       "    <tr>\n",
       "      <th>4</th>\n",
       "      <td>2010-03-01</td>\n",
       "      <td>Coquimbo</td>\n",
       "      <td>59.0</td>\n",
       "      <td>15.0</td>\n",
       "      <td>6.0</td>\n",
       "      <td>10.0</td>\n",
       "      <td>11.0</td>\n",
       "      <td>0.0</td>\n",
       "      <td>5.1</td>\n",
       "      <td>2.6</td>\n",
       "      <td>...</td>\n",
       "      <td>0.0</td>\n",
       "      <td>0.0</td>\n",
       "      <td>0.0</td>\n",
       "      <td>0.0</td>\n",
       "      <td>0.0</td>\n",
       "      <td>0.0</td>\n",
       "      <td>0.0</td>\n",
       "      <td>0.0</td>\n",
       "      <td>0.0</td>\n",
       "      <td>0.0</td>\n",
       "    </tr>\n",
       "  </tbody>\n",
       "</table>\n",
       "<p>5 rows × 30 columns</p>\n",
       "</div>"
      ],
      "text/plain": [
       "        Fecha              Region  Dias_UltimoTerremoto  CantLeves  \\\n",
       "0  2010-03-01  Arica y Parinacota                  59.0        2.0   \n",
       "1  2010-03-01            Tarapaca                  59.0       26.0   \n",
       "2  2010-03-01         Antofagasta                  22.0       17.0   \n",
       "3  2010-03-01             Atacama                  59.0        0.0   \n",
       "4  2010-03-01            Coquimbo                  59.0       15.0   \n",
       "\n",
       "   CantMedios  CantSuper  CantInter  CantProf  Max_UltimoMes  Min_UltimoMes  \\\n",
       "0         0.0        1.0        1.0       0.0            3.8            3.2   \n",
       "1         7.0        3.0       30.0       0.0            5.1            2.5   \n",
       "2        25.0       11.0       26.0       6.0            6.0            2.1   \n",
       "3         2.0        1.0        1.0       0.0            4.2            4.1   \n",
       "4         6.0       10.0       11.0       0.0            5.1            2.6   \n",
       "\n",
       "   ...  Es_Santiago  Es_Ohiggins  Es_Maule  Es_Ñuble  Es_BioBio  Es_Araucania  \\\n",
       "0  ...          0.0          0.0       0.0       0.0        0.0           0.0   \n",
       "1  ...          0.0          0.0       0.0       0.0        0.0           0.0   \n",
       "2  ...          0.0          0.0       0.0       0.0        0.0           0.0   \n",
       "3  ...          0.0          0.0       0.0       0.0        0.0           0.0   \n",
       "4  ...          0.0          0.0       0.0       0.0        0.0           0.0   \n",
       "\n",
       "   Es_LosRios  Es_LosLagos  Es_Aysen  Es_Magallanes  \n",
       "0         0.0          0.0       0.0            0.0  \n",
       "1         0.0          0.0       0.0            0.0  \n",
       "2         0.0          0.0       0.0            0.0  \n",
       "3         0.0          0.0       0.0            0.0  \n",
       "4         0.0          0.0       0.0            0.0  \n",
       "\n",
       "[5 rows x 30 columns]"
      ]
     },
     "execution_count": 64,
     "metadata": {},
     "output_type": "execute_result"
    }
   ],
   "source": [
    "for indice,fila in matriz.iterrows():\n",
    "  if fila['Region'] == 'Arica y Parinacota':\n",
    "    matriz.loc[indice,['Es_Arica']] = 1\n",
    "  if fila['Region'] == 'Tarapaca':\n",
    "    matriz.loc[indice,['Es_Tarapaca']] = 1\n",
    "  if fila['Region'] == 'Antofagasta':\n",
    "    matriz.loc[indice,['Es_Antofagasta']] = 1\n",
    "  if fila['Region'] == 'Atacama':\n",
    "    matriz.loc[indice,['Es_Atacama']] = 1\n",
    "  if fila['Region'] == 'Coquimbo':\n",
    "    matriz.loc[indice,['Es_Coquimbo']] = 1\n",
    "  if fila['Region'] == 'Valparaiso':\n",
    "    matriz.loc[indice,['Es_Valparaiso']] = 1\n",
    "  if fila['Region'] == 'Santiago':\n",
    "    matriz.loc[indice,['Es_Santiago']] = 1\n",
    "  if fila['Region'] == 'Ohiggins':\n",
    "    matriz.loc[indice,['Es_Ohiggins']] = 1\n",
    "  if fila['Region'] == 'Maule':\n",
    "    matriz.loc[indice,['Es_Maule']] = 1\n",
    "  if fila['Region'] == 'Ñuble':\n",
    "    matriz.loc[indice,['Es_Ñuble']] = 1\n",
    "  if fila['Region'] == 'Biobio':\n",
    "    matriz.loc[indice,['Es_BioBio']] = 1\n",
    "  if fila['Region'] == 'Araucania':\n",
    "    matriz.loc[indice,['Es_Araucania']] = 1\n",
    "  if fila['Region'] == 'Los Rios':\n",
    "    matriz.loc[indice,['Es_LosRios']] = 1\n",
    "  if fila['Region'] == 'Los Lagos':\n",
    "    matriz.loc[indice,['Es_LosLagos']] = 1\n",
    "  if fila['Region'] == 'Aysen':\n",
    "    matriz.loc[indice,['Es_Aysen']] = 1\n",
    "  if fila['Region'] == 'Magallanes':\n",
    "    matriz.loc[indice,['Es_Magallanes']] = 1\n",
    "\n",
    "matriz.head()\n"
   ]
  },
  {
   "cell_type": "code",
   "execution_count": 65,
   "metadata": {
    "id": "bcPzLyLBvrYW"
   },
   "outputs": [],
   "source": [
    "matriz['Max_mes_siguiente']=np.nan"
   ]
  },
  {
   "cell_type": "code",
   "execution_count": 66,
   "metadata": {
    "id": "NwHqiMVMq38v"
   },
   "outputs": [
    {
     "data": {
      "text/html": [
       "<div>\n",
       "<style scoped>\n",
       "    .dataframe tbody tr th:only-of-type {\n",
       "        vertical-align: middle;\n",
       "    }\n",
       "\n",
       "    .dataframe tbody tr th {\n",
       "        vertical-align: top;\n",
       "    }\n",
       "\n",
       "    .dataframe thead th {\n",
       "        text-align: right;\n",
       "    }\n",
       "</style>\n",
       "<table border=\"1\" class=\"dataframe\">\n",
       "  <thead>\n",
       "    <tr style=\"text-align: right;\">\n",
       "      <th></th>\n",
       "      <th>Fecha</th>\n",
       "      <th>Region</th>\n",
       "      <th>Dias_UltimoTerremoto</th>\n",
       "      <th>CantLeves</th>\n",
       "      <th>CantMedios</th>\n",
       "      <th>CantSuper</th>\n",
       "      <th>CantInter</th>\n",
       "      <th>CantProf</th>\n",
       "      <th>Max_UltimoMes</th>\n",
       "      <th>Min_UltimoMes</th>\n",
       "      <th>...</th>\n",
       "      <th>Es_Ohiggins</th>\n",
       "      <th>Es_Maule</th>\n",
       "      <th>Es_Ñuble</th>\n",
       "      <th>Es_BioBio</th>\n",
       "      <th>Es_Araucania</th>\n",
       "      <th>Es_LosRios</th>\n",
       "      <th>Es_LosLagos</th>\n",
       "      <th>Es_Aysen</th>\n",
       "      <th>Es_Magallanes</th>\n",
       "      <th>Max_mes_siguiente</th>\n",
       "    </tr>\n",
       "  </thead>\n",
       "  <tbody>\n",
       "    <tr>\n",
       "      <th>0</th>\n",
       "      <td>2010-03-01</td>\n",
       "      <td>Arica y Parinacota</td>\n",
       "      <td>59.0</td>\n",
       "      <td>2.0</td>\n",
       "      <td>0.0</td>\n",
       "      <td>1.0</td>\n",
       "      <td>1.0</td>\n",
       "      <td>0.0</td>\n",
       "      <td>3.8</td>\n",
       "      <td>3.2</td>\n",
       "      <td>...</td>\n",
       "      <td>0.0</td>\n",
       "      <td>0.0</td>\n",
       "      <td>0.0</td>\n",
       "      <td>0.0</td>\n",
       "      <td>0.0</td>\n",
       "      <td>0.0</td>\n",
       "      <td>0.0</td>\n",
       "      <td>0.0</td>\n",
       "      <td>0.0</td>\n",
       "      <td>3.7</td>\n",
       "    </tr>\n",
       "    <tr>\n",
       "      <th>1</th>\n",
       "      <td>2010-03-01</td>\n",
       "      <td>Tarapaca</td>\n",
       "      <td>59.0</td>\n",
       "      <td>26.0</td>\n",
       "      <td>7.0</td>\n",
       "      <td>3.0</td>\n",
       "      <td>30.0</td>\n",
       "      <td>0.0</td>\n",
       "      <td>5.1</td>\n",
       "      <td>2.5</td>\n",
       "      <td>...</td>\n",
       "      <td>0.0</td>\n",
       "      <td>0.0</td>\n",
       "      <td>0.0</td>\n",
       "      <td>0.0</td>\n",
       "      <td>0.0</td>\n",
       "      <td>0.0</td>\n",
       "      <td>0.0</td>\n",
       "      <td>0.0</td>\n",
       "      <td>0.0</td>\n",
       "      <td>5.3</td>\n",
       "    </tr>\n",
       "    <tr>\n",
       "      <th>2</th>\n",
       "      <td>2010-03-01</td>\n",
       "      <td>Antofagasta</td>\n",
       "      <td>22.0</td>\n",
       "      <td>17.0</td>\n",
       "      <td>25.0</td>\n",
       "      <td>11.0</td>\n",
       "      <td>26.0</td>\n",
       "      <td>6.0</td>\n",
       "      <td>6.0</td>\n",
       "      <td>2.1</td>\n",
       "      <td>...</td>\n",
       "      <td>0.0</td>\n",
       "      <td>0.0</td>\n",
       "      <td>0.0</td>\n",
       "      <td>0.0</td>\n",
       "      <td>0.0</td>\n",
       "      <td>0.0</td>\n",
       "      <td>0.0</td>\n",
       "      <td>0.0</td>\n",
       "      <td>0.0</td>\n",
       "      <td>5.9</td>\n",
       "    </tr>\n",
       "    <tr>\n",
       "      <th>3</th>\n",
       "      <td>2010-03-01</td>\n",
       "      <td>Atacama</td>\n",
       "      <td>59.0</td>\n",
       "      <td>0.0</td>\n",
       "      <td>2.0</td>\n",
       "      <td>1.0</td>\n",
       "      <td>1.0</td>\n",
       "      <td>0.0</td>\n",
       "      <td>4.2</td>\n",
       "      <td>4.1</td>\n",
       "      <td>...</td>\n",
       "      <td>0.0</td>\n",
       "      <td>0.0</td>\n",
       "      <td>0.0</td>\n",
       "      <td>0.0</td>\n",
       "      <td>0.0</td>\n",
       "      <td>0.0</td>\n",
       "      <td>0.0</td>\n",
       "      <td>0.0</td>\n",
       "      <td>0.0</td>\n",
       "      <td>5.9</td>\n",
       "    </tr>\n",
       "    <tr>\n",
       "      <th>4</th>\n",
       "      <td>2010-03-01</td>\n",
       "      <td>Coquimbo</td>\n",
       "      <td>59.0</td>\n",
       "      <td>15.0</td>\n",
       "      <td>6.0</td>\n",
       "      <td>10.0</td>\n",
       "      <td>11.0</td>\n",
       "      <td>0.0</td>\n",
       "      <td>5.1</td>\n",
       "      <td>2.6</td>\n",
       "      <td>...</td>\n",
       "      <td>0.0</td>\n",
       "      <td>0.0</td>\n",
       "      <td>0.0</td>\n",
       "      <td>0.0</td>\n",
       "      <td>0.0</td>\n",
       "      <td>0.0</td>\n",
       "      <td>0.0</td>\n",
       "      <td>0.0</td>\n",
       "      <td>0.0</td>\n",
       "      <td>5.1</td>\n",
       "    </tr>\n",
       "  </tbody>\n",
       "</table>\n",
       "<p>5 rows × 31 columns</p>\n",
       "</div>"
      ],
      "text/plain": [
       "        Fecha              Region  Dias_UltimoTerremoto  CantLeves  \\\n",
       "0  2010-03-01  Arica y Parinacota                  59.0        2.0   \n",
       "1  2010-03-01            Tarapaca                  59.0       26.0   \n",
       "2  2010-03-01         Antofagasta                  22.0       17.0   \n",
       "3  2010-03-01             Atacama                  59.0        0.0   \n",
       "4  2010-03-01            Coquimbo                  59.0       15.0   \n",
       "\n",
       "   CantMedios  CantSuper  CantInter  CantProf  Max_UltimoMes  Min_UltimoMes  \\\n",
       "0         0.0        1.0        1.0       0.0            3.8            3.2   \n",
       "1         7.0        3.0       30.0       0.0            5.1            2.5   \n",
       "2        25.0       11.0       26.0       6.0            6.0            2.1   \n",
       "3         2.0        1.0        1.0       0.0            4.2            4.1   \n",
       "4         6.0       10.0       11.0       0.0            5.1            2.6   \n",
       "\n",
       "   ...  Es_Ohiggins  Es_Maule  Es_Ñuble  Es_BioBio  Es_Araucania  Es_LosRios  \\\n",
       "0  ...          0.0       0.0       0.0        0.0           0.0         0.0   \n",
       "1  ...          0.0       0.0       0.0        0.0           0.0         0.0   \n",
       "2  ...          0.0       0.0       0.0        0.0           0.0         0.0   \n",
       "3  ...          0.0       0.0       0.0        0.0           0.0         0.0   \n",
       "4  ...          0.0       0.0       0.0        0.0           0.0         0.0   \n",
       "\n",
       "   Es_LosLagos  Es_Aysen  Es_Magallanes  Max_mes_siguiente  \n",
       "0          0.0       0.0            0.0                3.7  \n",
       "1          0.0       0.0            0.0                5.3  \n",
       "2          0.0       0.0            0.0                5.9  \n",
       "3          0.0       0.0            0.0                5.9  \n",
       "4          0.0       0.0            0.0                5.1  \n",
       "\n",
       "[5 rows x 31 columns]"
      ]
     },
     "execution_count": 66,
     "metadata": {},
     "output_type": "execute_result"
    }
   ],
   "source": [
    "for indice, fila in matriz.iterrows():\n",
    "  rango = fila['Fecha'] + relativedelta(months=1)\n",
    "  filtro1 = df5[df5['Fecha']>fila['Fecha']]\n",
    "  filtro2 = filtro1[filtro1['Fecha']<rango]\n",
    "  filtro3 = filtro2[filtro2['Region']==fila['Region']]\n",
    "  if len(filtro3['Magnitud']) != 0:\n",
    "    maximo = max(filtro3['Magnitud'])\n",
    "  else:\n",
    "    maximo = 0\n",
    "  matriz.loc[indice,['Max_mes_siguiente']] = maximo\n",
    "matriz.head()\n"
   ]
  },
  {
   "cell_type": "code",
   "execution_count": 67,
   "metadata": {
    "id": "K2MepjU0wRfp"
   },
   "outputs": [
    {
     "data": {
      "text/html": [
       "<div>\n",
       "<style scoped>\n",
       "    .dataframe tbody tr th:only-of-type {\n",
       "        vertical-align: middle;\n",
       "    }\n",
       "\n",
       "    .dataframe tbody tr th {\n",
       "        vertical-align: top;\n",
       "    }\n",
       "\n",
       "    .dataframe thead th {\n",
       "        text-align: right;\n",
       "    }\n",
       "</style>\n",
       "<table border=\"1\" class=\"dataframe\">\n",
       "  <thead>\n",
       "    <tr style=\"text-align: right;\">\n",
       "      <th></th>\n",
       "      <th>Fecha</th>\n",
       "      <th>Region</th>\n",
       "      <th>Dias_UltimoTerremoto</th>\n",
       "      <th>CantLeves</th>\n",
       "      <th>CantMedios</th>\n",
       "      <th>CantSuper</th>\n",
       "      <th>CantInter</th>\n",
       "      <th>CantProf</th>\n",
       "      <th>Max_UltimoMes</th>\n",
       "      <th>Min_UltimoMes</th>\n",
       "      <th>...</th>\n",
       "      <th>Es_Ohiggins</th>\n",
       "      <th>Es_Maule</th>\n",
       "      <th>Es_Ñuble</th>\n",
       "      <th>Es_BioBio</th>\n",
       "      <th>Es_Araucania</th>\n",
       "      <th>Es_LosRios</th>\n",
       "      <th>Es_LosLagos</th>\n",
       "      <th>Es_Aysen</th>\n",
       "      <th>Es_Magallanes</th>\n",
       "      <th>Max_mes_siguiente</th>\n",
       "    </tr>\n",
       "  </thead>\n",
       "  <tbody>\n",
       "    <tr>\n",
       "      <th>2235</th>\n",
       "      <td>2021-10-01</td>\n",
       "      <td>Araucania</td>\n",
       "      <td>3925.0</td>\n",
       "      <td>8.0</td>\n",
       "      <td>1.0</td>\n",
       "      <td>9.0</td>\n",
       "      <td>0.0</td>\n",
       "      <td>0.0</td>\n",
       "      <td>4.5</td>\n",
       "      <td>2.7</td>\n",
       "      <td>...</td>\n",
       "      <td>0.0</td>\n",
       "      <td>0.0</td>\n",
       "      <td>0.0</td>\n",
       "      <td>0.0</td>\n",
       "      <td>1.0</td>\n",
       "      <td>0.0</td>\n",
       "      <td>0.0</td>\n",
       "      <td>0.0</td>\n",
       "      <td>0.0</td>\n",
       "      <td>3.6</td>\n",
       "    </tr>\n",
       "    <tr>\n",
       "      <th>2236</th>\n",
       "      <td>2021-10-01</td>\n",
       "      <td>Los Rios</td>\n",
       "      <td>4291.0</td>\n",
       "      <td>2.0</td>\n",
       "      <td>0.0</td>\n",
       "      <td>1.0</td>\n",
       "      <td>1.0</td>\n",
       "      <td>0.0</td>\n",
       "      <td>3.3</td>\n",
       "      <td>3.3</td>\n",
       "      <td>...</td>\n",
       "      <td>0.0</td>\n",
       "      <td>0.0</td>\n",
       "      <td>0.0</td>\n",
       "      <td>0.0</td>\n",
       "      <td>0.0</td>\n",
       "      <td>1.0</td>\n",
       "      <td>0.0</td>\n",
       "      <td>0.0</td>\n",
       "      <td>0.0</td>\n",
       "      <td>0.0</td>\n",
       "    </tr>\n",
       "    <tr>\n",
       "      <th>2237</th>\n",
       "      <td>2021-10-01</td>\n",
       "      <td>Los Lagos</td>\n",
       "      <td>736.0</td>\n",
       "      <td>1.0</td>\n",
       "      <td>0.0</td>\n",
       "      <td>0.0</td>\n",
       "      <td>1.0</td>\n",
       "      <td>0.0</td>\n",
       "      <td>2.8</td>\n",
       "      <td>2.8</td>\n",
       "      <td>...</td>\n",
       "      <td>0.0</td>\n",
       "      <td>0.0</td>\n",
       "      <td>0.0</td>\n",
       "      <td>0.0</td>\n",
       "      <td>0.0</td>\n",
       "      <td>0.0</td>\n",
       "      <td>1.0</td>\n",
       "      <td>0.0</td>\n",
       "      <td>0.0</td>\n",
       "      <td>3.3</td>\n",
       "    </tr>\n",
       "    <tr>\n",
       "      <th>2238</th>\n",
       "      <td>2021-10-01</td>\n",
       "      <td>Aysen</td>\n",
       "      <td>4291.0</td>\n",
       "      <td>1.0</td>\n",
       "      <td>0.0</td>\n",
       "      <td>1.0</td>\n",
       "      <td>0.0</td>\n",
       "      <td>0.0</td>\n",
       "      <td>2.8</td>\n",
       "      <td>2.8</td>\n",
       "      <td>...</td>\n",
       "      <td>0.0</td>\n",
       "      <td>0.0</td>\n",
       "      <td>0.0</td>\n",
       "      <td>0.0</td>\n",
       "      <td>0.0</td>\n",
       "      <td>0.0</td>\n",
       "      <td>0.0</td>\n",
       "      <td>1.0</td>\n",
       "      <td>0.0</td>\n",
       "      <td>2.8</td>\n",
       "    </tr>\n",
       "    <tr>\n",
       "      <th>2239</th>\n",
       "      <td>2021-10-01</td>\n",
       "      <td>Magallanes</td>\n",
       "      <td>4291.0</td>\n",
       "      <td>0.0</td>\n",
       "      <td>0.0</td>\n",
       "      <td>0.0</td>\n",
       "      <td>0.0</td>\n",
       "      <td>0.0</td>\n",
       "      <td>0.0</td>\n",
       "      <td>0.0</td>\n",
       "      <td>...</td>\n",
       "      <td>0.0</td>\n",
       "      <td>0.0</td>\n",
       "      <td>0.0</td>\n",
       "      <td>0.0</td>\n",
       "      <td>0.0</td>\n",
       "      <td>0.0</td>\n",
       "      <td>0.0</td>\n",
       "      <td>0.0</td>\n",
       "      <td>1.0</td>\n",
       "      <td>5.4</td>\n",
       "    </tr>\n",
       "  </tbody>\n",
       "</table>\n",
       "<p>5 rows × 31 columns</p>\n",
       "</div>"
      ],
      "text/plain": [
       "           Fecha      Region  Dias_UltimoTerremoto  CantLeves  CantMedios  \\\n",
       "2235  2021-10-01   Araucania                3925.0        8.0         1.0   \n",
       "2236  2021-10-01    Los Rios                4291.0        2.0         0.0   \n",
       "2237  2021-10-01   Los Lagos                 736.0        1.0         0.0   \n",
       "2238  2021-10-01       Aysen                4291.0        1.0         0.0   \n",
       "2239  2021-10-01  Magallanes                4291.0        0.0         0.0   \n",
       "\n",
       "      CantSuper  CantInter  CantProf  Max_UltimoMes  Min_UltimoMes  ...  \\\n",
       "2235        9.0        0.0       0.0            4.5            2.7  ...   \n",
       "2236        1.0        1.0       0.0            3.3            3.3  ...   \n",
       "2237        0.0        1.0       0.0            2.8            2.8  ...   \n",
       "2238        1.0        0.0       0.0            2.8            2.8  ...   \n",
       "2239        0.0        0.0       0.0            0.0            0.0  ...   \n",
       "\n",
       "      Es_Ohiggins  Es_Maule  Es_Ñuble  Es_BioBio  Es_Araucania  Es_LosRios  \\\n",
       "2235          0.0       0.0       0.0        0.0           1.0         0.0   \n",
       "2236          0.0       0.0       0.0        0.0           0.0         1.0   \n",
       "2237          0.0       0.0       0.0        0.0           0.0         0.0   \n",
       "2238          0.0       0.0       0.0        0.0           0.0         0.0   \n",
       "2239          0.0       0.0       0.0        0.0           0.0         0.0   \n",
       "\n",
       "      Es_LosLagos  Es_Aysen  Es_Magallanes  Max_mes_siguiente  \n",
       "2235          0.0       0.0            0.0                3.6  \n",
       "2236          0.0       0.0            0.0                0.0  \n",
       "2237          1.0       0.0            0.0                3.3  \n",
       "2238          0.0       1.0            0.0                2.8  \n",
       "2239          0.0       0.0            1.0                5.4  \n",
       "\n",
       "[5 rows x 31 columns]"
      ]
     },
     "execution_count": 67,
     "metadata": {},
     "output_type": "execute_result"
    }
   ],
   "source": [
    "matriz.tail()"
   ]
  },
  {
   "cell_type": "markdown",
   "metadata": {
    "id": "iyxnsGOysbtB"
   },
   "source": [
    "# Modelo:\n",
    "\n"
   ]
  },
  {
   "cell_type": "code",
   "execution_count": 68,
   "metadata": {
    "id": "2kkIm7rCx69f"
   },
   "outputs": [],
   "source": [
    "caracteristicas = ['Dias_UltimoTerremoto','CantLeves','CantMedios','CantSuper','CantInter','CantProf','Max_UltimoMes', 'Min_UltimoMes','Var_SismosLeves',  'Var_SismosMedios', 'Var_max','Var_min','Es_Arica','Es_Tarapaca','Es_Antofagasta','Es_Atacama','Es_Coquimbo','Es_Valparaiso','Es_Santiago','Es_Ohiggins','Es_Maule','Es_Ñuble','Es_BioBio','Es_Araucania','Es_LosRios','Es_LosLagos','Es_Aysen','Es_Magallanes']"
   ]
  },
  {
   "cell_type": "code",
   "execution_count": 69,
   "metadata": {
    "id": "1DvkHlz1wpaH"
   },
   "outputs": [],
   "source": [
    "x = matriz.loc[:,caracteristicas].to_numpy()"
   ]
  },
  {
   "cell_type": "code",
   "execution_count": 70,
   "metadata": {
    "id": "bKimiOsm0Uiy"
   },
   "outputs": [],
   "source": [
    "etiqueta = ['Max_mes_siguiente']"
   ]
  },
  {
   "cell_type": "code",
   "execution_count": 71,
   "metadata": {
    "id": "-bvC4UCjwy5j"
   },
   "outputs": [],
   "source": [
    "y = matriz.loc[:,etiqueta].to_numpy()"
   ]
  },
  {
   "cell_type": "code",
   "execution_count": 72,
   "metadata": {
    "id": "x9ZEShelwetS"
   },
   "outputs": [],
   "source": [
    "from sklearn.model_selection import train_test_split"
   ]
  },
  {
   "cell_type": "code",
   "execution_count": 73,
   "metadata": {
    "id": "CGXn4IJz0rsY"
   },
   "outputs": [],
   "source": [
    "x_train, x_test, y_train, y_test = train_test_split(x,y, test_size=0.25)"
   ]
  },
  {
   "cell_type": "markdown",
   "metadata": {
    "id": "mht4j5tI52oe"
   },
   "source": [
    "Arbol de decisión"
   ]
  },
  {
   "cell_type": "code",
   "execution_count": 74,
   "metadata": {
    "id": "I9TQjwf71HuG"
   },
   "outputs": [],
   "source": [
    "from sklearn.tree import DecisionTreeRegressor"
   ]
  },
  {
   "cell_type": "code",
   "execution_count": 75,
   "metadata": {
    "id": "Hb8yVeMN1XvI"
   },
   "outputs": [],
   "source": [
    "ad = DecisionTreeRegressor()"
   ]
  },
  {
   "cell_type": "code",
   "execution_count": 76,
   "metadata": {
    "id": "B3IcMvaw1fkf"
   },
   "outputs": [
    {
     "data": {
      "text/plain": [
       "DecisionTreeRegressor()"
      ]
     },
     "execution_count": 76,
     "metadata": {},
     "output_type": "execute_result"
    }
   ],
   "source": [
    "ad.fit(x_train,y_train)"
   ]
  },
  {
   "cell_type": "code",
   "execution_count": 77,
   "metadata": {
    "id": "83EsdbVf3MOo"
   },
   "outputs": [],
   "source": [
    "y_pred = ad.predict(x_test)"
   ]
  },
  {
   "cell_type": "code",
   "execution_count": 78,
   "metadata": {
    "id": "gILSJroI3qhT"
   },
   "outputs": [],
   "source": [
    "from sklearn.metrics import mean_squared_error"
   ]
  },
  {
   "cell_type": "code",
   "execution_count": 79,
   "metadata": {
    "id": "syHU1ZsbFOd-"
   },
   "outputs": [],
   "source": [
    "from sklearn.metrics import mean_absolute_error"
   ]
  },
  {
   "cell_type": "code",
   "execution_count": 80,
   "metadata": {
    "id": "D61xpG-R458Q"
   },
   "outputs": [
    {
     "name": "stdout",
     "output_type": "stream",
     "text": [
      "MSE: 2.575767857142857\n",
      "RMSE: 1.6049198911917246\n",
      "MAE: 1.0505357142857141\n"
     ]
    }
   ],
   "source": [
    "MSE = mean_squared_error(y_test, y_pred)\n",
    "print('MSE: '+str(MSE))\n",
    "RMSE = MSE**0.5\n",
    "print('RMSE: '+str(RMSE))\n",
    "MAE = mean_absolute_error(y_test, y_pred)\n",
    "print('MAE: '+str(MAE))"
   ]
  },
  {
   "cell_type": "code",
   "execution_count": 81,
   "metadata": {
    "id": "hKZ7Jj1uPdTP"
   },
   "outputs": [
    {
     "data": {
      "image/png": "[encoded data removed]",
      "text/plain": [
       "<Figure size 432x288 with 1 Axes>"
      ]
     },
     "metadata": {
      "needs_background": "light"
     },
     "output_type": "display_data"
    }
   ],
   "source": [
    "plt.plot(y_test, 'blue', label = 'Test')\n",
    "plt.plot(y_pred, 'brown', label = 'Predicción')\n",
    "plt.title('Comparación predicción y test')\n",
    "plt.xlabel('Datos')\n",
    "plt.ylabel('Magnitud Sismo')\n",
    "plt.grid()\n",
    "plt.legend(loc='best')\n",
    "plt.show()"
   ]
  },
  {
   "cell_type": "markdown",
   "metadata": {
    "id": "F9RE8o8HbiD9"
   },
   "source": [
    "Random Forest"
   ]
  },
  {
   "cell_type": "code",
   "execution_count": 82,
   "metadata": {
    "id": "VTMhE49tQFtq"
   },
   "outputs": [],
   "source": [
    "from sklearn.ensemble import RandomForestRegressor"
   ]
  },
  {
   "cell_type": "code",
   "execution_count": 83,
   "metadata": {
    "id": "BxOoGfUjQM-D"
   },
   "outputs": [],
   "source": [
    "rf = RandomForestRegressor()"
   ]
  },
  {
   "cell_type": "code",
   "execution_count": 84,
   "metadata": {
    "id": "01p3qAb_oocg"
   },
   "outputs": [
    {
     "name": "stderr",
     "output_type": "stream",
     "text": [
      "<ipython-input-84-fc0aeedd5571>:1: DataConversionWarning: A column-vector y was passed when a 1d array was expected. Please change the shape of y to (n_samples,), for example using ravel().\n",
      "  rf.fit(x_train, y_train)\n"
     ]
    },
    {
     "data": {
      "text/plain": [
       "RandomForestRegressor()"
      ]
     },
     "execution_count": 84,
     "metadata": {},
     "output_type": "execute_result"
    }
   ],
   "source": [
    "rf.fit(x_train, y_train)"
   ]
  },
  {
   "cell_type": "code",
   "execution_count": 85,
   "metadata": {
    "id": "8Qyfk4uWow7k"
   },
   "outputs": [],
   "source": [
    "y_pred2 = rf.predict(x_test)"
   ]
  },
  {
   "cell_type": "code",
   "execution_count": 86,
   "metadata": {
    "id": "U4jm1V20pB11"
   },
   "outputs": [
    {
     "name": "stdout",
     "output_type": "stream",
     "text": [
      "MSE: 1.5009034267857144\n",
      "RMSE: 1.2251136383151215\n",
      "MAE: 0.8258625\n"
     ]
    }
   ],
   "source": [
    "MSE = mean_squared_error(y_test, y_pred2)\n",
    "print('MSE: '+str(MSE))\n",
    "RMSE = MSE**0.5\n",
    "print('RMSE: '+str(RMSE))\n",
    "MAE = mean_absolute_error(y_test, y_pred2)\n",
    "print('MAE: '+str(MAE))"
   ]
  },
  {
   "cell_type": "code",
   "execution_count": 87,
   "metadata": {
    "id": "f5TjljoepdDp"
   },
   "outputs": [
    {
     "data": {
      "image/png": "[encoded data removed]",
      "text/plain": [
       "<Figure size 432x288 with 1 Axes>"
      ]
     },
     "metadata": {
      "needs_background": "light"
     },
     "output_type": "display_data"
    }
   ],
   "source": [
    "plt.plot(y_test, 'blue', label = 'Test')\n",
    "plt.plot(y_pred2, 'purple', label = 'Predicción')\n",
    "plt.title('Comparación predicción y test')\n",
    "plt.xlabel('Datos')\n",
    "plt.ylabel('Magnitud Sismo')\n",
    "plt.grid()\n",
    "plt.legend(loc='best')\n",
    "plt.show()"
   ]
  },
  {
   "cell_type": "markdown",
   "metadata": {
    "id": "ZMjrJMIvCtOn"
   },
   "source": [
    "Regresión lineal"
   ]
  },
  {
   "cell_type": "code",
   "execution_count": 88,
   "metadata": {
    "id": "6PkYu_oeCrfI"
   },
   "outputs": [],
   "source": [
    "from sklearn.linear_model import LinearRegression"
   ]
  },
  {
   "cell_type": "code",
   "execution_count": 89,
   "metadata": {
    "id": "RTX9Z73ECz17"
   },
   "outputs": [],
   "source": [
    "reg = LinearRegression().fit(x_train,y_train)"
   ]
  },
  {
   "cell_type": "code",
   "execution_count": 90,
   "metadata": {
    "id": "FQj-KVgCDCv4"
   },
   "outputs": [],
   "source": [
    "y_pred3 = reg.predict(x_test)"
   ]
  },
  {
   "cell_type": "code",
   "execution_count": 91,
   "metadata": {
    "id": "-BxeBOJIDQSA"
   },
   "outputs": [
    {
     "name": "stdout",
     "output_type": "stream",
     "text": [
      "MSE: 1.338120548390844\n",
      "RMSE: 1.1567716059753732\n",
      "MAE: 0.8276637172684461\n"
     ]
    }
   ],
   "source": [
    "MSE = mean_squared_error(y_test, y_pred3)\n",
    "print('MSE: '+str(MSE))\n",
    "RMSE = MSE**0.5\n",
    "print('RMSE: '+str(RMSE))\n",
    "MAE = mean_absolute_error(y_test, y_pred3)\n",
    "print('MAE: '+str(MAE))\n"
   ]
  },
  {
   "cell_type": "code",
   "execution_count": 92,
   "metadata": {
    "id": "E0FmNw0FRk5Y"
   },
   "outputs": [
    {
     "data": {
      "image/png": "[encoded data removed]",
      "text/plain": [
       "<Figure size 432x288 with 1 Axes>"
      ]
     },
     "metadata": {
      "needs_background": "light"
     },
     "output_type": "display_data"
    }
   ],
   "source": [
    "plt.plot(y_test, 'blue', label = 'Test')\n",
    "plt.plot(y_pred3, 'green', label = 'Predicción')\n",
    "plt.title('Comparación predicción y test')\n",
    "plt.xlabel('Datos')\n",
    "plt.ylabel('Magnitud Sismo')\n",
    "plt.grid()\n",
    "plt.legend(loc='best')\n",
    "plt.show()"
   ]
  },
  {
   "cell_type": "markdown",
   "metadata": {
    "id": "DQ4yW11qstYS"
   },
   "source": [
    "# Validación cruzada"
   ]
  },
  {
   "cell_type": "code",
   "execution_count": 93,
   "metadata": {
    "id": "6WR7bXsWsxvN"
   },
   "outputs": [],
   "source": [
    "from sklearn.model_selection import cross_val_score"
   ]
  },
  {
   "cell_type": "markdown",
   "metadata": {
    "id": "fT3n3rNFtG93"
   },
   "source": [
    "Decision Tree"
   ]
  },
  {
   "cell_type": "code",
   "execution_count": 94,
   "metadata": {
    "id": "1fAe7ASutEMk"
   },
   "outputs": [
    {
     "name": "stdout",
     "output_type": "stream",
     "text": [
      "1.0275446428571426\n"
     ]
    }
   ],
   "source": [
    "cv_ad = cross_val_score(DecisionTreeRegressor(),x,y,cv=10,scoring='neg_mean_absolute_error')\n",
    "print(-1*np.mean(cv_ad))"
   ]
  },
  {
   "cell_type": "markdown",
   "metadata": {
    "id": "TLomI5Pnt3iy"
   },
   "source": [
    "Random Forest"
   ]
  },
  {
   "cell_type": "code",
   "execution_count": 95,
   "metadata": {
    "id": "VheO6vDSt6Ru"
   },
   "outputs": [
    {
     "name": "stderr",
     "output_type": "stream",
     "text": [
      "C:\\Users\\renzo\\miniconda3\\lib\\site-packages\\sklearn\\model_selection\\_validation.py:681: DataConversionWarning: A column-vector y was passed when a 1d array was expected. Please change the shape of y to (n_samples,), for example using ravel().\n",
      "  estimator.fit(X_train, y_train, **fit_params)\n",
      "C:\\Users\\renzo\\miniconda3\\lib\\site-packages\\sklearn\\model_selection\\_validation.py:681: DataConversionWarning: A column-vector y was passed when a 1d array was expected. Please change the shape of y to (n_samples,), for example using ravel().\n",
      "  estimator.fit(X_train, y_train, **fit_params)\n",
      "C:\\Users\\renzo\\miniconda3\\lib\\site-packages\\sklearn\\model_selection\\_validation.py:681: DataConversionWarning: A column-vector y was passed when a 1d array was expected. Please change the shape of y to (n_samples,), for example using ravel().\n",
      "  estimator.fit(X_train, y_train, **fit_params)\n",
      "C:\\Users\\renzo\\miniconda3\\lib\\site-packages\\sklearn\\model_selection\\_validation.py:681: DataConversionWarning: A column-vector y was passed when a 1d array was expected. Please change the shape of y to (n_samples,), for example using ravel().\n",
      "  estimator.fit(X_train, y_train, **fit_params)\n",
      "C:\\Users\\renzo\\miniconda3\\lib\\site-packages\\sklearn\\model_selection\\_validation.py:681: DataConversionWarning: A column-vector y was passed when a 1d array was expected. Please change the shape of y to (n_samples,), for example using ravel().\n",
      "  estimator.fit(X_train, y_train, **fit_params)\n",
      "C:\\Users\\renzo\\miniconda3\\lib\\site-packages\\sklearn\\model_selection\\_validation.py:681: DataConversionWarning: A column-vector y was passed when a 1d array was expected. Please change the shape of y to (n_samples,), for example using ravel().\n",
      "  estimator.fit(X_train, y_train, **fit_params)\n",
      "C:\\Users\\renzo\\miniconda3\\lib\\site-packages\\sklearn\\model_selection\\_validation.py:681: DataConversionWarning: A column-vector y was passed when a 1d array was expected. Please change the shape of y to (n_samples,), for example using ravel().\n",
      "  estimator.fit(X_train, y_train, **fit_params)\n",
      "C:\\Users\\renzo\\miniconda3\\lib\\site-packages\\sklearn\\model_selection\\_validation.py:681: DataConversionWarning: A column-vector y was passed when a 1d array was expected. Please change the shape of y to (n_samples,), for example using ravel().\n",
      "  estimator.fit(X_train, y_train, **fit_params)\n",
      "C:\\Users\\renzo\\miniconda3\\lib\\site-packages\\sklearn\\model_selection\\_validation.py:681: DataConversionWarning: A column-vector y was passed when a 1d array was expected. Please change the shape of y to (n_samples,), for example using ravel().\n",
      "  estimator.fit(X_train, y_train, **fit_params)\n",
      "C:\\Users\\renzo\\miniconda3\\lib\\site-packages\\sklearn\\model_selection\\_validation.py:681: DataConversionWarning: A column-vector y was passed when a 1d array was expected. Please change the shape of y to (n_samples,), for example using ravel().\n",
      "  estimator.fit(X_train, y_train, **fit_params)\n"
     ]
    },
    {
     "name": "stdout",
     "output_type": "stream",
     "text": [
      "0.8526709821428572\n"
     ]
    }
   ],
   "source": [
    "cv_rf = cross_val_score(RandomForestRegressor(),x,y,cv=10,scoring='neg_mean_absolute_error')\n",
    "print(-1*np.mean(cv_rf))"
   ]
  },
  {
   "cell_type": "markdown",
   "metadata": {
    "id": "K5cv0Us1b8DE"
   },
   "source": [
    "Regresion Lineal"
   ]
  },
  {
   "cell_type": "code",
   "execution_count": 96,
   "metadata": {
    "id": "HE4_bZuzDs7W"
   },
   "outputs": [
    {
     "name": "stdout",
     "output_type": "stream",
     "text": [
      "0.8178376479175208\n"
     ]
    }
   ],
   "source": [
    "cv_rl = cross_val_score(LinearRegression(),x,y,cv=10,scoring='neg_mean_absolute_error')\n",
    "print(-1*np.mean(cv_rl))"
   ]
  }
 ],
 "metadata": {
  "colab": {
   "collapsed_sections": [
    "yiYGTIAV3-tR"
   ],
   "name": "ModeloSismos.ipynb",
   "provenance": []
  },
  "kernelspec": {
   "display_name": "Python 3",
   "language": "python",
   "name": "python3"
  },
  "language_info": {
   "codemirror_mode": {
    "name": "ipython",
    "version": 3
   },
   "file_extension": ".py",
   "mimetype": "text/x-python",
   "name": "python",
   "nbconvert_exporter": "python",
   "pygments_lexer": "ipython3",
   "version": "3.9.1"
  }
 },
 "nbformat": 4,
 "nbformat_minor": 1
}
